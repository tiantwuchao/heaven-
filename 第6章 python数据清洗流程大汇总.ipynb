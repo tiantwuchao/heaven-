{
 "cells": [
  {
   "cell_type": "markdown",
   "metadata": {
    "id": "C6F64D901B4347BDB697595B5A568FC0",
    "jupyter": {},
    "slideshow": {
     "slide_type": "slide"
    },
    "tags": []
   },
   "source": [
    "# python数据清洗"
   ]
  },
  {
   "cell_type": "markdown",
   "metadata": {
    "id": "0658D2BCA8A3489C8B88970156E8BB55",
    "jupyter": {},
    "slideshow": {
     "slide_type": "slide"
    },
    "tags": []
   },
   "source": [
    "## 1、数据的读取"
   ]
  },
  {
   "cell_type": "code",
   "execution_count": 2,
   "metadata": {
    "id": "F92DD11A56EC4195A8C4AA3B7AAA8330",
    "jupyter": {
     "outputs_hidden": true
    },
    "slideshow": {
     "slide_type": "slide"
    },
    "tags": []
   },
   "outputs": [],
   "source": [
    "#导入相应的包\n",
    "import numpy as np\n",
    "import pandas as pd"
   ]
  },
  {
   "cell_type": "code",
   "execution_count": 4,
   "metadata": {
    "id": "B8D5A5548D4248CB89FC7B02425107C2",
    "jupyter": {},
    "slideshow": {
     "slide_type": "slide"
    },
    "tags": []
   },
   "outputs": [],
   "source": [
    "#导入数据集\n",
    "df = pd.read_csv('./pandas_exercise/pandas data/taobao_data.csv')"
   ]
  },
  {
   "cell_type": "code",
   "execution_count": 5,
   "metadata": {
    "id": "94C61C1553604CA8924132CAAFC30202",
    "jupyter": {},
    "slideshow": {
     "slide_type": "slide"
    },
    "tags": []
   },
   "outputs": [
    {
     "data": {
      "text/plain": [
       "(100, 5)"
      ]
     },
     "execution_count": 5,
     "metadata": {},
     "output_type": "execute_result"
    }
   ],
   "source": [
    "#查看数据集形状\n",
    "df.shape"
   ]
  },
  {
   "cell_type": "code",
   "execution_count": 6,
   "metadata": {
    "id": "ECA95B3619764DE6B6C6E5E9BA44FACE",
    "jupyter": {},
    "slideshow": {
     "slide_type": "slide"
    },
    "tags": []
   },
   "outputs": [
    {
     "name": "stdout",
     "output_type": "stream",
     "text": [
      "<class 'pandas.core.frame.DataFrame'>\n",
      "RangeIndex: 100 entries, 0 to 99\n",
      "Data columns (total 5 columns):\n",
      "宝贝     100 non-null object\n",
      "价格     100 non-null float64\n",
      "成交量    100 non-null int64\n",
      "卖家     100 non-null object\n",
      "位置     100 non-null object\n",
      "dtypes: float64(1), int64(1), object(3)\n",
      "memory usage: 4.0+ KB\n"
     ]
    }
   ],
   "source": [
    "#快速了解数据的结构\n",
    "df.info()"
   ]
  },
  {
   "cell_type": "code",
   "execution_count": 7,
   "metadata": {
    "id": "007293BD6DAC4841AEB60A75C3B0C2EA",
    "jupyter": {},
    "slideshow": {
     "slide_type": "slide"
    },
    "tags": []
   },
   "outputs": [
    {
     "data": {
      "text/html": [
       "<div>\n",
       "<style scoped>\n",
       "    .dataframe tbody tr th:only-of-type {\n",
       "        vertical-align: middle;\n",
       "    }\n",
       "\n",
       "    .dataframe tbody tr th {\n",
       "        vertical-align: top;\n",
       "    }\n",
       "\n",
       "    .dataframe thead th {\n",
       "        text-align: right;\n",
       "    }\n",
       "</style>\n",
       "<table border=\"1\" class=\"dataframe\">\n",
       "  <thead>\n",
       "    <tr style=\"text-align: right;\">\n",
       "      <th></th>\n",
       "      <th>价格</th>\n",
       "      <th>成交量</th>\n",
       "    </tr>\n",
       "  </thead>\n",
       "  <tbody>\n",
       "    <tr>\n",
       "      <th>count</th>\n",
       "      <td>100.000000</td>\n",
       "      <td>100.00000</td>\n",
       "    </tr>\n",
       "    <tr>\n",
       "      <th>mean</th>\n",
       "      <td>231.669000</td>\n",
       "      <td>6388.93000</td>\n",
       "    </tr>\n",
       "    <tr>\n",
       "      <th>std</th>\n",
       "      <td>130.971061</td>\n",
       "      <td>2770.07536</td>\n",
       "    </tr>\n",
       "    <tr>\n",
       "      <th>min</th>\n",
       "      <td>29.000000</td>\n",
       "      <td>3956.00000</td>\n",
       "    </tr>\n",
       "    <tr>\n",
       "      <th>25%</th>\n",
       "      <td>128.750000</td>\n",
       "      <td>4476.50000</td>\n",
       "    </tr>\n",
       "    <tr>\n",
       "      <th>50%</th>\n",
       "      <td>198.000000</td>\n",
       "      <td>5314.50000</td>\n",
       "    </tr>\n",
       "    <tr>\n",
       "      <th>75%</th>\n",
       "      <td>298.000000</td>\n",
       "      <td>7053.75000</td>\n",
       "    </tr>\n",
       "    <tr>\n",
       "      <th>max</th>\n",
       "      <td>698.000000</td>\n",
       "      <td>16647.00000</td>\n",
       "    </tr>\n",
       "  </tbody>\n",
       "</table>\n",
       "</div>"
      ],
      "text/plain": [
       "               价格          成交量\n",
       "count  100.000000    100.00000\n",
       "mean   231.669000   6388.93000\n",
       "std    130.971061   2770.07536\n",
       "min     29.000000   3956.00000\n",
       "25%    128.750000   4476.50000\n",
       "50%    198.000000   5314.50000\n",
       "75%    298.000000   7053.75000\n",
       "max    698.000000  16647.00000"
      ]
     },
     "execution_count": 7,
     "metadata": {},
     "output_type": "execute_result"
    }
   ],
   "source": [
    "#快速查看数据的描述性统计信息\n",
    "df.describe()"
   ]
  },
  {
   "cell_type": "markdown",
   "metadata": {
    "id": "2E69AC925C45441884076D9B3C3F40B6",
    "jupyter": {},
    "slideshow": {
     "slide_type": "slide"
    },
    "tags": []
   },
   "source": [
    "行的选择 ——三种方法选取前5行"
   ]
  },
  {
   "cell_type": "code",
   "execution_count": 8,
   "metadata": {
    "id": "3537E69FBE1141068432427856463E98",
    "jupyter": {},
    "slideshow": {
     "slide_type": "slide"
    },
    "tags": []
   },
   "outputs": [
    {
     "data": {
      "text/html": [
       "<div>\n",
       "<style scoped>\n",
       "    .dataframe tbody tr th:only-of-type {\n",
       "        vertical-align: middle;\n",
       "    }\n",
       "\n",
       "    .dataframe tbody tr th {\n",
       "        vertical-align: top;\n",
       "    }\n",
       "\n",
       "    .dataframe thead th {\n",
       "        text-align: right;\n",
       "    }\n",
       "</style>\n",
       "<table border=\"1\" class=\"dataframe\">\n",
       "  <thead>\n",
       "    <tr style=\"text-align: right;\">\n",
       "      <th></th>\n",
       "      <th>宝贝</th>\n",
       "      <th>价格</th>\n",
       "      <th>成交量</th>\n",
       "      <th>卖家</th>\n",
       "      <th>位置</th>\n",
       "    </tr>\n",
       "  </thead>\n",
       "  <tbody>\n",
       "    <tr>\n",
       "      <th>0</th>\n",
       "      <td>新款中老年女装春装雪纺打底衫妈妈装夏装中袖宽松上衣中年人t恤</td>\n",
       "      <td>99.0</td>\n",
       "      <td>16647</td>\n",
       "      <td>夏奈凤凰旗舰店</td>\n",
       "      <td>江苏</td>\n",
       "    </tr>\n",
       "    <tr>\n",
       "      <th>1</th>\n",
       "      <td>中老年女装清凉两件套妈妈装夏装大码短袖T恤上衣雪纺衫裙裤套装</td>\n",
       "      <td>286.0</td>\n",
       "      <td>14045</td>\n",
       "      <td>夏洛特的文艺</td>\n",
       "      <td>上海</td>\n",
       "    </tr>\n",
       "    <tr>\n",
       "      <th>2</th>\n",
       "      <td>母亲节衣服夏季妈妈装夏装套装短袖中年人40-50岁中老年女装T恤</td>\n",
       "      <td>298.0</td>\n",
       "      <td>13458</td>\n",
       "      <td>云新旗舰店</td>\n",
       "      <td>江苏</td>\n",
       "    </tr>\n",
       "    <tr>\n",
       "      <th>3</th>\n",
       "      <td>母亲节衣服中老年人春装女40岁50中年妈妈装套装夏装奶奶装两件套</td>\n",
       "      <td>279.0</td>\n",
       "      <td>13340</td>\n",
       "      <td>韶妃旗舰店</td>\n",
       "      <td>浙江</td>\n",
       "    </tr>\n",
       "    <tr>\n",
       "      <th>4</th>\n",
       "      <td>中老年女装春夏装裤大码 中年妇女40-50岁妈妈装夏装套装七分裤</td>\n",
       "      <td>59.0</td>\n",
       "      <td>12939</td>\n",
       "      <td>千百奈旗舰店</td>\n",
       "      <td>江苏</td>\n",
       "    </tr>\n",
       "  </tbody>\n",
       "</table>\n",
       "</div>"
      ],
      "text/plain": [
       "                                 宝贝     价格    成交量       卖家  位置\n",
       "0    新款中老年女装春装雪纺打底衫妈妈装夏装中袖宽松上衣中年人t恤   99.0  16647  夏奈凤凰旗舰店  江苏\n",
       "1    中老年女装清凉两件套妈妈装夏装大码短袖T恤上衣雪纺衫裙裤套装  286.0  14045   夏洛特的文艺  上海\n",
       "2  母亲节衣服夏季妈妈装夏装套装短袖中年人40-50岁中老年女装T恤  298.0  13458    云新旗舰店  江苏\n",
       "3  母亲节衣服中老年人春装女40岁50中年妈妈装套装夏装奶奶装两件套  279.0  13340    韶妃旗舰店  浙江\n",
       "4  中老年女装春夏装裤大码 中年妇女40-50岁妈妈装夏装套装七分裤   59.0  12939   千百奈旗舰店  江苏"
      ]
     },
     "execution_count": 8,
     "metadata": {},
     "output_type": "execute_result"
    }
   ],
   "source": [
    "df.head()"
   ]
  },
  {
   "cell_type": "code",
   "execution_count": 9,
   "metadata": {
    "id": "75B026B052E947808FC66F0408469226",
    "jupyter": {},
    "slideshow": {
     "slide_type": "slide"
    },
    "tags": []
   },
   "outputs": [
    {
     "data": {
      "text/html": [
       "<div>\n",
       "<style scoped>\n",
       "    .dataframe tbody tr th:only-of-type {\n",
       "        vertical-align: middle;\n",
       "    }\n",
       "\n",
       "    .dataframe tbody tr th {\n",
       "        vertical-align: top;\n",
       "    }\n",
       "\n",
       "    .dataframe thead th {\n",
       "        text-align: right;\n",
       "    }\n",
       "</style>\n",
       "<table border=\"1\" class=\"dataframe\">\n",
       "  <thead>\n",
       "    <tr style=\"text-align: right;\">\n",
       "      <th></th>\n",
       "      <th>宝贝</th>\n",
       "      <th>价格</th>\n",
       "      <th>成交量</th>\n",
       "      <th>卖家</th>\n",
       "      <th>位置</th>\n",
       "    </tr>\n",
       "  </thead>\n",
       "  <tbody>\n",
       "    <tr>\n",
       "      <th>0</th>\n",
       "      <td>新款中老年女装春装雪纺打底衫妈妈装夏装中袖宽松上衣中年人t恤</td>\n",
       "      <td>99.0</td>\n",
       "      <td>16647</td>\n",
       "      <td>夏奈凤凰旗舰店</td>\n",
       "      <td>江苏</td>\n",
       "    </tr>\n",
       "    <tr>\n",
       "      <th>1</th>\n",
       "      <td>中老年女装清凉两件套妈妈装夏装大码短袖T恤上衣雪纺衫裙裤套装</td>\n",
       "      <td>286.0</td>\n",
       "      <td>14045</td>\n",
       "      <td>夏洛特的文艺</td>\n",
       "      <td>上海</td>\n",
       "    </tr>\n",
       "    <tr>\n",
       "      <th>2</th>\n",
       "      <td>母亲节衣服夏季妈妈装夏装套装短袖中年人40-50岁中老年女装T恤</td>\n",
       "      <td>298.0</td>\n",
       "      <td>13458</td>\n",
       "      <td>云新旗舰店</td>\n",
       "      <td>江苏</td>\n",
       "    </tr>\n",
       "    <tr>\n",
       "      <th>3</th>\n",
       "      <td>母亲节衣服中老年人春装女40岁50中年妈妈装套装夏装奶奶装两件套</td>\n",
       "      <td>279.0</td>\n",
       "      <td>13340</td>\n",
       "      <td>韶妃旗舰店</td>\n",
       "      <td>浙江</td>\n",
       "    </tr>\n",
       "    <tr>\n",
       "      <th>4</th>\n",
       "      <td>中老年女装春夏装裤大码 中年妇女40-50岁妈妈装夏装套装七分裤</td>\n",
       "      <td>59.0</td>\n",
       "      <td>12939</td>\n",
       "      <td>千百奈旗舰店</td>\n",
       "      <td>江苏</td>\n",
       "    </tr>\n",
       "  </tbody>\n",
       "</table>\n",
       "</div>"
      ],
      "text/plain": [
       "                                 宝贝     价格    成交量       卖家  位置\n",
       "0    新款中老年女装春装雪纺打底衫妈妈装夏装中袖宽松上衣中年人t恤   99.0  16647  夏奈凤凰旗舰店  江苏\n",
       "1    中老年女装清凉两件套妈妈装夏装大码短袖T恤上衣雪纺衫裙裤套装  286.0  14045   夏洛特的文艺  上海\n",
       "2  母亲节衣服夏季妈妈装夏装套装短袖中年人40-50岁中老年女装T恤  298.0  13458    云新旗舰店  江苏\n",
       "3  母亲节衣服中老年人春装女40岁50中年妈妈装套装夏装奶奶装两件套  279.0  13340    韶妃旗舰店  浙江\n",
       "4  中老年女装春夏装裤大码 中年妇女40-50岁妈妈装夏装套装七分裤   59.0  12939   千百奈旗舰店  江苏"
      ]
     },
     "execution_count": 9,
     "metadata": {},
     "output_type": "execute_result"
    }
   ],
   "source": [
    "df[:5]  #选择0~4行"
   ]
  },
  {
   "cell_type": "code",
   "execution_count": 10,
   "metadata": {
    "id": "B7DCA89F40E64856815973695F420AC6",
    "jupyter": {},
    "slideshow": {
     "slide_type": "slide"
    },
    "tags": []
   },
   "outputs": [
    {
     "data": {
      "text/html": [
       "<div>\n",
       "<style scoped>\n",
       "    .dataframe tbody tr th:only-of-type {\n",
       "        vertical-align: middle;\n",
       "    }\n",
       "\n",
       "    .dataframe tbody tr th {\n",
       "        vertical-align: top;\n",
       "    }\n",
       "\n",
       "    .dataframe thead th {\n",
       "        text-align: right;\n",
       "    }\n",
       "</style>\n",
       "<table border=\"1\" class=\"dataframe\">\n",
       "  <thead>\n",
       "    <tr style=\"text-align: right;\">\n",
       "      <th></th>\n",
       "      <th>宝贝</th>\n",
       "      <th>价格</th>\n",
       "      <th>成交量</th>\n",
       "      <th>卖家</th>\n",
       "      <th>位置</th>\n",
       "    </tr>\n",
       "  </thead>\n",
       "  <tbody>\n",
       "    <tr>\n",
       "      <th>0</th>\n",
       "      <td>新款中老年女装春装雪纺打底衫妈妈装夏装中袖宽松上衣中年人t恤</td>\n",
       "      <td>99.0</td>\n",
       "      <td>16647</td>\n",
       "      <td>夏奈凤凰旗舰店</td>\n",
       "      <td>江苏</td>\n",
       "    </tr>\n",
       "    <tr>\n",
       "      <th>1</th>\n",
       "      <td>中老年女装清凉两件套妈妈装夏装大码短袖T恤上衣雪纺衫裙裤套装</td>\n",
       "      <td>286.0</td>\n",
       "      <td>14045</td>\n",
       "      <td>夏洛特的文艺</td>\n",
       "      <td>上海</td>\n",
       "    </tr>\n",
       "    <tr>\n",
       "      <th>2</th>\n",
       "      <td>母亲节衣服夏季妈妈装夏装套装短袖中年人40-50岁中老年女装T恤</td>\n",
       "      <td>298.0</td>\n",
       "      <td>13458</td>\n",
       "      <td>云新旗舰店</td>\n",
       "      <td>江苏</td>\n",
       "    </tr>\n",
       "    <tr>\n",
       "      <th>3</th>\n",
       "      <td>母亲节衣服中老年人春装女40岁50中年妈妈装套装夏装奶奶装两件套</td>\n",
       "      <td>279.0</td>\n",
       "      <td>13340</td>\n",
       "      <td>韶妃旗舰店</td>\n",
       "      <td>浙江</td>\n",
       "    </tr>\n",
       "    <tr>\n",
       "      <th>4</th>\n",
       "      <td>中老年女装春夏装裤大码 中年妇女40-50岁妈妈装夏装套装七分裤</td>\n",
       "      <td>59.0</td>\n",
       "      <td>12939</td>\n",
       "      <td>千百奈旗舰店</td>\n",
       "      <td>江苏</td>\n",
       "    </tr>\n",
       "  </tbody>\n",
       "</table>\n",
       "</div>"
      ],
      "text/plain": [
       "                                 宝贝     价格    成交量       卖家  位置\n",
       "0    新款中老年女装春装雪纺打底衫妈妈装夏装中袖宽松上衣中年人t恤   99.0  16647  夏奈凤凰旗舰店  江苏\n",
       "1    中老年女装清凉两件套妈妈装夏装大码短袖T恤上衣雪纺衫裙裤套装  286.0  14045   夏洛特的文艺  上海\n",
       "2  母亲节衣服夏季妈妈装夏装套装短袖中年人40-50岁中老年女装T恤  298.0  13458    云新旗舰店  江苏\n",
       "3  母亲节衣服中老年人春装女40岁50中年妈妈装套装夏装奶奶装两件套  279.0  13340    韶妃旗舰店  浙江\n",
       "4  中老年女装春夏装裤大码 中年妇女40-50岁妈妈装夏装套装七分裤   59.0  12939   千百奈旗舰店  江苏"
      ]
     },
     "execution_count": 10,
     "metadata": {},
     "output_type": "execute_result"
    }
   ],
   "source": [
    "df.iloc[0:5] #选择0~4行"
   ]
  },
  {
   "cell_type": "code",
   "execution_count": 11,
   "metadata": {
    "id": "8C631BA8BAB54C66876EFDAD70A87DC5",
    "jupyter": {},
    "slideshow": {
     "slide_type": "slide"
    },
    "tags": []
   },
   "outputs": [
    {
     "data": {
      "text/html": [
       "<div>\n",
       "<style scoped>\n",
       "    .dataframe tbody tr th:only-of-type {\n",
       "        vertical-align: middle;\n",
       "    }\n",
       "\n",
       "    .dataframe tbody tr th {\n",
       "        vertical-align: top;\n",
       "    }\n",
       "\n",
       "    .dataframe thead th {\n",
       "        text-align: right;\n",
       "    }\n",
       "</style>\n",
       "<table border=\"1\" class=\"dataframe\">\n",
       "  <thead>\n",
       "    <tr style=\"text-align: right;\">\n",
       "      <th></th>\n",
       "      <th>宝贝</th>\n",
       "      <th>价格</th>\n",
       "      <th>成交量</th>\n",
       "      <th>卖家</th>\n",
       "      <th>位置</th>\n",
       "    </tr>\n",
       "  </thead>\n",
       "  <tbody>\n",
       "    <tr>\n",
       "      <th>0</th>\n",
       "      <td>新款中老年女装春装雪纺打底衫妈妈装夏装中袖宽松上衣中年人t恤</td>\n",
       "      <td>99.0</td>\n",
       "      <td>16647</td>\n",
       "      <td>夏奈凤凰旗舰店</td>\n",
       "      <td>江苏</td>\n",
       "    </tr>\n",
       "    <tr>\n",
       "      <th>1</th>\n",
       "      <td>中老年女装清凉两件套妈妈装夏装大码短袖T恤上衣雪纺衫裙裤套装</td>\n",
       "      <td>286.0</td>\n",
       "      <td>14045</td>\n",
       "      <td>夏洛特的文艺</td>\n",
       "      <td>上海</td>\n",
       "    </tr>\n",
       "    <tr>\n",
       "      <th>2</th>\n",
       "      <td>母亲节衣服夏季妈妈装夏装套装短袖中年人40-50岁中老年女装T恤</td>\n",
       "      <td>298.0</td>\n",
       "      <td>13458</td>\n",
       "      <td>云新旗舰店</td>\n",
       "      <td>江苏</td>\n",
       "    </tr>\n",
       "    <tr>\n",
       "      <th>3</th>\n",
       "      <td>母亲节衣服中老年人春装女40岁50中年妈妈装套装夏装奶奶装两件套</td>\n",
       "      <td>279.0</td>\n",
       "      <td>13340</td>\n",
       "      <td>韶妃旗舰店</td>\n",
       "      <td>浙江</td>\n",
       "    </tr>\n",
       "    <tr>\n",
       "      <th>4</th>\n",
       "      <td>中老年女装春夏装裤大码 中年妇女40-50岁妈妈装夏装套装七分裤</td>\n",
       "      <td>59.0</td>\n",
       "      <td>12939</td>\n",
       "      <td>千百奈旗舰店</td>\n",
       "      <td>江苏</td>\n",
       "    </tr>\n",
       "  </tbody>\n",
       "</table>\n",
       "</div>"
      ],
      "text/plain": [
       "                                 宝贝     价格    成交量       卖家  位置\n",
       "0    新款中老年女装春装雪纺打底衫妈妈装夏装中袖宽松上衣中年人t恤   99.0  16647  夏奈凤凰旗舰店  江苏\n",
       "1    中老年女装清凉两件套妈妈装夏装大码短袖T恤上衣雪纺衫裙裤套装  286.0  14045   夏洛特的文艺  上海\n",
       "2  母亲节衣服夏季妈妈装夏装套装短袖中年人40-50岁中老年女装T恤  298.0  13458    云新旗舰店  江苏\n",
       "3  母亲节衣服中老年人春装女40岁50中年妈妈装套装夏装奶奶装两件套  279.0  13340    韶妃旗舰店  浙江\n",
       "4  中老年女装春夏装裤大码 中年妇女40-50岁妈妈装夏装套装七分裤   59.0  12939   千百奈旗舰店  江苏"
      ]
     },
     "execution_count": 11,
     "metadata": {},
     "output_type": "execute_result"
    }
   ],
   "source": [
    "df.iloc[:5,:] #选择前5行"
   ]
  },
  {
   "cell_type": "code",
   "execution_count": 12,
   "metadata": {
    "id": "0E1E47CB9EBF493D9FAC1E655D964F27",
    "jupyter": {},
    "slideshow": {
     "slide_type": "slide"
    },
    "tags": []
   },
   "outputs": [
    {
     "data": {
      "text/html": [
       "<div>\n",
       "<style scoped>\n",
       "    .dataframe tbody tr th:only-of-type {\n",
       "        vertical-align: middle;\n",
       "    }\n",
       "\n",
       "    .dataframe tbody tr th {\n",
       "        vertical-align: top;\n",
       "    }\n",
       "\n",
       "    .dataframe thead th {\n",
       "        text-align: right;\n",
       "    }\n",
       "</style>\n",
       "<table border=\"1\" class=\"dataframe\">\n",
       "  <thead>\n",
       "    <tr style=\"text-align: right;\">\n",
       "      <th></th>\n",
       "      <th>宝贝</th>\n",
       "      <th>价格</th>\n",
       "      <th>成交量</th>\n",
       "      <th>卖家</th>\n",
       "      <th>位置</th>\n",
       "    </tr>\n",
       "  </thead>\n",
       "  <tbody>\n",
       "    <tr>\n",
       "      <th>0</th>\n",
       "      <td>新款中老年女装春装雪纺打底衫妈妈装夏装中袖宽松上衣中年人t恤</td>\n",
       "      <td>99.0</td>\n",
       "      <td>16647</td>\n",
       "      <td>夏奈凤凰旗舰店</td>\n",
       "      <td>江苏</td>\n",
       "    </tr>\n",
       "    <tr>\n",
       "      <th>1</th>\n",
       "      <td>中老年女装清凉两件套妈妈装夏装大码短袖T恤上衣雪纺衫裙裤套装</td>\n",
       "      <td>286.0</td>\n",
       "      <td>14045</td>\n",
       "      <td>夏洛特的文艺</td>\n",
       "      <td>上海</td>\n",
       "    </tr>\n",
       "    <tr>\n",
       "      <th>2</th>\n",
       "      <td>母亲节衣服夏季妈妈装夏装套装短袖中年人40-50岁中老年女装T恤</td>\n",
       "      <td>298.0</td>\n",
       "      <td>13458</td>\n",
       "      <td>云新旗舰店</td>\n",
       "      <td>江苏</td>\n",
       "    </tr>\n",
       "    <tr>\n",
       "      <th>3</th>\n",
       "      <td>母亲节衣服中老年人春装女40岁50中年妈妈装套装夏装奶奶装两件套</td>\n",
       "      <td>279.0</td>\n",
       "      <td>13340</td>\n",
       "      <td>韶妃旗舰店</td>\n",
       "      <td>浙江</td>\n",
       "    </tr>\n",
       "    <tr>\n",
       "      <th>4</th>\n",
       "      <td>中老年女装春夏装裤大码 中年妇女40-50岁妈妈装夏装套装七分裤</td>\n",
       "      <td>59.0</td>\n",
       "      <td>12939</td>\n",
       "      <td>千百奈旗舰店</td>\n",
       "      <td>江苏</td>\n",
       "    </tr>\n",
       "  </tbody>\n",
       "</table>\n",
       "</div>"
      ],
      "text/plain": [
       "                                 宝贝     价格    成交量       卖家  位置\n",
       "0    新款中老年女装春装雪纺打底衫妈妈装夏装中袖宽松上衣中年人t恤   99.0  16647  夏奈凤凰旗舰店  江苏\n",
       "1    中老年女装清凉两件套妈妈装夏装大码短袖T恤上衣雪纺衫裙裤套装  286.0  14045   夏洛特的文艺  上海\n",
       "2  母亲节衣服夏季妈妈装夏装套装短袖中年人40-50岁中老年女装T恤  298.0  13458    云新旗舰店  江苏\n",
       "3  母亲节衣服中老年人春装女40岁50中年妈妈装套装夏装奶奶装两件套  279.0  13340    韶妃旗舰店  浙江\n",
       "4  中老年女装春夏装裤大码 中年妇女40-50岁妈妈装夏装套装七分裤   59.0  12939   千百奈旗舰店  江苏"
      ]
     },
     "execution_count": 12,
     "metadata": {},
     "output_type": "execute_result"
    }
   ],
   "source": [
    "df.loc[:4,:] #选择前5行"
   ]
  },
  {
   "cell_type": "markdown",
   "metadata": {
    "id": "A47940D475F841CE826AF82162DA9A1E",
    "jupyter": {},
    "slideshow": {
     "slide_type": "slide"
    },
    "tags": []
   },
   "source": [
    "列的选择——三种方法选取前2列"
   ]
  },
  {
   "cell_type": "code",
   "execution_count": 13,
   "metadata": {
    "id": "94B5ECE2D54549888ED87EBC8B0B2BEA",
    "jupyter": {},
    "slideshow": {
     "slide_type": "slide"
    },
    "tags": []
   },
   "outputs": [
    {
     "data": {
      "text/html": [
       "<div>\n",
       "<style scoped>\n",
       "    .dataframe tbody tr th:only-of-type {\n",
       "        vertical-align: middle;\n",
       "    }\n",
       "\n",
       "    .dataframe tbody tr th {\n",
       "        vertical-align: top;\n",
       "    }\n",
       "\n",
       "    .dataframe thead th {\n",
       "        text-align: right;\n",
       "    }\n",
       "</style>\n",
       "<table border=\"1\" class=\"dataframe\">\n",
       "  <thead>\n",
       "    <tr style=\"text-align: right;\">\n",
       "      <th></th>\n",
       "      <th>宝贝</th>\n",
       "      <th>价格</th>\n",
       "    </tr>\n",
       "  </thead>\n",
       "  <tbody>\n",
       "    <tr>\n",
       "      <th>0</th>\n",
       "      <td>新款中老年女装春装雪纺打底衫妈妈装夏装中袖宽松上衣中年人t恤</td>\n",
       "      <td>99.0</td>\n",
       "    </tr>\n",
       "    <tr>\n",
       "      <th>1</th>\n",
       "      <td>中老年女装清凉两件套妈妈装夏装大码短袖T恤上衣雪纺衫裙裤套装</td>\n",
       "      <td>286.0</td>\n",
       "    </tr>\n",
       "  </tbody>\n",
       "</table>\n",
       "</div>"
      ],
      "text/plain": [
       "                               宝贝     价格\n",
       "0  新款中老年女装春装雪纺打底衫妈妈装夏装中袖宽松上衣中年人t恤   99.0\n",
       "1  中老年女装清凉两件套妈妈装夏装大码短袖T恤上衣雪纺衫裙裤套装  286.0"
      ]
     },
     "execution_count": 13,
     "metadata": {},
     "output_type": "execute_result"
    }
   ],
   "source": [
    "df[['宝贝','价格']].head(2)"
   ]
  },
  {
   "cell_type": "code",
   "execution_count": 14,
   "metadata": {
    "id": "84B2A7C5177D4FBAB5EF1FA4CB5E437F",
    "jupyter": {},
    "slideshow": {
     "slide_type": "slide"
    },
    "tags": []
   },
   "outputs": [
    {
     "data": {
      "text/html": [
       "<div>\n",
       "<style scoped>\n",
       "    .dataframe tbody tr th:only-of-type {\n",
       "        vertical-align: middle;\n",
       "    }\n",
       "\n",
       "    .dataframe tbody tr th {\n",
       "        vertical-align: top;\n",
       "    }\n",
       "\n",
       "    .dataframe thead th {\n",
       "        text-align: right;\n",
       "    }\n",
       "</style>\n",
       "<table border=\"1\" class=\"dataframe\">\n",
       "  <thead>\n",
       "    <tr style=\"text-align: right;\">\n",
       "      <th></th>\n",
       "      <th>宝贝</th>\n",
       "      <th>价格</th>\n",
       "    </tr>\n",
       "  </thead>\n",
       "  <tbody>\n",
       "    <tr>\n",
       "      <th>0</th>\n",
       "      <td>新款中老年女装春装雪纺打底衫妈妈装夏装中袖宽松上衣中年人t恤</td>\n",
       "      <td>99.0</td>\n",
       "    </tr>\n",
       "    <tr>\n",
       "      <th>1</th>\n",
       "      <td>中老年女装清凉两件套妈妈装夏装大码短袖T恤上衣雪纺衫裙裤套装</td>\n",
       "      <td>286.0</td>\n",
       "    </tr>\n",
       "  </tbody>\n",
       "</table>\n",
       "</div>"
      ],
      "text/plain": [
       "                               宝贝     价格\n",
       "0  新款中老年女装春装雪纺打底衫妈妈装夏装中袖宽松上衣中年人t恤   99.0\n",
       "1  中老年女装清凉两件套妈妈装夏装大码短袖T恤上衣雪纺衫裙裤套装  286.0"
      ]
     },
     "execution_count": 14,
     "metadata": {},
     "output_type": "execute_result"
    }
   ],
   "source": [
    "df.loc[:,['宝贝','价格']].head(2)"
   ]
  },
  {
   "cell_type": "code",
   "execution_count": 15,
   "metadata": {
    "id": "2FF96DCEF42A4AAC8582A3A882F7CB15",
    "jupyter": {},
    "slideshow": {
     "slide_type": "slide"
    },
    "tags": []
   },
   "outputs": [
    {
     "data": {
      "text/html": [
       "<div>\n",
       "<style scoped>\n",
       "    .dataframe tbody tr th:only-of-type {\n",
       "        vertical-align: middle;\n",
       "    }\n",
       "\n",
       "    .dataframe tbody tr th {\n",
       "        vertical-align: top;\n",
       "    }\n",
       "\n",
       "    .dataframe thead th {\n",
       "        text-align: right;\n",
       "    }\n",
       "</style>\n",
       "<table border=\"1\" class=\"dataframe\">\n",
       "  <thead>\n",
       "    <tr style=\"text-align: right;\">\n",
       "      <th></th>\n",
       "      <th>宝贝</th>\n",
       "      <th>价格</th>\n",
       "    </tr>\n",
       "  </thead>\n",
       "  <tbody>\n",
       "    <tr>\n",
       "      <th>0</th>\n",
       "      <td>新款中老年女装春装雪纺打底衫妈妈装夏装中袖宽松上衣中年人t恤</td>\n",
       "      <td>99.0</td>\n",
       "    </tr>\n",
       "    <tr>\n",
       "      <th>1</th>\n",
       "      <td>中老年女装清凉两件套妈妈装夏装大码短袖T恤上衣雪纺衫裙裤套装</td>\n",
       "      <td>286.0</td>\n",
       "    </tr>\n",
       "  </tbody>\n",
       "</table>\n",
       "</div>"
      ],
      "text/plain": [
       "                               宝贝     价格\n",
       "0  新款中老年女装春装雪纺打底衫妈妈装夏装中袖宽松上衣中年人t恤   99.0\n",
       "1  中老年女装清凉两件套妈妈装夏装大码短袖T恤上衣雪纺衫裙裤套装  286.0"
      ]
     },
     "execution_count": 15,
     "metadata": {},
     "output_type": "execute_result"
    }
   ],
   "source": [
    "df.iloc[:,:2].head(2)"
   ]
  },
  {
   "cell_type": "markdown",
   "metadata": {
    "id": "22C1E8DD1FA449FFB51E21B2C3A35AF5",
    "jupyter": {},
    "slideshow": {
     "slide_type": "slide"
    },
    "tags": []
   },
   "source": [
    "区域块的选择——三种方法选择前3行，前2列"
   ]
  },
  {
   "cell_type": "code",
   "execution_count": 16,
   "metadata": {
    "id": "52F85802C07D440CB59D0ED81CCE9C70",
    "jupyter": {},
    "slideshow": {
     "slide_type": "slide"
    },
    "tags": []
   },
   "outputs": [
    {
     "data": {
      "text/html": [
       "<div>\n",
       "<style scoped>\n",
       "    .dataframe tbody tr th:only-of-type {\n",
       "        vertical-align: middle;\n",
       "    }\n",
       "\n",
       "    .dataframe tbody tr th {\n",
       "        vertical-align: top;\n",
       "    }\n",
       "\n",
       "    .dataframe thead th {\n",
       "        text-align: right;\n",
       "    }\n",
       "</style>\n",
       "<table border=\"1\" class=\"dataframe\">\n",
       "  <thead>\n",
       "    <tr style=\"text-align: right;\">\n",
       "      <th></th>\n",
       "      <th>宝贝</th>\n",
       "      <th>价格</th>\n",
       "    </tr>\n",
       "  </thead>\n",
       "  <tbody>\n",
       "    <tr>\n",
       "      <th>0</th>\n",
       "      <td>新款中老年女装春装雪纺打底衫妈妈装夏装中袖宽松上衣中年人t恤</td>\n",
       "      <td>99.0</td>\n",
       "    </tr>\n",
       "    <tr>\n",
       "      <th>1</th>\n",
       "      <td>中老年女装清凉两件套妈妈装夏装大码短袖T恤上衣雪纺衫裙裤套装</td>\n",
       "      <td>286.0</td>\n",
       "    </tr>\n",
       "    <tr>\n",
       "      <th>2</th>\n",
       "      <td>母亲节衣服夏季妈妈装夏装套装短袖中年人40-50岁中老年女装T恤</td>\n",
       "      <td>298.0</td>\n",
       "    </tr>\n",
       "  </tbody>\n",
       "</table>\n",
       "</div>"
      ],
      "text/plain": [
       "                                 宝贝     价格\n",
       "0    新款中老年女装春装雪纺打底衫妈妈装夏装中袖宽松上衣中年人t恤   99.0\n",
       "1    中老年女装清凉两件套妈妈装夏装大码短袖T恤上衣雪纺衫裙裤套装  286.0\n",
       "2  母亲节衣服夏季妈妈装夏装套装短袖中年人40-50岁中老年女装T恤  298.0"
      ]
     },
     "execution_count": 16,
     "metadata": {},
     "output_type": "execute_result"
    }
   ],
   "source": [
    "df.iloc[:3,:2]  \n",
    "# 选择前3行，前2列"
   ]
  },
  {
   "cell_type": "code",
   "execution_count": 17,
   "metadata": {
    "id": "218D726D75A44D6380CDC4FB5F07E4E9",
    "jupyter": {
     "outputs_hidden": true
    },
    "slideshow": {
     "slide_type": "slide"
    },
    "tags": []
   },
   "outputs": [
    {
     "data": {
      "text/html": [
       "<div>\n",
       "<style scoped>\n",
       "    .dataframe tbody tr th:only-of-type {\n",
       "        vertical-align: middle;\n",
       "    }\n",
       "\n",
       "    .dataframe tbody tr th {\n",
       "        vertical-align: top;\n",
       "    }\n",
       "\n",
       "    .dataframe thead th {\n",
       "        text-align: right;\n",
       "    }\n",
       "</style>\n",
       "<table border=\"1\" class=\"dataframe\">\n",
       "  <thead>\n",
       "    <tr style=\"text-align: right;\">\n",
       "      <th></th>\n",
       "      <th>宝贝</th>\n",
       "      <th>价格</th>\n",
       "    </tr>\n",
       "  </thead>\n",
       "  <tbody>\n",
       "    <tr>\n",
       "      <th>0</th>\n",
       "      <td>新款中老年女装春装雪纺打底衫妈妈装夏装中袖宽松上衣中年人t恤</td>\n",
       "      <td>99.0</td>\n",
       "    </tr>\n",
       "    <tr>\n",
       "      <th>1</th>\n",
       "      <td>中老年女装清凉两件套妈妈装夏装大码短袖T恤上衣雪纺衫裙裤套装</td>\n",
       "      <td>286.0</td>\n",
       "    </tr>\n",
       "    <tr>\n",
       "      <th>2</th>\n",
       "      <td>母亲节衣服夏季妈妈装夏装套装短袖中年人40-50岁中老年女装T恤</td>\n",
       "      <td>298.0</td>\n",
       "    </tr>\n",
       "  </tbody>\n",
       "</table>\n",
       "</div>"
      ],
      "text/plain": [
       "                                 宝贝     价格\n",
       "0    新款中老年女装春装雪纺打底衫妈妈装夏装中袖宽松上衣中年人t恤   99.0\n",
       "1    中老年女装清凉两件套妈妈装夏装大码短袖T恤上衣雪纺衫裙裤套装  286.0\n",
       "2  母亲节衣服夏季妈妈装夏装套装短袖中年人40-50岁中老年女装T恤  298.0"
      ]
     },
     "execution_count": 17,
     "metadata": {},
     "output_type": "execute_result"
    }
   ],
   "source": [
    "df.loc[0:2,['宝贝','价格']]\n",
    "# 0:2表示行的标签"
   ]
  },
  {
   "cell_type": "code",
   "execution_count": 18,
   "metadata": {
    "id": "42792FCE0BF5432F85595098E6963D87",
    "jupyter": {},
    "slideshow": {
     "slide_type": "slide"
    },
    "tags": []
   },
   "outputs": [
    {
     "data": {
      "text/html": [
       "<div>\n",
       "<style scoped>\n",
       "    .dataframe tbody tr th:only-of-type {\n",
       "        vertical-align: middle;\n",
       "    }\n",
       "\n",
       "    .dataframe tbody tr th {\n",
       "        vertical-align: top;\n",
       "    }\n",
       "\n",
       "    .dataframe thead th {\n",
       "        text-align: right;\n",
       "    }\n",
       "</style>\n",
       "<table border=\"1\" class=\"dataframe\">\n",
       "  <thead>\n",
       "    <tr style=\"text-align: right;\">\n",
       "      <th></th>\n",
       "      <th>宝贝</th>\n",
       "      <th>价格</th>\n",
       "      <th>成交量</th>\n",
       "      <th>卖家</th>\n",
       "      <th>位置</th>\n",
       "      <th>销售额</th>\n",
       "    </tr>\n",
       "  </thead>\n",
       "  <tbody>\n",
       "    <tr>\n",
       "      <th>0</th>\n",
       "      <td>新款中老年女装春装雪纺打底衫妈妈装夏装中袖宽松上衣中年人t恤</td>\n",
       "      <td>99.0</td>\n",
       "      <td>16647</td>\n",
       "      <td>夏奈凤凰旗舰店</td>\n",
       "      <td>江苏</td>\n",
       "      <td>1648053.0</td>\n",
       "    </tr>\n",
       "    <tr>\n",
       "      <th>1</th>\n",
       "      <td>中老年女装清凉两件套妈妈装夏装大码短袖T恤上衣雪纺衫裙裤套装</td>\n",
       "      <td>286.0</td>\n",
       "      <td>14045</td>\n",
       "      <td>夏洛特的文艺</td>\n",
       "      <td>上海</td>\n",
       "      <td>4016870.0</td>\n",
       "    </tr>\n",
       "  </tbody>\n",
       "</table>\n",
       "</div>"
      ],
      "text/plain": [
       "                               宝贝     价格    成交量       卖家  位置        销售额\n",
       "0  新款中老年女装春装雪纺打底衫妈妈装夏装中袖宽松上衣中年人t恤   99.0  16647  夏奈凤凰旗舰店  江苏  1648053.0\n",
       "1  中老年女装清凉两件套妈妈装夏装大码短袖T恤上衣雪纺衫裙裤套装  286.0  14045   夏洛特的文艺  上海  4016870.0"
      ]
     },
     "execution_count": 18,
     "metadata": {},
     "output_type": "execute_result"
    }
   ],
   "source": [
    "df['销售额'] = df['价格'] * df['成交量']\n",
    "df.head(2)"
   ]
  },
  {
   "cell_type": "markdown",
   "metadata": {
    "id": "3F00853F116D4B779BA200055AB541F0",
    "jupyter": {},
    "slideshow": {
     "slide_type": "slide"
    },
    "tags": []
   },
   "source": [
    "- 增加分析的条件，价格>=100,成交量>=8000的商品信息"
   ]
  },
  {
   "cell_type": "code",
   "execution_count": 19,
   "metadata": {
    "id": "A48CD6202BCA4E57851A947EF6AAB743",
    "jupyter": {},
    "slideshow": {
     "slide_type": "slide"
    },
    "tags": []
   },
   "outputs": [
    {
     "data": {
      "text/plain": [
       "0      True\n",
       "1      True\n",
       "2      True\n",
       "3      True\n",
       "4      True\n",
       "5      True\n",
       "6      True\n",
       "7      True\n",
       "8      True\n",
       "9      True\n",
       "10     True\n",
       "11     True\n",
       "12     True\n",
       "13     True\n",
       "14     True\n",
       "15     True\n",
       "16     True\n",
       "17     True\n",
       "18     True\n",
       "19    False\n",
       "20    False\n",
       "21    False\n",
       "22    False\n",
       "23    False\n",
       "24    False\n",
       "25    False\n",
       "26    False\n",
       "27    False\n",
       "28    False\n",
       "29    False\n",
       "      ...  \n",
       "70    False\n",
       "71    False\n",
       "72    False\n",
       "73    False\n",
       "74    False\n",
       "75    False\n",
       "76    False\n",
       "77    False\n",
       "78    False\n",
       "79    False\n",
       "80    False\n",
       "81    False\n",
       "82    False\n",
       "83    False\n",
       "84    False\n",
       "85    False\n",
       "86    False\n",
       "87    False\n",
       "88    False\n",
       "89    False\n",
       "90    False\n",
       "91    False\n",
       "92    False\n",
       "93    False\n",
       "94    False\n",
       "95    False\n",
       "96    False\n",
       "97    False\n",
       "98    False\n",
       "99    False\n",
       "Name: 成交量, Length: 100, dtype: bool"
      ]
     },
     "execution_count": 19,
     "metadata": {},
     "output_type": "execute_result"
    }
   ],
   "source": [
    "df['成交量'] >=8000"
   ]
  },
  {
   "cell_type": "code",
   "execution_count": 20,
   "metadata": {
    "id": "17468F17135F4D3F951A541459B8256D",
    "jupyter": {},
    "slideshow": {
     "slide_type": "slide"
    },
    "tags": []
   },
   "outputs": [
    {
     "data": {
      "text/plain": [
       "0     False\n",
       "1      True\n",
       "2      True\n",
       "3      True\n",
       "4     False\n",
       "5      True\n",
       "6      True\n",
       "7      True\n",
       "8      True\n",
       "9      True\n",
       "10     True\n",
       "11     True\n",
       "12     True\n",
       "13     True\n",
       "14     True\n",
       "15     True\n",
       "16     True\n",
       "17     True\n",
       "18     True\n",
       "19     True\n",
       "20     True\n",
       "21     True\n",
       "22     True\n",
       "23     True\n",
       "24     True\n",
       "25     True\n",
       "26     True\n",
       "27     True\n",
       "28    False\n",
       "29     True\n",
       "      ...  \n",
       "70     True\n",
       "71     True\n",
       "72     True\n",
       "73     True\n",
       "74     True\n",
       "75     True\n",
       "76    False\n",
       "77     True\n",
       "78     True\n",
       "79    False\n",
       "80     True\n",
       "81    False\n",
       "82     True\n",
       "83     True\n",
       "84     True\n",
       "85     True\n",
       "86    False\n",
       "87     True\n",
       "88    False\n",
       "89     True\n",
       "90     True\n",
       "91     True\n",
       "92     True\n",
       "93     True\n",
       "94     True\n",
       "95     True\n",
       "96     True\n",
       "97     True\n",
       "98     True\n",
       "99     True\n",
       "Name: 价格, Length: 100, dtype: bool"
      ]
     },
     "execution_count": 20,
     "metadata": {},
     "output_type": "execute_result"
    }
   ],
   "source": [
    "df['价格']>= 100"
   ]
  },
  {
   "cell_type": "code",
   "execution_count": 21,
   "metadata": {
    "id": "FF4AAEF6C7B94F268D322578A1A4F1F9",
    "jupyter": {
     "outputs_hidden": true
    },
    "slideshow": {
     "slide_type": "slide"
    },
    "tags": []
   },
   "outputs": [
    {
     "data": {
      "text/html": [
       "<div>\n",
       "<style scoped>\n",
       "    .dataframe tbody tr th:only-of-type {\n",
       "        vertical-align: middle;\n",
       "    }\n",
       "\n",
       "    .dataframe tbody tr th {\n",
       "        vertical-align: top;\n",
       "    }\n",
       "\n",
       "    .dataframe thead th {\n",
       "        text-align: right;\n",
       "    }\n",
       "</style>\n",
       "<table border=\"1\" class=\"dataframe\">\n",
       "  <thead>\n",
       "    <tr style=\"text-align: right;\">\n",
       "      <th></th>\n",
       "      <th>宝贝</th>\n",
       "      <th>价格</th>\n",
       "      <th>成交量</th>\n",
       "      <th>卖家</th>\n",
       "      <th>位置</th>\n",
       "      <th>销售额</th>\n",
       "    </tr>\n",
       "  </thead>\n",
       "  <tbody>\n",
       "    <tr>\n",
       "      <th>1</th>\n",
       "      <td>中老年女装清凉两件套妈妈装夏装大码短袖T恤上衣雪纺衫裙裤套装</td>\n",
       "      <td>286.0</td>\n",
       "      <td>14045</td>\n",
       "      <td>夏洛特的文艺</td>\n",
       "      <td>上海</td>\n",
       "      <td>4016870.0</td>\n",
       "    </tr>\n",
       "    <tr>\n",
       "      <th>2</th>\n",
       "      <td>母亲节衣服夏季妈妈装夏装套装短袖中年人40-50岁中老年女装T恤</td>\n",
       "      <td>298.0</td>\n",
       "      <td>13458</td>\n",
       "      <td>云新旗舰店</td>\n",
       "      <td>江苏</td>\n",
       "      <td>4010484.0</td>\n",
       "    </tr>\n",
       "    <tr>\n",
       "      <th>3</th>\n",
       "      <td>母亲节衣服中老年人春装女40岁50中年妈妈装套装夏装奶奶装两件套</td>\n",
       "      <td>279.0</td>\n",
       "      <td>13340</td>\n",
       "      <td>韶妃旗舰店</td>\n",
       "      <td>浙江</td>\n",
       "      <td>3721860.0</td>\n",
       "    </tr>\n",
       "    <tr>\n",
       "      <th>5</th>\n",
       "      <td>中老年女装夏装短袖T恤40-50岁中年春装30打底衫妈妈装母亲节衣服</td>\n",
       "      <td>198.0</td>\n",
       "      <td>12664</td>\n",
       "      <td>依安雅旗舰店</td>\n",
       "      <td>江苏</td>\n",
       "      <td>2507472.0</td>\n",
       "    </tr>\n",
       "    <tr>\n",
       "      <th>6</th>\n",
       "      <td>妈妈装春夏装T恤宽松雪纺衬衫40-50岁中老年女装大码中袖上衣套装</td>\n",
       "      <td>199.0</td>\n",
       "      <td>12398</td>\n",
       "      <td>千百萌旗舰店</td>\n",
       "      <td>湖北</td>\n",
       "      <td>2467202.0</td>\n",
       "    </tr>\n",
       "    <tr>\n",
       "      <th>7</th>\n",
       "      <td>中老年女装夏季T恤雪纺衫妈妈装夏装套装短袖中年妇女40-50岁t恤</td>\n",
       "      <td>288.0</td>\n",
       "      <td>12087</td>\n",
       "      <td>zxtvszml</td>\n",
       "      <td>江苏</td>\n",
       "      <td>3481056.0</td>\n",
       "    </tr>\n",
       "    <tr>\n",
       "      <th>8</th>\n",
       "      <td>妈妈夏装两件套母亲节衣服老人上衣60-70岁人夏季中老年女装套装</td>\n",
       "      <td>298.0</td>\n",
       "      <td>11655</td>\n",
       "      <td>ceo放牛</td>\n",
       "      <td>江苏</td>\n",
       "      <td>3473190.0</td>\n",
       "    </tr>\n",
       "    <tr>\n",
       "      <th>9</th>\n",
       "      <td>中老年女装夏装套装圆领上衣裤子夏季中年妈妈装短袖T恤两件套</td>\n",
       "      <td>189.0</td>\n",
       "      <td>11632</td>\n",
       "      <td>简港旗舰店</td>\n",
       "      <td>上海</td>\n",
       "      <td>2198448.0</td>\n",
       "    </tr>\n",
       "    <tr>\n",
       "      <th>10</th>\n",
       "      <td>母亲节衣服夏季中年女装春装套装40-50岁妈妈装外套中老年人上衣</td>\n",
       "      <td>258.0</td>\n",
       "      <td>11568</td>\n",
       "      <td>朵莹旗舰店</td>\n",
       "      <td>浙江</td>\n",
       "      <td>2984544.0</td>\n",
       "    </tr>\n",
       "    <tr>\n",
       "      <th>11</th>\n",
       "      <td>母亲节衣服中老年人女装奶奶短袖两件套中年40岁胖妈妈装夏装套装</td>\n",
       "      <td>177.0</td>\n",
       "      <td>11125</td>\n",
       "      <td>依诗曼妮</td>\n",
       "      <td>江苏</td>\n",
       "      <td>1969125.0</td>\n",
       "    </tr>\n",
       "    <tr>\n",
       "      <th>12</th>\n",
       "      <td>母亲节中老年女装短袖t恤40-50岁中年妈妈装夏装套装上衣两件套</td>\n",
       "      <td>298.0</td>\n",
       "      <td>10366</td>\n",
       "      <td>夕牧旗舰店</td>\n",
       "      <td>江苏</td>\n",
       "      <td>3089068.0</td>\n",
       "    </tr>\n",
       "    <tr>\n",
       "      <th>13</th>\n",
       "      <td>母亲节中老年女装短袖t恤40-50岁中年妈妈装夏装雪纺两件套装</td>\n",
       "      <td>124.0</td>\n",
       "      <td>9113</td>\n",
       "      <td>绰美佳人旗舰店</td>\n",
       "      <td>江苏</td>\n",
       "      <td>1130012.0</td>\n",
       "    </tr>\n",
       "    <tr>\n",
       "      <th>14</th>\n",
       "      <td>中老年女装春装真两件套长袖针织开衫外套妈妈装夏装短袖T恤上衣</td>\n",
       "      <td>138.0</td>\n",
       "      <td>9060</td>\n",
       "      <td>冉献兵</td>\n",
       "      <td>浙江</td>\n",
       "      <td>1250280.0</td>\n",
       "    </tr>\n",
       "    <tr>\n",
       "      <th>15</th>\n",
       "      <td>母亲节衣服夏季中年女装夏装短袖40-50岁妈妈装中老年女装连衣裙</td>\n",
       "      <td>298.0</td>\n",
       "      <td>8843</td>\n",
       "      <td>蒲洛妃旗舰店</td>\n",
       "      <td>江苏</td>\n",
       "      <td>2635214.0</td>\n",
       "    </tr>\n",
       "    <tr>\n",
       "      <th>16</th>\n",
       "      <td>母亲节妈妈夏装套装中老年雪纺衫中年女春装阔腿裤两件套40岁衣服</td>\n",
       "      <td>318.0</td>\n",
       "      <td>8580</td>\n",
       "      <td>薇诗琪旗舰店</td>\n",
       "      <td>湖北</td>\n",
       "      <td>2728440.0</td>\n",
       "    </tr>\n",
       "    <tr>\n",
       "      <th>17</th>\n",
       "      <td>中老年人女装妈妈装夏装大码短袖T恤中年妇女夏季40-50岁新款上衣</td>\n",
       "      <td>298.0</td>\n",
       "      <td>8319</td>\n",
       "      <td>网罗世间物</td>\n",
       "      <td>江苏</td>\n",
       "      <td>2479062.0</td>\n",
       "    </tr>\n",
       "    <tr>\n",
       "      <th>18</th>\n",
       "      <td>中老年人女装套装妈妈装夏装大码奶奶装40-50岁60短袖T恤70两件套</td>\n",
       "      <td>399.0</td>\n",
       "      <td>8072</td>\n",
       "      <td>玛依恋旗舰店</td>\n",
       "      <td>江苏</td>\n",
       "      <td>3220728.0</td>\n",
       "    </tr>\n",
       "  </tbody>\n",
       "</table>\n",
       "</div>"
      ],
      "text/plain": [
       "                                     宝贝     价格    成交量        卖家  位置        销售额\n",
       "1        中老年女装清凉两件套妈妈装夏装大码短袖T恤上衣雪纺衫裙裤套装  286.0  14045    夏洛特的文艺  上海  4016870.0\n",
       "2      母亲节衣服夏季妈妈装夏装套装短袖中年人40-50岁中老年女装T恤  298.0  13458     云新旗舰店  江苏  4010484.0\n",
       "3      母亲节衣服中老年人春装女40岁50中年妈妈装套装夏装奶奶装两件套  279.0  13340     韶妃旗舰店  浙江  3721860.0\n",
       "5    中老年女装夏装短袖T恤40-50岁中年春装30打底衫妈妈装母亲节衣服  198.0  12664    依安雅旗舰店  江苏  2507472.0\n",
       "6     妈妈装春夏装T恤宽松雪纺衬衫40-50岁中老年女装大码中袖上衣套装  199.0  12398    千百萌旗舰店  湖北  2467202.0\n",
       "7     中老年女装夏季T恤雪纺衫妈妈装夏装套装短袖中年妇女40-50岁t恤  288.0  12087  zxtvszml  江苏  3481056.0\n",
       "8      妈妈夏装两件套母亲节衣服老人上衣60-70岁人夏季中老年女装套装  298.0  11655     ceo放牛  江苏  3473190.0\n",
       "9         中老年女装夏装套装圆领上衣裤子夏季中年妈妈装短袖T恤两件套  189.0  11632     简港旗舰店  上海  2198448.0\n",
       "10     母亲节衣服夏季中年女装春装套装40-50岁妈妈装外套中老年人上衣  258.0  11568     朵莹旗舰店  浙江  2984544.0\n",
       "11      母亲节衣服中老年人女装奶奶短袖两件套中年40岁胖妈妈装夏装套装  177.0  11125      依诗曼妮  江苏  1969125.0\n",
       "12     母亲节中老年女装短袖t恤40-50岁中年妈妈装夏装套装上衣两件套  298.0  10366     夕牧旗舰店  江苏  3089068.0\n",
       "13      母亲节中老年女装短袖t恤40-50岁中年妈妈装夏装雪纺两件套装  124.0   9113   绰美佳人旗舰店  江苏  1130012.0\n",
       "14       中老年女装春装真两件套长袖针织开衫外套妈妈装夏装短袖T恤上衣  138.0   9060       冉献兵  浙江  1250280.0\n",
       "15     母亲节衣服夏季中年女装夏装短袖40-50岁妈妈装中老年女装连衣裙  298.0   8843    蒲洛妃旗舰店  江苏  2635214.0\n",
       "16      母亲节妈妈夏装套装中老年雪纺衫中年女春装阔腿裤两件套40岁衣服  318.0   8580    薇诗琪旗舰店  湖北  2728440.0\n",
       "17    中老年人女装妈妈装夏装大码短袖T恤中年妇女夏季40-50岁新款上衣  298.0   8319     网罗世间物  江苏  2479062.0\n",
       "18  中老年人女装套装妈妈装夏装大码奶奶装40-50岁60短袖T恤70两件套  399.0   8072    玛依恋旗舰店  江苏  3220728.0"
      ]
     },
     "execution_count": 21,
     "metadata": {},
     "output_type": "execute_result"
    }
   ],
   "source": [
    "#和关系的集合逻辑\n",
    "df[(df['价格']>=100) & (df['成交量']>=8000)]"
   ]
  },
  {
   "cell_type": "code",
   "execution_count": 22,
   "metadata": {
    "id": "D4F4638A18C947CF8A8D269E7B322A4A",
    "jupyter": {},
    "slideshow": {
     "slide_type": "slide"
    },
    "tags": []
   },
   "outputs": [
    {
     "data": {
      "text/html": [
       "<div>\n",
       "<style scoped>\n",
       "    .dataframe tbody tr th:only-of-type {\n",
       "        vertical-align: middle;\n",
       "    }\n",
       "\n",
       "    .dataframe tbody tr th {\n",
       "        vertical-align: top;\n",
       "    }\n",
       "\n",
       "    .dataframe thead th {\n",
       "        text-align: right;\n",
       "    }\n",
       "</style>\n",
       "<table border=\"1\" class=\"dataframe\">\n",
       "  <thead>\n",
       "    <tr style=\"text-align: right;\">\n",
       "      <th></th>\n",
       "      <th>宝贝</th>\n",
       "      <th>价格</th>\n",
       "      <th>成交量</th>\n",
       "      <th>卖家</th>\n",
       "      <th>位置</th>\n",
       "      <th>销售额</th>\n",
       "    </tr>\n",
       "  </thead>\n",
       "  <tbody>\n",
       "    <tr>\n",
       "      <th>1</th>\n",
       "      <td>中老年女装清凉两件套妈妈装夏装大码短袖T恤上衣雪纺衫裙裤套装</td>\n",
       "      <td>286.0</td>\n",
       "      <td>14045</td>\n",
       "      <td>夏洛特的文艺</td>\n",
       "      <td>上海</td>\n",
       "      <td>4016870.0</td>\n",
       "    </tr>\n",
       "    <tr>\n",
       "      <th>2</th>\n",
       "      <td>母亲节衣服夏季妈妈装夏装套装短袖中年人40-50岁中老年女装T恤</td>\n",
       "      <td>298.0</td>\n",
       "      <td>13458</td>\n",
       "      <td>云新旗舰店</td>\n",
       "      <td>江苏</td>\n",
       "      <td>4010484.0</td>\n",
       "    </tr>\n",
       "    <tr>\n",
       "      <th>3</th>\n",
       "      <td>母亲节衣服中老年人春装女40岁50中年妈妈装套装夏装奶奶装两件套</td>\n",
       "      <td>279.0</td>\n",
       "      <td>13340</td>\n",
       "      <td>韶妃旗舰店</td>\n",
       "      <td>浙江</td>\n",
       "      <td>3721860.0</td>\n",
       "    </tr>\n",
       "    <tr>\n",
       "      <th>5</th>\n",
       "      <td>中老年女装夏装短袖T恤40-50岁中年春装30打底衫妈妈装母亲节衣服</td>\n",
       "      <td>198.0</td>\n",
       "      <td>12664</td>\n",
       "      <td>依安雅旗舰店</td>\n",
       "      <td>江苏</td>\n",
       "      <td>2507472.0</td>\n",
       "    </tr>\n",
       "    <tr>\n",
       "      <th>6</th>\n",
       "      <td>妈妈装春夏装T恤宽松雪纺衬衫40-50岁中老年女装大码中袖上衣套装</td>\n",
       "      <td>199.0</td>\n",
       "      <td>12398</td>\n",
       "      <td>千百萌旗舰店</td>\n",
       "      <td>湖北</td>\n",
       "      <td>2467202.0</td>\n",
       "    </tr>\n",
       "    <tr>\n",
       "      <th>7</th>\n",
       "      <td>中老年女装夏季T恤雪纺衫妈妈装夏装套装短袖中年妇女40-50岁t恤</td>\n",
       "      <td>288.0</td>\n",
       "      <td>12087</td>\n",
       "      <td>zxtvszml</td>\n",
       "      <td>江苏</td>\n",
       "      <td>3481056.0</td>\n",
       "    </tr>\n",
       "    <tr>\n",
       "      <th>8</th>\n",
       "      <td>妈妈夏装两件套母亲节衣服老人上衣60-70岁人夏季中老年女装套装</td>\n",
       "      <td>298.0</td>\n",
       "      <td>11655</td>\n",
       "      <td>ceo放牛</td>\n",
       "      <td>江苏</td>\n",
       "      <td>3473190.0</td>\n",
       "    </tr>\n",
       "    <tr>\n",
       "      <th>9</th>\n",
       "      <td>中老年女装夏装套装圆领上衣裤子夏季中年妈妈装短袖T恤两件套</td>\n",
       "      <td>189.0</td>\n",
       "      <td>11632</td>\n",
       "      <td>简港旗舰店</td>\n",
       "      <td>上海</td>\n",
       "      <td>2198448.0</td>\n",
       "    </tr>\n",
       "    <tr>\n",
       "      <th>10</th>\n",
       "      <td>母亲节衣服夏季中年女装春装套装40-50岁妈妈装外套中老年人上衣</td>\n",
       "      <td>258.0</td>\n",
       "      <td>11568</td>\n",
       "      <td>朵莹旗舰店</td>\n",
       "      <td>浙江</td>\n",
       "      <td>2984544.0</td>\n",
       "    </tr>\n",
       "    <tr>\n",
       "      <th>11</th>\n",
       "      <td>母亲节衣服中老年人女装奶奶短袖两件套中年40岁胖妈妈装夏装套装</td>\n",
       "      <td>177.0</td>\n",
       "      <td>11125</td>\n",
       "      <td>依诗曼妮</td>\n",
       "      <td>江苏</td>\n",
       "      <td>1969125.0</td>\n",
       "    </tr>\n",
       "    <tr>\n",
       "      <th>12</th>\n",
       "      <td>母亲节中老年女装短袖t恤40-50岁中年妈妈装夏装套装上衣两件套</td>\n",
       "      <td>298.0</td>\n",
       "      <td>10366</td>\n",
       "      <td>夕牧旗舰店</td>\n",
       "      <td>江苏</td>\n",
       "      <td>3089068.0</td>\n",
       "    </tr>\n",
       "    <tr>\n",
       "      <th>13</th>\n",
       "      <td>母亲节中老年女装短袖t恤40-50岁中年妈妈装夏装雪纺两件套装</td>\n",
       "      <td>124.0</td>\n",
       "      <td>9113</td>\n",
       "      <td>绰美佳人旗舰店</td>\n",
       "      <td>江苏</td>\n",
       "      <td>1130012.0</td>\n",
       "    </tr>\n",
       "    <tr>\n",
       "      <th>14</th>\n",
       "      <td>中老年女装春装真两件套长袖针织开衫外套妈妈装夏装短袖T恤上衣</td>\n",
       "      <td>138.0</td>\n",
       "      <td>9060</td>\n",
       "      <td>冉献兵</td>\n",
       "      <td>浙江</td>\n",
       "      <td>1250280.0</td>\n",
       "    </tr>\n",
       "    <tr>\n",
       "      <th>15</th>\n",
       "      <td>母亲节衣服夏季中年女装夏装短袖40-50岁妈妈装中老年女装连衣裙</td>\n",
       "      <td>298.0</td>\n",
       "      <td>8843</td>\n",
       "      <td>蒲洛妃旗舰店</td>\n",
       "      <td>江苏</td>\n",
       "      <td>2635214.0</td>\n",
       "    </tr>\n",
       "    <tr>\n",
       "      <th>16</th>\n",
       "      <td>母亲节妈妈夏装套装中老年雪纺衫中年女春装阔腿裤两件套40岁衣服</td>\n",
       "      <td>318.0</td>\n",
       "      <td>8580</td>\n",
       "      <td>薇诗琪旗舰店</td>\n",
       "      <td>湖北</td>\n",
       "      <td>2728440.0</td>\n",
       "    </tr>\n",
       "    <tr>\n",
       "      <th>17</th>\n",
       "      <td>中老年人女装妈妈装夏装大码短袖T恤中年妇女夏季40-50岁新款上衣</td>\n",
       "      <td>298.0</td>\n",
       "      <td>8319</td>\n",
       "      <td>网罗世间物</td>\n",
       "      <td>江苏</td>\n",
       "      <td>2479062.0</td>\n",
       "    </tr>\n",
       "    <tr>\n",
       "      <th>18</th>\n",
       "      <td>中老年人女装套装妈妈装夏装大码奶奶装40-50岁60短袖T恤70两件套</td>\n",
       "      <td>399.0</td>\n",
       "      <td>8072</td>\n",
       "      <td>玛依恋旗舰店</td>\n",
       "      <td>江苏</td>\n",
       "      <td>3220728.0</td>\n",
       "    </tr>\n",
       "  </tbody>\n",
       "</table>\n",
       "</div>"
      ],
      "text/plain": [
       "                                     宝贝     价格    成交量        卖家  位置        销售额\n",
       "1        中老年女装清凉两件套妈妈装夏装大码短袖T恤上衣雪纺衫裙裤套装  286.0  14045    夏洛特的文艺  上海  4016870.0\n",
       "2      母亲节衣服夏季妈妈装夏装套装短袖中年人40-50岁中老年女装T恤  298.0  13458     云新旗舰店  江苏  4010484.0\n",
       "3      母亲节衣服中老年人春装女40岁50中年妈妈装套装夏装奶奶装两件套  279.0  13340     韶妃旗舰店  浙江  3721860.0\n",
       "5    中老年女装夏装短袖T恤40-50岁中年春装30打底衫妈妈装母亲节衣服  198.0  12664    依安雅旗舰店  江苏  2507472.0\n",
       "6     妈妈装春夏装T恤宽松雪纺衬衫40-50岁中老年女装大码中袖上衣套装  199.0  12398    千百萌旗舰店  湖北  2467202.0\n",
       "7     中老年女装夏季T恤雪纺衫妈妈装夏装套装短袖中年妇女40-50岁t恤  288.0  12087  zxtvszml  江苏  3481056.0\n",
       "8      妈妈夏装两件套母亲节衣服老人上衣60-70岁人夏季中老年女装套装  298.0  11655     ceo放牛  江苏  3473190.0\n",
       "9         中老年女装夏装套装圆领上衣裤子夏季中年妈妈装短袖T恤两件套  189.0  11632     简港旗舰店  上海  2198448.0\n",
       "10     母亲节衣服夏季中年女装春装套装40-50岁妈妈装外套中老年人上衣  258.0  11568     朵莹旗舰店  浙江  2984544.0\n",
       "11      母亲节衣服中老年人女装奶奶短袖两件套中年40岁胖妈妈装夏装套装  177.0  11125      依诗曼妮  江苏  1969125.0\n",
       "12     母亲节中老年女装短袖t恤40-50岁中年妈妈装夏装套装上衣两件套  298.0  10366     夕牧旗舰店  江苏  3089068.0\n",
       "13      母亲节中老年女装短袖t恤40-50岁中年妈妈装夏装雪纺两件套装  124.0   9113   绰美佳人旗舰店  江苏  1130012.0\n",
       "14       中老年女装春装真两件套长袖针织开衫外套妈妈装夏装短袖T恤上衣  138.0   9060       冉献兵  浙江  1250280.0\n",
       "15     母亲节衣服夏季中年女装夏装短袖40-50岁妈妈装中老年女装连衣裙  298.0   8843    蒲洛妃旗舰店  江苏  2635214.0\n",
       "16      母亲节妈妈夏装套装中老年雪纺衫中年女春装阔腿裤两件套40岁衣服  318.0   8580    薇诗琪旗舰店  湖北  2728440.0\n",
       "17    中老年人女装妈妈装夏装大码短袖T恤中年妇女夏季40-50岁新款上衣  298.0   8319     网罗世间物  江苏  2479062.0\n",
       "18  中老年人女装套装妈妈装夏装大码奶奶装40-50岁60短袖T恤70两件套  399.0   8072    玛依恋旗舰店  江苏  3220728.0"
      ]
     },
     "execution_count": 22,
     "metadata": {},
     "output_type": "execute_result"
    }
   ],
   "source": [
    "df[~(df.价格<100) & ~(df.成交量 < 8000)]  # 取相反"
   ]
  },
  {
   "cell_type": "code",
   "execution_count": 23,
   "metadata": {
    "id": "2538C755452344E4945B624E002839D4",
    "jupyter": {},
    "slideshow": {
     "slide_type": "slide"
    },
    "tags": []
   },
   "outputs": [
    {
     "data": {
      "text/html": [
       "<div>\n",
       "<style scoped>\n",
       "    .dataframe tbody tr th:only-of-type {\n",
       "        vertical-align: middle;\n",
       "    }\n",
       "\n",
       "    .dataframe tbody tr th {\n",
       "        vertical-align: top;\n",
       "    }\n",
       "\n",
       "    .dataframe thead th {\n",
       "        text-align: right;\n",
       "    }\n",
       "</style>\n",
       "<table border=\"1\" class=\"dataframe\">\n",
       "  <thead>\n",
       "    <tr style=\"text-align: right;\">\n",
       "      <th></th>\n",
       "      <th>宝贝</th>\n",
       "      <th>价格</th>\n",
       "      <th>成交量</th>\n",
       "      <th>卖家</th>\n",
       "      <th>销售额</th>\n",
       "    </tr>\n",
       "    <tr>\n",
       "      <th>位置</th>\n",
       "      <th></th>\n",
       "      <th></th>\n",
       "      <th></th>\n",
       "      <th></th>\n",
       "      <th></th>\n",
       "    </tr>\n",
       "  </thead>\n",
       "  <tbody>\n",
       "    <tr>\n",
       "      <th>江苏</th>\n",
       "      <td>新款中老年女装春装雪纺打底衫妈妈装夏装中袖宽松上衣中年人t恤</td>\n",
       "      <td>99.0</td>\n",
       "      <td>16647</td>\n",
       "      <td>夏奈凤凰旗舰店</td>\n",
       "      <td>1648053.0</td>\n",
       "    </tr>\n",
       "    <tr>\n",
       "      <th>上海</th>\n",
       "      <td>中老年女装清凉两件套妈妈装夏装大码短袖T恤上衣雪纺衫裙裤套装</td>\n",
       "      <td>286.0</td>\n",
       "      <td>14045</td>\n",
       "      <td>夏洛特的文艺</td>\n",
       "      <td>4016870.0</td>\n",
       "    </tr>\n",
       "  </tbody>\n",
       "</table>\n",
       "</div>"
      ],
      "text/plain": [
       "                                宝贝     价格    成交量       卖家        销售额\n",
       "位置                                                                  \n",
       "江苏  新款中老年女装春装雪纺打底衫妈妈装夏装中袖宽松上衣中年人t恤   99.0  16647  夏奈凤凰旗舰店  1648053.0\n",
       "上海  中老年女装清凉两件套妈妈装夏装大码短袖T恤上衣雪纺衫裙裤套装  286.0  14045   夏洛特的文艺  4016870.0"
      ]
     },
     "execution_count": 23,
     "metadata": {},
     "output_type": "execute_result"
    }
   ],
   "source": [
    "# 将位置设置为索引\n",
    "df1=df.set_index('位置')\n",
    "df1.head(2)"
   ]
  },
  {
   "cell_type": "code",
   "execution_count": 24,
   "metadata": {
    "id": "E7CA1039898F459981684C97F242F047",
    "jupyter": {
     "outputs_hidden": true
    },
    "slideshow": {
     "slide_type": "slide"
    },
    "tags": []
   },
   "outputs": [
    {
     "data": {
      "text/html": [
       "<div>\n",
       "<style scoped>\n",
       "    .dataframe tbody tr th:only-of-type {\n",
       "        vertical-align: middle;\n",
       "    }\n",
       "\n",
       "    .dataframe tbody tr th {\n",
       "        vertical-align: top;\n",
       "    }\n",
       "\n",
       "    .dataframe thead th {\n",
       "        text-align: right;\n",
       "    }\n",
       "</style>\n",
       "<table border=\"1\" class=\"dataframe\">\n",
       "  <thead>\n",
       "    <tr style=\"text-align: right;\">\n",
       "      <th></th>\n",
       "      <th></th>\n",
       "      <th>宝贝</th>\n",
       "      <th>价格</th>\n",
       "      <th>成交量</th>\n",
       "      <th>销售额</th>\n",
       "    </tr>\n",
       "    <tr>\n",
       "      <th>位置</th>\n",
       "      <th>卖家</th>\n",
       "      <th></th>\n",
       "      <th></th>\n",
       "      <th></th>\n",
       "      <th></th>\n",
       "    </tr>\n",
       "  </thead>\n",
       "  <tbody>\n",
       "    <tr>\n",
       "      <th>江苏</th>\n",
       "      <th>夏奈凤凰旗舰店</th>\n",
       "      <td>新款中老年女装春装雪纺打底衫妈妈装夏装中袖宽松上衣中年人t恤</td>\n",
       "      <td>99.0</td>\n",
       "      <td>16647</td>\n",
       "      <td>1648053.0</td>\n",
       "    </tr>\n",
       "    <tr>\n",
       "      <th>上海</th>\n",
       "      <th>夏洛特的文艺</th>\n",
       "      <td>中老年女装清凉两件套妈妈装夏装大码短袖T恤上衣雪纺衫裙裤套装</td>\n",
       "      <td>286.0</td>\n",
       "      <td>14045</td>\n",
       "      <td>4016870.0</td>\n",
       "    </tr>\n",
       "    <tr>\n",
       "      <th>江苏</th>\n",
       "      <th>云新旗舰店</th>\n",
       "      <td>母亲节衣服夏季妈妈装夏装套装短袖中年人40-50岁中老年女装T恤</td>\n",
       "      <td>298.0</td>\n",
       "      <td>13458</td>\n",
       "      <td>4010484.0</td>\n",
       "    </tr>\n",
       "    <tr>\n",
       "      <th>浙江</th>\n",
       "      <th>韶妃旗舰店</th>\n",
       "      <td>母亲节衣服中老年人春装女40岁50中年妈妈装套装夏装奶奶装两件套</td>\n",
       "      <td>279.0</td>\n",
       "      <td>13340</td>\n",
       "      <td>3721860.0</td>\n",
       "    </tr>\n",
       "    <tr>\n",
       "      <th>江苏</th>\n",
       "      <th>千百奈旗舰店</th>\n",
       "      <td>中老年女装春夏装裤大码 中年妇女40-50岁妈妈装夏装套装七分裤</td>\n",
       "      <td>59.0</td>\n",
       "      <td>12939</td>\n",
       "      <td>763401.0</td>\n",
       "    </tr>\n",
       "  </tbody>\n",
       "</table>\n",
       "</div>"
      ],
      "text/plain": [
       "                                          宝贝     价格    成交量        销售额\n",
       "位置 卖家                                                                \n",
       "江苏 夏奈凤凰旗舰店    新款中老年女装春装雪纺打底衫妈妈装夏装中袖宽松上衣中年人t恤   99.0  16647  1648053.0\n",
       "上海 夏洛特的文艺     中老年女装清凉两件套妈妈装夏装大码短袖T恤上衣雪纺衫裙裤套装  286.0  14045  4016870.0\n",
       "江苏 云新旗舰店    母亲节衣服夏季妈妈装夏装套装短袖中年人40-50岁中老年女装T恤  298.0  13458  4010484.0\n",
       "浙江 韶妃旗舰店    母亲节衣服中老年人春装女40岁50中年妈妈装套装夏装奶奶装两件套  279.0  13340  3721860.0\n",
       "江苏 千百奈旗舰店   中老年女装春夏装裤大码 中年妇女40-50岁妈妈装夏装套装七分裤   59.0  12939   763401.0"
      ]
     },
     "execution_count": 24,
     "metadata": {},
     "output_type": "execute_result"
    }
   ],
   "source": [
    "df3=df.set_index(['位置','卖家'])\n",
    "# 设置‘位置’与‘卖家’为索引\n",
    "# 并根据位置进行排序\n",
    "df3.head()"
   ]
  },
  {
   "cell_type": "code",
   "execution_count": 25,
   "metadata": {
    "id": "B726E75BFA254B899974A08BC0F19D26",
    "jupyter": {},
    "slideshow": {
     "slide_type": "slide"
    },
    "tags": []
   },
   "outputs": [
    {
     "data": {
      "text/html": [
       "<div>\n",
       "<style scoped>\n",
       "    .dataframe tbody tr th:only-of-type {\n",
       "        vertical-align: middle;\n",
       "    }\n",
       "\n",
       "    .dataframe tbody tr th {\n",
       "        vertical-align: top;\n",
       "    }\n",
       "\n",
       "    .dataframe thead th {\n",
       "        text-align: right;\n",
       "    }\n",
       "</style>\n",
       "<table border=\"1\" class=\"dataframe\">\n",
       "  <thead>\n",
       "    <tr style=\"text-align: right;\">\n",
       "      <th></th>\n",
       "      <th>宝贝</th>\n",
       "      <th>价格</th>\n",
       "      <th>成交量</th>\n",
       "      <th>卖家</th>\n",
       "      <th>位置</th>\n",
       "      <th>销售额</th>\n",
       "    </tr>\n",
       "  </thead>\n",
       "  <tbody>\n",
       "    <tr>\n",
       "      <th>0</th>\n",
       "      <td>新款中老年女装春装雪纺打底衫妈妈装夏装中袖宽松上衣中年人t恤</td>\n",
       "      <td>99.0</td>\n",
       "      <td>16647</td>\n",
       "      <td>夏奈凤凰旗舰店</td>\n",
       "      <td>江苏</td>\n",
       "      <td>1648053.0</td>\n",
       "    </tr>\n",
       "    <tr>\n",
       "      <th>1</th>\n",
       "      <td>中老年女装清凉两件套妈妈装夏装大码短袖T恤上衣雪纺衫裙裤套装</td>\n",
       "      <td>286.0</td>\n",
       "      <td>14045</td>\n",
       "      <td>夏洛特的文艺</td>\n",
       "      <td>上海</td>\n",
       "      <td>4016870.0</td>\n",
       "    </tr>\n",
       "    <tr>\n",
       "      <th>2</th>\n",
       "      <td>母亲节衣服夏季妈妈装夏装套装短袖中年人40-50岁中老年女装T恤</td>\n",
       "      <td>298.0</td>\n",
       "      <td>13458</td>\n",
       "      <td>云新旗舰店</td>\n",
       "      <td>江苏</td>\n",
       "      <td>4010484.0</td>\n",
       "    </tr>\n",
       "    <tr>\n",
       "      <th>3</th>\n",
       "      <td>母亲节衣服中老年人春装女40岁50中年妈妈装套装夏装奶奶装两件套</td>\n",
       "      <td>279.0</td>\n",
       "      <td>13340</td>\n",
       "      <td>韶妃旗舰店</td>\n",
       "      <td>浙江</td>\n",
       "      <td>3721860.0</td>\n",
       "    </tr>\n",
       "    <tr>\n",
       "      <th>4</th>\n",
       "      <td>中老年女装春夏装裤大码 中年妇女40-50岁妈妈装夏装套装七分裤</td>\n",
       "      <td>59.0</td>\n",
       "      <td>12939</td>\n",
       "      <td>千百奈旗舰店</td>\n",
       "      <td>江苏</td>\n",
       "      <td>763401.0</td>\n",
       "    </tr>\n",
       "  </tbody>\n",
       "</table>\n",
       "</div>"
      ],
      "text/plain": [
       "                                 宝贝     价格    成交量       卖家  位置        销售额\n",
       "0    新款中老年女装春装雪纺打底衫妈妈装夏装中袖宽松上衣中年人t恤   99.0  16647  夏奈凤凰旗舰店  江苏  1648053.0\n",
       "1    中老年女装清凉两件套妈妈装夏装大码短袖T恤上衣雪纺衫裙裤套装  286.0  14045   夏洛特的文艺  上海  4016870.0\n",
       "2  母亲节衣服夏季妈妈装夏装套装短袖中年人40-50岁中老年女装T恤  298.0  13458    云新旗舰店  江苏  4010484.0\n",
       "3  母亲节衣服中老年人春装女40岁50中年妈妈装套装夏装奶奶装两件套  279.0  13340    韶妃旗舰店  浙江  3721860.0\n",
       "4  中老年女装春夏装裤大码 中年妇女40-50岁妈妈装夏装套装七分裤   59.0  12939   千百奈旗舰店  江苏   763401.0"
      ]
     },
     "execution_count": 25,
     "metadata": {},
     "output_type": "execute_result"
    }
   ],
   "source": [
    "#方法一  删除宝贝和卖家这两列 \n",
    "new_df=df.copy()\n",
    "new_df.head()"
   ]
  },
  {
   "cell_type": "code",
   "execution_count": 26,
   "metadata": {
    "id": "5DC63BD9430646AC88F642577EA84D09",
    "jupyter": {},
    "slideshow": {
     "slide_type": "slide"
    },
    "tags": []
   },
   "outputs": [],
   "source": [
    "del new_df['宝贝']"
   ]
  },
  {
   "cell_type": "code",
   "execution_count": 27,
   "metadata": {
    "id": "58563735B2C84A2C8424A5D267163BC9",
    "jupyter": {
     "outputs_hidden": true
    },
    "slideshow": {
     "slide_type": "slide"
    },
    "tags": []
   },
   "outputs": [],
   "source": [
    "del new_df['卖家']"
   ]
  },
  {
   "cell_type": "code",
   "execution_count": 28,
   "metadata": {
    "id": "C6589B64FEEF4C4A9FCFB0308E864EA0",
    "jupyter": {},
    "slideshow": {
     "slide_type": "slide"
    },
    "tags": []
   },
   "outputs": [
    {
     "data": {
      "text/html": [
       "<div>\n",
       "<style scoped>\n",
       "    .dataframe tbody tr th:only-of-type {\n",
       "        vertical-align: middle;\n",
       "    }\n",
       "\n",
       "    .dataframe tbody tr th {\n",
       "        vertical-align: top;\n",
       "    }\n",
       "\n",
       "    .dataframe thead th {\n",
       "        text-align: right;\n",
       "    }\n",
       "</style>\n",
       "<table border=\"1\" class=\"dataframe\">\n",
       "  <thead>\n",
       "    <tr style=\"text-align: right;\">\n",
       "      <th></th>\n",
       "      <th>价格</th>\n",
       "      <th>成交量</th>\n",
       "      <th>位置</th>\n",
       "      <th>销售额</th>\n",
       "    </tr>\n",
       "  </thead>\n",
       "  <tbody>\n",
       "    <tr>\n",
       "      <th>0</th>\n",
       "      <td>99.0</td>\n",
       "      <td>16647</td>\n",
       "      <td>江苏</td>\n",
       "      <td>1648053.0</td>\n",
       "    </tr>\n",
       "    <tr>\n",
       "      <th>1</th>\n",
       "      <td>286.0</td>\n",
       "      <td>14045</td>\n",
       "      <td>上海</td>\n",
       "      <td>4016870.0</td>\n",
       "    </tr>\n",
       "    <tr>\n",
       "      <th>2</th>\n",
       "      <td>298.0</td>\n",
       "      <td>13458</td>\n",
       "      <td>江苏</td>\n",
       "      <td>4010484.0</td>\n",
       "    </tr>\n",
       "    <tr>\n",
       "      <th>3</th>\n",
       "      <td>279.0</td>\n",
       "      <td>13340</td>\n",
       "      <td>浙江</td>\n",
       "      <td>3721860.0</td>\n",
       "    </tr>\n",
       "    <tr>\n",
       "      <th>4</th>\n",
       "      <td>59.0</td>\n",
       "      <td>12939</td>\n",
       "      <td>江苏</td>\n",
       "      <td>763401.0</td>\n",
       "    </tr>\n",
       "  </tbody>\n",
       "</table>\n",
       "</div>"
      ],
      "text/plain": [
       "      价格    成交量  位置        销售额\n",
       "0   99.0  16647  江苏  1648053.0\n",
       "1  286.0  14045  上海  4016870.0\n",
       "2  298.0  13458  江苏  4010484.0\n",
       "3  279.0  13340  浙江  3721860.0\n",
       "4   59.0  12939  江苏   763401.0"
      ]
     },
     "execution_count": 28,
     "metadata": {},
     "output_type": "execute_result"
    }
   ],
   "source": [
    "new_df.head()"
   ]
  },
  {
   "cell_type": "code",
   "execution_count": 29,
   "metadata": {
    "id": "0B2D092E40454EB79BC85DE37B45E7FA",
    "jupyter": {},
    "slideshow": {
     "slide_type": "slide"
    },
    "tags": []
   },
   "outputs": [],
   "source": [
    "#方法二"
   ]
  },
  {
   "cell_type": "code",
   "execution_count": 30,
   "metadata": {
    "id": "7B3A1361A60A4AC0B3E00957281B99C5",
    "jupyter": {
     "outputs_hidden": true
    },
    "slideshow": {
     "slide_type": "slide"
    },
    "tags": []
   },
   "outputs": [],
   "source": [
    "df_deal=df.drop(['宝贝','卖家'],axis=1)"
   ]
  },
  {
   "cell_type": "code",
   "execution_count": 31,
   "metadata": {
    "id": "21D9EDC007A2433085B181F0126C2591",
    "jupyter": {},
    "slideshow": {
     "slide_type": "slide"
    },
    "tags": []
   },
   "outputs": [
    {
     "data": {
      "text/html": [
       "<div>\n",
       "<style scoped>\n",
       "    .dataframe tbody tr th:only-of-type {\n",
       "        vertical-align: middle;\n",
       "    }\n",
       "\n",
       "    .dataframe tbody tr th {\n",
       "        vertical-align: top;\n",
       "    }\n",
       "\n",
       "    .dataframe thead th {\n",
       "        text-align: right;\n",
       "    }\n",
       "</style>\n",
       "<table border=\"1\" class=\"dataframe\">\n",
       "  <thead>\n",
       "    <tr style=\"text-align: right;\">\n",
       "      <th></th>\n",
       "      <th>价格</th>\n",
       "      <th>成交量</th>\n",
       "      <th>位置</th>\n",
       "      <th>销售额</th>\n",
       "    </tr>\n",
       "  </thead>\n",
       "  <tbody>\n",
       "    <tr>\n",
       "      <th>0</th>\n",
       "      <td>99.0</td>\n",
       "      <td>16647</td>\n",
       "      <td>江苏</td>\n",
       "      <td>1648053.0</td>\n",
       "    </tr>\n",
       "    <tr>\n",
       "      <th>1</th>\n",
       "      <td>286.0</td>\n",
       "      <td>14045</td>\n",
       "      <td>上海</td>\n",
       "      <td>4016870.0</td>\n",
       "    </tr>\n",
       "    <tr>\n",
       "      <th>2</th>\n",
       "      <td>298.0</td>\n",
       "      <td>13458</td>\n",
       "      <td>江苏</td>\n",
       "      <td>4010484.0</td>\n",
       "    </tr>\n",
       "    <tr>\n",
       "      <th>3</th>\n",
       "      <td>279.0</td>\n",
       "      <td>13340</td>\n",
       "      <td>浙江</td>\n",
       "      <td>3721860.0</td>\n",
       "    </tr>\n",
       "    <tr>\n",
       "      <th>4</th>\n",
       "      <td>59.0</td>\n",
       "      <td>12939</td>\n",
       "      <td>江苏</td>\n",
       "      <td>763401.0</td>\n",
       "    </tr>\n",
       "  </tbody>\n",
       "</table>\n",
       "</div>"
      ],
      "text/plain": [
       "      价格    成交量  位置        销售额\n",
       "0   99.0  16647  江苏  1648053.0\n",
       "1  286.0  14045  上海  4016870.0\n",
       "2  298.0  13458  江苏  4010484.0\n",
       "3  279.0  13340  浙江  3721860.0\n",
       "4   59.0  12939  江苏   763401.0"
      ]
     },
     "execution_count": 31,
     "metadata": {},
     "output_type": "execute_result"
    }
   ],
   "source": [
    "df_deal.head()"
   ]
  },
  {
   "cell_type": "markdown",
   "metadata": {
    "id": "D1E8EE9E3EB142FC8264BD9F947848F9",
    "jupyter": {},
    "slideshow": {
     "slide_type": "slide"
    },
    "tags": []
   },
   "source": [
    "## 数据的分组"
   ]
  },
  {
   "cell_type": "code",
   "execution_count": 32,
   "metadata": {
    "id": "6EDE082DB2BC49D18EEB6A4C76AF6F3A",
    "jupyter": {},
    "slideshow": {
     "slide_type": "slide"
    },
    "tags": []
   },
   "outputs": [
    {
     "data": {
      "text/html": [
       "<div>\n",
       "<style scoped>\n",
       "    .dataframe tbody tr th:only-of-type {\n",
       "        vertical-align: middle;\n",
       "    }\n",
       "\n",
       "    .dataframe tbody tr th {\n",
       "        vertical-align: top;\n",
       "    }\n",
       "\n",
       "    .dataframe thead th {\n",
       "        text-align: right;\n",
       "    }\n",
       "</style>\n",
       "<table border=\"1\" class=\"dataframe\">\n",
       "  <thead>\n",
       "    <tr style=\"text-align: right;\">\n",
       "      <th></th>\n",
       "      <th>宝贝</th>\n",
       "      <th>价格</th>\n",
       "      <th>成交量</th>\n",
       "      <th>卖家</th>\n",
       "      <th>位置</th>\n",
       "      <th>销售额</th>\n",
       "    </tr>\n",
       "  </thead>\n",
       "  <tbody>\n",
       "    <tr>\n",
       "      <th>0</th>\n",
       "      <td>新款中老年女装春装雪纺打底衫妈妈装夏装中袖宽松上衣中年人t恤</td>\n",
       "      <td>99.0</td>\n",
       "      <td>16647</td>\n",
       "      <td>夏奈凤凰旗舰店</td>\n",
       "      <td>江苏</td>\n",
       "      <td>1648053.0</td>\n",
       "    </tr>\n",
       "    <tr>\n",
       "      <th>1</th>\n",
       "      <td>中老年女装清凉两件套妈妈装夏装大码短袖T恤上衣雪纺衫裙裤套装</td>\n",
       "      <td>286.0</td>\n",
       "      <td>14045</td>\n",
       "      <td>夏洛特的文艺</td>\n",
       "      <td>上海</td>\n",
       "      <td>4016870.0</td>\n",
       "    </tr>\n",
       "    <tr>\n",
       "      <th>2</th>\n",
       "      <td>母亲节衣服夏季妈妈装夏装套装短袖中年人40-50岁中老年女装T恤</td>\n",
       "      <td>298.0</td>\n",
       "      <td>13458</td>\n",
       "      <td>云新旗舰店</td>\n",
       "      <td>江苏</td>\n",
       "      <td>4010484.0</td>\n",
       "    </tr>\n",
       "    <tr>\n",
       "      <th>3</th>\n",
       "      <td>母亲节衣服中老年人春装女40岁50中年妈妈装套装夏装奶奶装两件套</td>\n",
       "      <td>279.0</td>\n",
       "      <td>13340</td>\n",
       "      <td>韶妃旗舰店</td>\n",
       "      <td>浙江</td>\n",
       "      <td>3721860.0</td>\n",
       "    </tr>\n",
       "    <tr>\n",
       "      <th>4</th>\n",
       "      <td>中老年女装春夏装裤大码 中年妇女40-50岁妈妈装夏装套装七分裤</td>\n",
       "      <td>59.0</td>\n",
       "      <td>12939</td>\n",
       "      <td>千百奈旗舰店</td>\n",
       "      <td>江苏</td>\n",
       "      <td>763401.0</td>\n",
       "    </tr>\n",
       "  </tbody>\n",
       "</table>\n",
       "</div>"
      ],
      "text/plain": [
       "                                 宝贝     价格    成交量       卖家  位置        销售额\n",
       "0    新款中老年女装春装雪纺打底衫妈妈装夏装中袖宽松上衣中年人t恤   99.0  16647  夏奈凤凰旗舰店  江苏  1648053.0\n",
       "1    中老年女装清凉两件套妈妈装夏装大码短袖T恤上衣雪纺衫裙裤套装  286.0  14045   夏洛特的文艺  上海  4016870.0\n",
       "2  母亲节衣服夏季妈妈装夏装套装短袖中年人40-50岁中老年女装T恤  298.0  13458    云新旗舰店  江苏  4010484.0\n",
       "3  母亲节衣服中老年人春装女40岁50中年妈妈装套装夏装奶奶装两件套  279.0  13340    韶妃旗舰店  浙江  3721860.0\n",
       "4  中老年女装春夏装裤大码 中年妇女40-50岁妈妈装夏装套装七分裤   59.0  12939   千百奈旗舰店  江苏   763401.0"
      ]
     },
     "execution_count": 32,
     "metadata": {},
     "output_type": "execute_result"
    }
   ],
   "source": [
    "df.head()"
   ]
  },
  {
   "cell_type": "code",
   "execution_count": 33,
   "metadata": {
    "id": "9ACFA2F57FC64AF8A0FE31AEEE4FB591",
    "jupyter": {},
    "slideshow": {
     "slide_type": "slide"
    },
    "tags": []
   },
   "outputs": [
    {
     "data": {
      "text/plain": [
       "江苏    44\n",
       "浙江    28\n",
       "上海    10\n",
       "湖北     7\n",
       "北京     6\n",
       "河北     3\n",
       "河南     1\n",
       "广东     1\n",
       "Name: 位置, dtype: int64"
      ]
     },
     "execution_count": 33,
     "metadata": {},
     "output_type": "execute_result"
    }
   ],
   "source": [
    "# 查看值的数量\n",
    "df['位置'].value_counts()\n"
   ]
  },
  {
   "cell_type": "code",
   "execution_count": 34,
   "metadata": {
    "id": "181AD22107BF4749828FDF13DA83D741",
    "jupyter": {},
    "slideshow": {
     "slide_type": "slide"
    },
    "tags": []
   },
   "outputs": [
    {
     "data": {
      "text/plain": [
       "8"
      ]
     },
     "execution_count": 34,
     "metadata": {},
     "output_type": "execute_result"
    }
   ],
   "source": [
    "len(df['位置'].value_counts())\n",
    "# 或者\n",
    "df['位置'].nunique()"
   ]
  },
  {
   "cell_type": "code",
   "execution_count": 309,
   "metadata": {
    "id": "47A54F11EED54183880544E2D6E2CE07",
    "jupyter": {
     "outputs_hidden": true
    },
    "slideshow": {
     "slide_type": "slide"
    },
    "tags": []
   },
   "outputs": [],
   "source": [
    "# 将所需的字段作为索引，然后使用汇总函数进行汇总计算"
   ]
  },
  {
   "cell_type": "code",
   "execution_count": 36,
   "metadata": {
    "id": "DD0B0611AFE94416B4EF749E020454DF",
    "jupyter": {
     "outputs_hidden": true
    },
    "slideshow": {
     "slide_type": "slide"
    },
    "tags": []
   },
   "outputs": [
    {
     "data": {
      "text/html": [
       "<div>\n",
       "<style scoped>\n",
       "    .dataframe tbody tr th:only-of-type {\n",
       "        vertical-align: middle;\n",
       "    }\n",
       "\n",
       "    .dataframe tbody tr th {\n",
       "        vertical-align: top;\n",
       "    }\n",
       "\n",
       "    .dataframe thead th {\n",
       "        text-align: right;\n",
       "    }\n",
       "</style>\n",
       "<table border=\"1\" class=\"dataframe\">\n",
       "  <thead>\n",
       "    <tr style=\"text-align: right;\">\n",
       "      <th></th>\n",
       "      <th>价格</th>\n",
       "      <th>成交量</th>\n",
       "      <th>销售额</th>\n",
       "    </tr>\n",
       "    <tr>\n",
       "      <th>位置</th>\n",
       "      <th></th>\n",
       "      <th></th>\n",
       "      <th></th>\n",
       "    </tr>\n",
       "  </thead>\n",
       "  <tbody>\n",
       "    <tr>\n",
       "      <th>上海</th>\n",
       "      <td>161.200000</td>\n",
       "      <td>6801.500000</td>\n",
       "      <td>1.256211e+06</td>\n",
       "    </tr>\n",
       "    <tr>\n",
       "      <th>北京</th>\n",
       "      <td>150.000000</td>\n",
       "      <td>4519.333333</td>\n",
       "      <td>6.846817e+05</td>\n",
       "    </tr>\n",
       "    <tr>\n",
       "      <th>广东</th>\n",
       "      <td>326.000000</td>\n",
       "      <td>5164.000000</td>\n",
       "      <td>1.683464e+06</td>\n",
       "    </tr>\n",
       "    <tr>\n",
       "      <th>江苏</th>\n",
       "      <td>223.611364</td>\n",
       "      <td>7030.909091</td>\n",
       "      <td>1.551363e+06</td>\n",
       "    </tr>\n",
       "    <tr>\n",
       "      <th>河北</th>\n",
       "      <td>152.000000</td>\n",
       "      <td>6050.666667</td>\n",
       "      <td>9.224000e+05</td>\n",
       "    </tr>\n",
       "    <tr>\n",
       "      <th>河南</th>\n",
       "      <td>119.000000</td>\n",
       "      <td>5986.000000</td>\n",
       "      <td>7.123340e+05</td>\n",
       "    </tr>\n",
       "    <tr>\n",
       "      <th>浙江</th>\n",
       "      <td>290.428571</td>\n",
       "      <td>5779.500000</td>\n",
       "      <td>1.650173e+06</td>\n",
       "    </tr>\n",
       "    <tr>\n",
       "      <th>湖北</th>\n",
       "      <td>254.714286</td>\n",
       "      <td>6182.000000</td>\n",
       "      <td>1.536022e+06</td>\n",
       "    </tr>\n",
       "  </tbody>\n",
       "</table>\n",
       "</div>"
      ],
      "text/plain": [
       "            价格          成交量           销售额\n",
       "位置                                       \n",
       "上海  161.200000  6801.500000  1.256211e+06\n",
       "北京  150.000000  4519.333333  6.846817e+05\n",
       "广东  326.000000  5164.000000  1.683464e+06\n",
       "江苏  223.611364  7030.909091  1.551363e+06\n",
       "河北  152.000000  6050.666667  9.224000e+05\n",
       "河南  119.000000  5986.000000  7.123340e+05\n",
       "浙江  290.428571  5779.500000  1.650173e+06\n",
       "湖北  254.714286  6182.000000  1.536022e+06"
      ]
     },
     "execution_count": 36,
     "metadata": {},
     "output_type": "execute_result"
    }
   ],
   "source": [
    "#根据位置进行分组，计算成交量的均值,根据Dataframe进行分组\n",
    "df.groupby('位置').mean()\n"
   ]
  },
  {
   "cell_type": "code",
   "execution_count": 38,
   "metadata": {},
   "outputs": [
    {
     "data": {
      "text/plain": [
       "位置\n",
       "上海    6801.500000\n",
       "北京    4519.333333\n",
       "广东    5164.000000\n",
       "江苏    7030.909091\n",
       "河北    6050.666667\n",
       "河南    5986.000000\n",
       "浙江    5779.500000\n",
       "湖北    6182.000000\n",
       "Name: 成交量, dtype: float64"
      ]
     },
     "execution_count": 38,
     "metadata": {},
     "output_type": "execute_result"
    }
   ],
   "source": [
    "df.groupby('位置')['成交量'].mean()"
   ]
  },
  {
   "cell_type": "code",
   "execution_count": 40,
   "metadata": {
    "id": "38FCA48F51F548B080CDF33DE3718EDE",
    "jupyter": {},
    "slideshow": {
     "slide_type": "slide"
    },
    "tags": []
   },
   "outputs": [
    {
     "data": {
      "text/html": [
       "<div>\n",
       "<style scoped>\n",
       "    .dataframe tbody tr th:only-of-type {\n",
       "        vertical-align: middle;\n",
       "    }\n",
       "\n",
       "    .dataframe tbody tr th {\n",
       "        vertical-align: top;\n",
       "    }\n",
       "\n",
       "    .dataframe thead th {\n",
       "        text-align: right;\n",
       "    }\n",
       "</style>\n",
       "<table border=\"1\" class=\"dataframe\">\n",
       "  <thead>\n",
       "    <tr style=\"text-align: right;\">\n",
       "      <th></th>\n",
       "      <th>价格</th>\n",
       "      <th>成交量</th>\n",
       "      <th>销售额</th>\n",
       "    </tr>\n",
       "    <tr>\n",
       "      <th>位置</th>\n",
       "      <th></th>\n",
       "      <th></th>\n",
       "      <th></th>\n",
       "    </tr>\n",
       "  </thead>\n",
       "  <tbody>\n",
       "    <tr>\n",
       "      <th>上海</th>\n",
       "      <td>161.200000</td>\n",
       "      <td>68015</td>\n",
       "      <td>1.256211e+06</td>\n",
       "    </tr>\n",
       "    <tr>\n",
       "      <th>北京</th>\n",
       "      <td>150.000000</td>\n",
       "      <td>27116</td>\n",
       "      <td>6.846817e+05</td>\n",
       "    </tr>\n",
       "    <tr>\n",
       "      <th>广东</th>\n",
       "      <td>326.000000</td>\n",
       "      <td>5164</td>\n",
       "      <td>1.683464e+06</td>\n",
       "    </tr>\n",
       "    <tr>\n",
       "      <th>江苏</th>\n",
       "      <td>223.611364</td>\n",
       "      <td>309360</td>\n",
       "      <td>1.551363e+06</td>\n",
       "    </tr>\n",
       "    <tr>\n",
       "      <th>河北</th>\n",
       "      <td>152.000000</td>\n",
       "      <td>18152</td>\n",
       "      <td>9.224000e+05</td>\n",
       "    </tr>\n",
       "    <tr>\n",
       "      <th>河南</th>\n",
       "      <td>119.000000</td>\n",
       "      <td>5986</td>\n",
       "      <td>7.123340e+05</td>\n",
       "    </tr>\n",
       "    <tr>\n",
       "      <th>浙江</th>\n",
       "      <td>290.428571</td>\n",
       "      <td>161826</td>\n",
       "      <td>1.650173e+06</td>\n",
       "    </tr>\n",
       "    <tr>\n",
       "      <th>湖北</th>\n",
       "      <td>254.714286</td>\n",
       "      <td>43274</td>\n",
       "      <td>1.536022e+06</td>\n",
       "    </tr>\n",
       "  </tbody>\n",
       "</table>\n",
       "</div>"
      ],
      "text/plain": [
       "            价格     成交量           销售额\n",
       "位置                                  \n",
       "上海  161.200000   68015  1.256211e+06\n",
       "北京  150.000000   27116  6.846817e+05\n",
       "广东  326.000000    5164  1.683464e+06\n",
       "江苏  223.611364  309360  1.551363e+06\n",
       "河北  152.000000   18152  9.224000e+05\n",
       "河南  119.000000    5986  7.123340e+05\n",
       "浙江  290.428571  161826  1.650173e+06\n",
       "湖北  254.714286   43274  1.536022e+06"
      ]
     },
     "execution_count": 40,
     "metadata": {},
     "output_type": "execute_result"
    }
   ],
   "source": [
    "# 根据位置进行索引，然后求价格的均值，成交量的总和，销售额的均值\n",
    "df.groupby(df['位置']).agg({'价格':'mean','成交量':sum,'销售额':'mean'})\n",
    "# agg是聚合函数 aggregation的缩写"
   ]
  },
  {
   "cell_type": "code",
   "execution_count": 41,
   "metadata": {
    "collapsed": true,
    "id": "569637A6BE8C479F961CD8A0EDBE75E2",
    "jupyter": {
     "outputs_hidden": true
    },
    "slideshow": {
     "slide_type": "slide"
    },
    "tags": []
   },
   "outputs": [
    {
     "data": {
      "text/html": [
       "<div>\n",
       "<style scoped>\n",
       "    .dataframe tbody tr th:only-of-type {\n",
       "        vertical-align: middle;\n",
       "    }\n",
       "\n",
       "    .dataframe tbody tr th {\n",
       "        vertical-align: top;\n",
       "    }\n",
       "\n",
       "    .dataframe thead th {\n",
       "        text-align: right;\n",
       "    }\n",
       "</style>\n",
       "<table border=\"1\" class=\"dataframe\">\n",
       "  <thead>\n",
       "    <tr style=\"text-align: right;\">\n",
       "      <th></th>\n",
       "      <th></th>\n",
       "      <th>价格</th>\n",
       "      <th>成交量</th>\n",
       "      <th>销售额</th>\n",
       "    </tr>\n",
       "    <tr>\n",
       "      <th>位置</th>\n",
       "      <th>卖家</th>\n",
       "      <th></th>\n",
       "      <th></th>\n",
       "      <th></th>\n",
       "    </tr>\n",
       "  </thead>\n",
       "  <tbody>\n",
       "    <tr>\n",
       "      <th rowspan=\"7\" valign=\"top\">上海</th>\n",
       "      <th>xudong158</th>\n",
       "      <td>99.000000</td>\n",
       "      <td>4572.000000</td>\n",
       "      <td>4.526280e+05</td>\n",
       "    </tr>\n",
       "    <tr>\n",
       "      <th>佳福妈妈商城</th>\n",
       "      <td>29.000000</td>\n",
       "      <td>4752.000000</td>\n",
       "      <td>1.378080e+05</td>\n",
       "    </tr>\n",
       "    <tr>\n",
       "      <th>夏洛特的文艺</th>\n",
       "      <td>286.000000</td>\n",
       "      <td>14045.000000</td>\n",
       "      <td>4.016870e+06</td>\n",
       "    </tr>\n",
       "    <tr>\n",
       "      <th>妃莲慕旗舰店</th>\n",
       "      <td>133.000000</td>\n",
       "      <td>5377.500000</td>\n",
       "      <td>7.185050e+05</td>\n",
       "    </tr>\n",
       "    <tr>\n",
       "      <th>婆家娘家商城</th>\n",
       "      <td>198.000000</td>\n",
       "      <td>5304.000000</td>\n",
       "      <td>1.050192e+06</td>\n",
       "    </tr>\n",
       "    <tr>\n",
       "      <th>简港旗舰店</th>\n",
       "      <td>228.333333</td>\n",
       "      <td>8141.000000</td>\n",
       "      <td>1.754522e+06</td>\n",
       "    </tr>\n",
       "    <tr>\n",
       "      <th>金良国际</th>\n",
       "      <td>49.000000</td>\n",
       "      <td>4164.000000</td>\n",
       "      <td>2.040360e+05</td>\n",
       "    </tr>\n",
       "    <tr>\n",
       "      <th rowspan=\"6\" valign=\"top\">北京</th>\n",
       "      <th>bobolove987</th>\n",
       "      <td>98.000000</td>\n",
       "      <td>4261.000000</td>\n",
       "      <td>4.175780e+05</td>\n",
       "    </tr>\n",
       "    <tr>\n",
       "      <th>hi大脚丫</th>\n",
       "      <td>138.000000</td>\n",
       "      <td>4460.000000</td>\n",
       "      <td>6.154800e+05</td>\n",
       "    </tr>\n",
       "    <tr>\n",
       "      <th>taylor3699</th>\n",
       "      <td>100.000000</td>\n",
       "      <td>4271.000000</td>\n",
       "      <td>4.271000e+05</td>\n",
       "    </tr>\n",
       "    <tr>\n",
       "      <th>wonwon942</th>\n",
       "      <td>108.000000</td>\n",
       "      <td>4415.000000</td>\n",
       "      <td>4.768200e+05</td>\n",
       "    </tr>\n",
       "    <tr>\n",
       "      <th>凯飞服饰1717</th>\n",
       "      <td>168.000000</td>\n",
       "      <td>5209.000000</td>\n",
       "      <td>8.751120e+05</td>\n",
       "    </tr>\n",
       "    <tr>\n",
       "      <th>妈妈装工厂店1988</th>\n",
       "      <td>288.000000</td>\n",
       "      <td>4500.000000</td>\n",
       "      <td>1.296000e+06</td>\n",
       "    </tr>\n",
       "    <tr>\n",
       "      <th>广东</th>\n",
       "      <th>安静式风格</th>\n",
       "      <td>326.000000</td>\n",
       "      <td>5164.000000</td>\n",
       "      <td>1.683464e+06</td>\n",
       "    </tr>\n",
       "    <tr>\n",
       "      <th rowspan=\"16\" valign=\"top\">江苏</th>\n",
       "      <th>ceo放牛</th>\n",
       "      <td>298.000000</td>\n",
       "      <td>11655.000000</td>\n",
       "      <td>3.473190e+06</td>\n",
       "    </tr>\n",
       "    <tr>\n",
       "      <th>kewang5188</th>\n",
       "      <td>198.000000</td>\n",
       "      <td>5348.000000</td>\n",
       "      <td>1.058904e+06</td>\n",
       "    </tr>\n",
       "    <tr>\n",
       "      <th>wuweihua0809</th>\n",
       "      <td>168.000000</td>\n",
       "      <td>5641.000000</td>\n",
       "      <td>9.476880e+05</td>\n",
       "    </tr>\n",
       "    <tr>\n",
       "      <th>zxtvszml</th>\n",
       "      <td>288.000000</td>\n",
       "      <td>12087.000000</td>\n",
       "      <td>3.481056e+06</td>\n",
       "    </tr>\n",
       "    <tr>\n",
       "      <th>云新旗舰店</th>\n",
       "      <td>298.000000</td>\n",
       "      <td>13458.000000</td>\n",
       "      <td>4.010484e+06</td>\n",
       "    </tr>\n",
       "    <tr>\n",
       "      <th>伊秋芙旗舰店</th>\n",
       "      <td>298.000000</td>\n",
       "      <td>4382.000000</td>\n",
       "      <td>1.305836e+06</td>\n",
       "    </tr>\n",
       "    <tr>\n",
       "      <th>依人怡慧no1</th>\n",
       "      <td>108.000000</td>\n",
       "      <td>4163.000000</td>\n",
       "      <td>4.496040e+05</td>\n",
       "    </tr>\n",
       "    <tr>\n",
       "      <th>依安雅旗舰店</th>\n",
       "      <td>198.000000</td>\n",
       "      <td>12664.000000</td>\n",
       "      <td>2.507472e+06</td>\n",
       "    </tr>\n",
       "    <tr>\n",
       "      <th>依诗曼妮</th>\n",
       "      <td>177.000000</td>\n",
       "      <td>11125.000000</td>\n",
       "      <td>1.969125e+06</td>\n",
       "    </tr>\n",
       "    <tr>\n",
       "      <th>便宜才是硬道理1234</th>\n",
       "      <td>59.900000</td>\n",
       "      <td>4421.000000</td>\n",
       "      <td>2.648179e+05</td>\n",
       "    </tr>\n",
       "    <tr>\n",
       "      <th>千百奈旗舰店</th>\n",
       "      <td>59.000000</td>\n",
       "      <td>12939.000000</td>\n",
       "      <td>7.634010e+05</td>\n",
       "    </tr>\n",
       "    <tr>\n",
       "      <th>名瑾旗舰店</th>\n",
       "      <td>228.000000</td>\n",
       "      <td>5506.000000</td>\n",
       "      <td>1.255368e+06</td>\n",
       "    </tr>\n",
       "    <tr>\n",
       "      <th>夏奈凤凰旗舰店</th>\n",
       "      <td>99.000000</td>\n",
       "      <td>16647.000000</td>\n",
       "      <td>1.648053e+06</td>\n",
       "    </tr>\n",
       "    <tr>\n",
       "      <th>夕牧旗舰店</th>\n",
       "      <td>298.000000</td>\n",
       "      <td>10366.000000</td>\n",
       "      <td>3.089068e+06</td>\n",
       "    </tr>\n",
       "    <tr>\n",
       "      <th>妈咪衣橱纺</th>\n",
       "      <td>396.000000</td>\n",
       "      <td>6929.000000</td>\n",
       "      <td>2.743884e+06</td>\n",
       "    </tr>\n",
       "    <tr>\n",
       "      <th>孝义妈妈装</th>\n",
       "      <td>98.000000</td>\n",
       "      <td>4382.000000</td>\n",
       "      <td>4.294360e+05</td>\n",
       "    </tr>\n",
       "    <tr>\n",
       "      <th>...</th>\n",
       "      <th>...</th>\n",
       "      <td>...</td>\n",
       "      <td>...</td>\n",
       "      <td>...</td>\n",
       "    </tr>\n",
       "    <tr>\n",
       "      <th>河北</th>\n",
       "      <th>艾尔梦艺娜旗舰店</th>\n",
       "      <td>129.000000</td>\n",
       "      <td>4309.000000</td>\n",
       "      <td>5.558610e+05</td>\n",
       "    </tr>\n",
       "    <tr>\n",
       "      <th>河南</th>\n",
       "      <th>z昊铭么么哒666</th>\n",
       "      <td>119.000000</td>\n",
       "      <td>5986.000000</td>\n",
       "      <td>7.123340e+05</td>\n",
       "    </tr>\n",
       "    <tr>\n",
       "      <th rowspan=\"21\" valign=\"top\">浙江</th>\n",
       "      <th>mitchsheeps旗舰店</th>\n",
       "      <td>109.000000</td>\n",
       "      <td>5187.000000</td>\n",
       "      <td>5.653830e+05</td>\n",
       "    </tr>\n",
       "    <tr>\n",
       "      <th>qianyaofushi888</th>\n",
       "      <td>398.000000</td>\n",
       "      <td>4054.000000</td>\n",
       "      <td>1.613492e+06</td>\n",
       "    </tr>\n",
       "    <tr>\n",
       "      <th>showcai谷川专卖店</th>\n",
       "      <td>128.000000</td>\n",
       "      <td>5603.000000</td>\n",
       "      <td>7.171840e+05</td>\n",
       "    </tr>\n",
       "    <tr>\n",
       "      <th>冉献兵</th>\n",
       "      <td>138.000000</td>\n",
       "      <td>9060.000000</td>\n",
       "      <td>1.250280e+06</td>\n",
       "    </tr>\n",
       "    <tr>\n",
       "      <th>卧雪旗舰店</th>\n",
       "      <td>198.000000</td>\n",
       "      <td>7077.000000</td>\n",
       "      <td>1.401246e+06</td>\n",
       "    </tr>\n",
       "    <tr>\n",
       "      <th>发财花旗舰店</th>\n",
       "      <td>558.000000</td>\n",
       "      <td>5918.000000</td>\n",
       "      <td>3.302244e+06</td>\n",
       "    </tr>\n",
       "    <tr>\n",
       "      <th>妈妈之美服饰</th>\n",
       "      <td>198.000000</td>\n",
       "      <td>5647.000000</td>\n",
       "      <td>1.118106e+06</td>\n",
       "    </tr>\n",
       "    <tr>\n",
       "      <th>拓芙尼旗舰店</th>\n",
       "      <td>333.500000</td>\n",
       "      <td>4675.500000</td>\n",
       "      <td>1.558977e+06</td>\n",
       "    </tr>\n",
       "    <tr>\n",
       "      <th>朵莹旗舰店</th>\n",
       "      <td>268.666667</td>\n",
       "      <td>7319.000000</td>\n",
       "      <td>1.924099e+06</td>\n",
       "    </tr>\n",
       "    <tr>\n",
       "      <th>步古旗舰店</th>\n",
       "      <td>177.000000</td>\n",
       "      <td>4502.000000</td>\n",
       "      <td>7.968540e+05</td>\n",
       "    </tr>\n",
       "    <tr>\n",
       "      <th>浅恋旗舰店</th>\n",
       "      <td>228.000000</td>\n",
       "      <td>4076.000000</td>\n",
       "      <td>9.318190e+05</td>\n",
       "    </tr>\n",
       "    <tr>\n",
       "      <th>潮流前线9170</th>\n",
       "      <td>638.000000</td>\n",
       "      <td>5561.000000</td>\n",
       "      <td>3.467668e+06</td>\n",
       "    </tr>\n",
       "    <tr>\n",
       "      <th>爱米雪旗舰店</th>\n",
       "      <td>198.000000</td>\n",
       "      <td>5171.000000</td>\n",
       "      <td>1.023858e+06</td>\n",
       "    </tr>\n",
       "    <tr>\n",
       "      <th>简狐旗舰店</th>\n",
       "      <td>698.000000</td>\n",
       "      <td>5197.000000</td>\n",
       "      <td>3.627506e+06</td>\n",
       "    </tr>\n",
       "    <tr>\n",
       "      <th>胖织缘福旗舰店</th>\n",
       "      <td>263.000000</td>\n",
       "      <td>7147.000000</td>\n",
       "      <td>1.879661e+06</td>\n",
       "    </tr>\n",
       "    <tr>\n",
       "      <th>芭蒂卡旗舰店</th>\n",
       "      <td>190.000000</td>\n",
       "      <td>4365.000000</td>\n",
       "      <td>8.293500e+05</td>\n",
       "    </tr>\n",
       "    <tr>\n",
       "      <th>苏米唐旗舰店</th>\n",
       "      <td>228.000000</td>\n",
       "      <td>4925.000000</td>\n",
       "      <td>1.122900e+06</td>\n",
       "    </tr>\n",
       "    <tr>\n",
       "      <th>若澜锦蒂旗舰店</th>\n",
       "      <td>195.000000</td>\n",
       "      <td>4000.000000</td>\n",
       "      <td>7.800000e+05</td>\n",
       "    </tr>\n",
       "    <tr>\n",
       "      <th>陌小柒服饰旗舰店</th>\n",
       "      <td>168.000000</td>\n",
       "      <td>5580.000000</td>\n",
       "      <td>9.374400e+05</td>\n",
       "    </tr>\n",
       "    <tr>\n",
       "      <th>韶妃旗舰店</th>\n",
       "      <td>279.000000</td>\n",
       "      <td>13340.000000</td>\n",
       "      <td>3.721860e+06</td>\n",
       "    </tr>\n",
       "    <tr>\n",
       "      <th>香颜旗舰店</th>\n",
       "      <td>268.000000</td>\n",
       "      <td>4823.666667</td>\n",
       "      <td>1.276087e+06</td>\n",
       "    </tr>\n",
       "    <tr>\n",
       "      <th rowspan=\"7\" valign=\"top\">湖北</th>\n",
       "      <th>sonmellny尚曼妮旗舰店</th>\n",
       "      <td>306.000000</td>\n",
       "      <td>4138.000000</td>\n",
       "      <td>1.266228e+06</td>\n",
       "    </tr>\n",
       "    <tr>\n",
       "      <th>乔芙丽旗舰店</th>\n",
       "      <td>256.000000</td>\n",
       "      <td>5005.000000</td>\n",
       "      <td>1.281280e+06</td>\n",
       "    </tr>\n",
       "    <tr>\n",
       "      <th>凯利娜格旗舰店</th>\n",
       "      <td>178.000000</td>\n",
       "      <td>4111.000000</td>\n",
       "      <td>7.317580e+05</td>\n",
       "    </tr>\n",
       "    <tr>\n",
       "      <th>千百萌旗舰店</th>\n",
       "      <td>199.000000</td>\n",
       "      <td>12398.000000</td>\n",
       "      <td>2.467202e+06</td>\n",
       "    </tr>\n",
       "    <tr>\n",
       "      <th>千香旗舰店</th>\n",
       "      <td>158.000000</td>\n",
       "      <td>5001.000000</td>\n",
       "      <td>7.901580e+05</td>\n",
       "    </tr>\n",
       "    <tr>\n",
       "      <th>欧芮嘉旗舰店</th>\n",
       "      <td>368.000000</td>\n",
       "      <td>4041.000000</td>\n",
       "      <td>1.487088e+06</td>\n",
       "    </tr>\n",
       "    <tr>\n",
       "      <th>薇诗琪旗舰店</th>\n",
       "      <td>318.000000</td>\n",
       "      <td>8580.000000</td>\n",
       "      <td>2.728440e+06</td>\n",
       "    </tr>\n",
       "  </tbody>\n",
       "</table>\n",
       "<p>85 rows × 3 columns</p>\n",
       "</div>"
      ],
      "text/plain": [
       "                            价格           成交量           销售额\n",
       "位置 卖家                                                     \n",
       "上海 xudong158         99.000000   4572.000000  4.526280e+05\n",
       "   佳福妈妈商城            29.000000   4752.000000  1.378080e+05\n",
       "   夏洛特的文艺           286.000000  14045.000000  4.016870e+06\n",
       "   妃莲慕旗舰店           133.000000   5377.500000  7.185050e+05\n",
       "   婆家娘家商城           198.000000   5304.000000  1.050192e+06\n",
       "   简港旗舰店            228.333333   8141.000000  1.754522e+06\n",
       "   金良国际              49.000000   4164.000000  2.040360e+05\n",
       "北京 bobolove987       98.000000   4261.000000  4.175780e+05\n",
       "   hi大脚丫            138.000000   4460.000000  6.154800e+05\n",
       "   taylor3699       100.000000   4271.000000  4.271000e+05\n",
       "   wonwon942        108.000000   4415.000000  4.768200e+05\n",
       "   凯飞服饰1717         168.000000   5209.000000  8.751120e+05\n",
       "   妈妈装工厂店1988       288.000000   4500.000000  1.296000e+06\n",
       "广东 安静式风格            326.000000   5164.000000  1.683464e+06\n",
       "江苏 ceo放牛            298.000000  11655.000000  3.473190e+06\n",
       "   kewang5188       198.000000   5348.000000  1.058904e+06\n",
       "   wuweihua0809     168.000000   5641.000000  9.476880e+05\n",
       "   zxtvszml         288.000000  12087.000000  3.481056e+06\n",
       "   云新旗舰店            298.000000  13458.000000  4.010484e+06\n",
       "   伊秋芙旗舰店           298.000000   4382.000000  1.305836e+06\n",
       "   依人怡慧no1          108.000000   4163.000000  4.496040e+05\n",
       "   依安雅旗舰店           198.000000  12664.000000  2.507472e+06\n",
       "   依诗曼妮             177.000000  11125.000000  1.969125e+06\n",
       "   便宜才是硬道理1234       59.900000   4421.000000  2.648179e+05\n",
       "   千百奈旗舰店            59.000000  12939.000000  7.634010e+05\n",
       "   名瑾旗舰店            228.000000   5506.000000  1.255368e+06\n",
       "   夏奈凤凰旗舰店           99.000000  16647.000000  1.648053e+06\n",
       "   夕牧旗舰店            298.000000  10366.000000  3.089068e+06\n",
       "   妈咪衣橱纺            396.000000   6929.000000  2.743884e+06\n",
       "   孝义妈妈装             98.000000   4382.000000  4.294360e+05\n",
       "...                        ...           ...           ...\n",
       "河北 艾尔梦艺娜旗舰店         129.000000   4309.000000  5.558610e+05\n",
       "河南 z昊铭么么哒666        119.000000   5986.000000  7.123340e+05\n",
       "浙江 mitchsheeps旗舰店   109.000000   5187.000000  5.653830e+05\n",
       "   qianyaofushi888  398.000000   4054.000000  1.613492e+06\n",
       "   showcai谷川专卖店     128.000000   5603.000000  7.171840e+05\n",
       "   冉献兵              138.000000   9060.000000  1.250280e+06\n",
       "   卧雪旗舰店            198.000000   7077.000000  1.401246e+06\n",
       "   发财花旗舰店           558.000000   5918.000000  3.302244e+06\n",
       "   妈妈之美服饰           198.000000   5647.000000  1.118106e+06\n",
       "   拓芙尼旗舰店           333.500000   4675.500000  1.558977e+06\n",
       "   朵莹旗舰店            268.666667   7319.000000  1.924099e+06\n",
       "   步古旗舰店            177.000000   4502.000000  7.968540e+05\n",
       "   浅恋旗舰店            228.000000   4076.000000  9.318190e+05\n",
       "   潮流前线9170         638.000000   5561.000000  3.467668e+06\n",
       "   爱米雪旗舰店           198.000000   5171.000000  1.023858e+06\n",
       "   简狐旗舰店            698.000000   5197.000000  3.627506e+06\n",
       "   胖织缘福旗舰店          263.000000   7147.000000  1.879661e+06\n",
       "   芭蒂卡旗舰店           190.000000   4365.000000  8.293500e+05\n",
       "   苏米唐旗舰店           228.000000   4925.000000  1.122900e+06\n",
       "   若澜锦蒂旗舰店          195.000000   4000.000000  7.800000e+05\n",
       "   陌小柒服饰旗舰店         168.000000   5580.000000  9.374400e+05\n",
       "   韶妃旗舰店            279.000000  13340.000000  3.721860e+06\n",
       "   香颜旗舰店            268.000000   4823.666667  1.276087e+06\n",
       "湖北 sonmellny尚曼妮旗舰店  306.000000   4138.000000  1.266228e+06\n",
       "   乔芙丽旗舰店           256.000000   5005.000000  1.281280e+06\n",
       "   凯利娜格旗舰店          178.000000   4111.000000  7.317580e+05\n",
       "   千百萌旗舰店           199.000000  12398.000000  2.467202e+06\n",
       "   千香旗舰店            158.000000   5001.000000  7.901580e+05\n",
       "   欧芮嘉旗舰店           368.000000   4041.000000  1.487088e+06\n",
       "   薇诗琪旗舰店           318.000000   8580.000000  2.728440e+06\n",
       "\n",
       "[85 rows x 3 columns]"
      ]
     },
     "execution_count": 41,
     "metadata": {},
     "output_type": "execute_result"
    }
   ],
   "source": [
    "df.groupby(['位置','卖家']).mean()"
   ]
  },
  {
   "cell_type": "code",
   "execution_count": 42,
   "metadata": {
    "id": "C47321F48C6F4B12B3C041BFCA832A12",
    "jupyter": {
     "outputs_hidden": true
    },
    "slideshow": {
     "slide_type": "slide"
    },
    "tags": []
   },
   "outputs": [
    {
     "data": {
      "text/plain": [
       "位置\n",
       "上海    10\n",
       "北京     6\n",
       "广东     1\n",
       "江苏    44\n",
       "河北     3\n",
       "河南     1\n",
       "浙江    28\n",
       "湖北     7\n",
       "dtype: int64"
      ]
     },
     "execution_count": 42,
     "metadata": {},
     "output_type": "execute_result"
    }
   ],
   "source": [
    "df.groupby('位置').size()   # 返回分组个数大小"
   ]
  },
  {
   "cell_type": "code",
   "execution_count": 43,
   "metadata": {
    "id": "308158946C3E48218BBA9DDA5579B284",
    "jupyter": {},
    "slideshow": {
     "slide_type": "slide"
    },
    "tags": []
   },
   "outputs": [
    {
     "data": {
      "text/plain": [
       "位置  卖家       \n",
       "上海  xudong158    1\n",
       "    佳福妈妈商城       1\n",
       "    夏洛特的文艺       1\n",
       "    妃莲慕旗舰店       2\n",
       "    婆家娘家商城       1\n",
       "    简港旗舰店        3\n",
       "    金良国际         1\n",
       "dtype: int64"
      ]
     },
     "execution_count": 43,
     "metadata": {},
     "output_type": "execute_result"
    }
   ],
   "source": [
    "df.groupby(['位置','卖家']).size().head(7)"
   ]
  },
  {
   "cell_type": "code",
   "execution_count": 24,
   "metadata": {
    "collapsed": true
   },
   "outputs": [
    {
     "data": {
      "text/html": [
       "<div>\n",
       "<style scoped>\n",
       "    .dataframe tbody tr th:only-of-type {\n",
       "        vertical-align: middle;\n",
       "    }\n",
       "\n",
       "    .dataframe tbody tr th {\n",
       "        vertical-align: top;\n",
       "    }\n",
       "\n",
       "    .dataframe thead th {\n",
       "        text-align: right;\n",
       "    }\n",
       "</style>\n",
       "<table border=\"1\" class=\"dataframe\">\n",
       "  <thead>\n",
       "    <tr style=\"text-align: right;\">\n",
       "      <th></th>\n",
       "      <th>宝贝</th>\n",
       "      <th>价格</th>\n",
       "      <th>成交量</th>\n",
       "      <th>卖家</th>\n",
       "      <th>位置</th>\n",
       "      <th>销售额</th>\n",
       "    </tr>\n",
       "  </thead>\n",
       "  <tbody>\n",
       "    <tr>\n",
       "      <th>1</th>\n",
       "      <td>中老年女装清凉两件套妈妈装夏装大码短袖T恤上衣雪纺衫裙裤套装</td>\n",
       "      <td>286.0</td>\n",
       "      <td>14045</td>\n",
       "      <td>夏洛特的文艺</td>\n",
       "      <td>上海</td>\n",
       "      <td>4016870.0</td>\n",
       "    </tr>\n",
       "    <tr>\n",
       "      <th>9</th>\n",
       "      <td>中老年女装夏装套装圆领上衣裤子夏季中年妈妈装短袖T恤两件套</td>\n",
       "      <td>189.0</td>\n",
       "      <td>11632</td>\n",
       "      <td>简港旗舰店</td>\n",
       "      <td>上海</td>\n",
       "      <td>2198448.0</td>\n",
       "    </tr>\n",
       "    <tr>\n",
       "      <th>21</th>\n",
       "      <td>母亲节衣服夏季中老年女装夏装套装上衣40-50岁妈妈装T恤衫两件套</td>\n",
       "      <td>198.0</td>\n",
       "      <td>7466</td>\n",
       "      <td>简港旗舰店</td>\n",
       "      <td>上海</td>\n",
       "      <td>1478268.0</td>\n",
       "    </tr>\n",
       "    <tr>\n",
       "      <th>36</th>\n",
       "      <td>母亲节衣服妈妈装夏装套装40-50岁中年两件套中老年女装短袖雪纺</td>\n",
       "      <td>138.0</td>\n",
       "      <td>6037</td>\n",
       "      <td>妃莲慕旗舰店</td>\n",
       "      <td>上海</td>\n",
       "      <td>833106.0</td>\n",
       "    </tr>\n",
       "    <tr>\n",
       "      <th>49</th>\n",
       "      <td>中老年女装夏装套装加肥加大码T恤上衣妈妈装时尚短袖夏季两件套</td>\n",
       "      <td>298.0</td>\n",
       "      <td>5325</td>\n",
       "      <td>简港旗舰店</td>\n",
       "      <td>上海</td>\n",
       "      <td>1586850.0</td>\n",
       "    </tr>\n",
       "    <tr>\n",
       "      <th>50</th>\n",
       "      <td>中老年女装夏装连衣裙中年雪纺上衣妈妈装中长款40-50岁大码裙子</td>\n",
       "      <td>198.0</td>\n",
       "      <td>5304</td>\n",
       "      <td>婆家娘家商城</td>\n",
       "      <td>上海</td>\n",
       "      <td>1050192.0</td>\n",
       "    </tr>\n",
       "    <tr>\n",
       "      <th>64</th>\n",
       "      <td>中老年人女装套装妈妈装夏装大码奶奶装40-50岁60短袖T恤70两件套</td>\n",
       "      <td>29.0</td>\n",
       "      <td>4752</td>\n",
       "      <td>佳福妈妈商城</td>\n",
       "      <td>上海</td>\n",
       "      <td>137808.0</td>\n",
       "    </tr>\n",
       "    <tr>\n",
       "      <th>65</th>\n",
       "      <td>母亲节衣服妈妈装夏装套装短袖中年人40-50岁中老年女装T恤两件套</td>\n",
       "      <td>128.0</td>\n",
       "      <td>4718</td>\n",
       "      <td>妃莲慕旗舰店</td>\n",
       "      <td>上海</td>\n",
       "      <td>603904.0</td>\n",
       "    </tr>\n",
       "    <tr>\n",
       "      <th>68</th>\n",
       "      <td>中老年女装夏装短袖t恤衫中年妇女母亲节衣服妈妈装雪纺套装上衣</td>\n",
       "      <td>99.0</td>\n",
       "      <td>4572</td>\n",
       "      <td>xudong158</td>\n",
       "      <td>上海</td>\n",
       "      <td>452628.0</td>\n",
       "    </tr>\n",
       "    <tr>\n",
       "      <th>88</th>\n",
       "      <td>母亲节中老年女装夏装短袖40-50岁雪纺衫大码妈妈装T恤宽上衣套装</td>\n",
       "      <td>49.0</td>\n",
       "      <td>4164</td>\n",
       "      <td>金良国际</td>\n",
       "      <td>上海</td>\n",
       "      <td>204036.0</td>\n",
       "    </tr>\n",
       "  </tbody>\n",
       "</table>\n",
       "</div>"
      ],
      "text/plain": [
       "                                     宝贝     价格    成交量         卖家  位置  \\\n",
       "1        中老年女装清凉两件套妈妈装夏装大码短袖T恤上衣雪纺衫裙裤套装  286.0  14045     夏洛特的文艺  上海   \n",
       "9         中老年女装夏装套装圆领上衣裤子夏季中年妈妈装短袖T恤两件套  189.0  11632      简港旗舰店  上海   \n",
       "21    母亲节衣服夏季中老年女装夏装套装上衣40-50岁妈妈装T恤衫两件套  198.0   7466      简港旗舰店  上海   \n",
       "36     母亲节衣服妈妈装夏装套装40-50岁中年两件套中老年女装短袖雪纺  138.0   6037     妃莲慕旗舰店  上海   \n",
       "49       中老年女装夏装套装加肥加大码T恤上衣妈妈装时尚短袖夏季两件套  298.0   5325      简港旗舰店  上海   \n",
       "50     中老年女装夏装连衣裙中年雪纺上衣妈妈装中长款40-50岁大码裙子  198.0   5304     婆家娘家商城  上海   \n",
       "64  中老年人女装套装妈妈装夏装大码奶奶装40-50岁60短袖T恤70两件套   29.0   4752     佳福妈妈商城  上海   \n",
       "65    母亲节衣服妈妈装夏装套装短袖中年人40-50岁中老年女装T恤两件套  128.0   4718     妃莲慕旗舰店  上海   \n",
       "68       中老年女装夏装短袖t恤衫中年妇女母亲节衣服妈妈装雪纺套装上衣   99.0   4572  xudong158  上海   \n",
       "88    母亲节中老年女装夏装短袖40-50岁雪纺衫大码妈妈装T恤宽上衣套装   49.0   4164       金良国际  上海   \n",
       "\n",
       "          销售额  \n",
       "1   4016870.0  \n",
       "9   2198448.0  \n",
       "21  1478268.0  \n",
       "36   833106.0  \n",
       "49  1586850.0  \n",
       "50  1050192.0  \n",
       "64   137808.0  \n",
       "65   603904.0  \n",
       "68   452628.0  \n",
       "88   204036.0  "
      ]
     },
     "execution_count": 24,
     "metadata": {},
     "output_type": "execute_result"
    }
   ],
   "source": [
    "\n",
    "df.groupby('位置').get_group('上海')"
   ]
  },
  {
   "cell_type": "markdown",
   "metadata": {
    "id": "217C9C94918C48C784B161E2514FB825",
    "jupyter": {},
    "slideshow": {
     "slide_type": "slide"
    },
    "tags": []
   },
   "source": [
    "## 数据的分割与合并"
   ]
  },
  {
   "cell_type": "markdown",
   "metadata": {
    "id": "FB315005510441988EE76EC424870F89",
    "jupyter": {},
    "slideshow": {
     "slide_type": "slide"
    },
    "tags": []
   },
   "source": [
    "- concat()函数\n",
    "- merge()函数"
   ]
  },
  {
   "cell_type": "code",
   "execution_count": 44,
   "metadata": {
    "id": "B155BA9C741E468C830413542A3D32C6",
    "jupyter": {},
    "slideshow": {
     "slide_type": "slide"
    },
    "tags": []
   },
   "outputs": [
    {
     "data": {
      "text/html": [
       "<div>\n",
       "<style scoped>\n",
       "    .dataframe tbody tr th:only-of-type {\n",
       "        vertical-align: middle;\n",
       "    }\n",
       "\n",
       "    .dataframe tbody tr th {\n",
       "        vertical-align: top;\n",
       "    }\n",
       "\n",
       "    .dataframe thead th {\n",
       "        text-align: right;\n",
       "    }\n",
       "</style>\n",
       "<table border=\"1\" class=\"dataframe\">\n",
       "  <thead>\n",
       "    <tr style=\"text-align: right;\">\n",
       "      <th></th>\n",
       "      <th>宝贝</th>\n",
       "      <th>价格</th>\n",
       "      <th>成交量</th>\n",
       "      <th>卖家</th>\n",
       "      <th>位置</th>\n",
       "      <th>销售额</th>\n",
       "    </tr>\n",
       "  </thead>\n",
       "  <tbody>\n",
       "    <tr>\n",
       "      <th>0</th>\n",
       "      <td>新款中老年女装春装雪纺打底衫妈妈装夏装中袖宽松上衣中年人t恤</td>\n",
       "      <td>99.0</td>\n",
       "      <td>16647</td>\n",
       "      <td>夏奈凤凰旗舰店</td>\n",
       "      <td>江苏</td>\n",
       "      <td>1648053.0</td>\n",
       "    </tr>\n",
       "    <tr>\n",
       "      <th>1</th>\n",
       "      <td>中老年女装清凉两件套妈妈装夏装大码短袖T恤上衣雪纺衫裙裤套装</td>\n",
       "      <td>286.0</td>\n",
       "      <td>14045</td>\n",
       "      <td>夏洛特的文艺</td>\n",
       "      <td>上海</td>\n",
       "      <td>4016870.0</td>\n",
       "    </tr>\n",
       "    <tr>\n",
       "      <th>2</th>\n",
       "      <td>母亲节衣服夏季妈妈装夏装套装短袖中年人40-50岁中老年女装T恤</td>\n",
       "      <td>298.0</td>\n",
       "      <td>13458</td>\n",
       "      <td>云新旗舰店</td>\n",
       "      <td>江苏</td>\n",
       "      <td>4010484.0</td>\n",
       "    </tr>\n",
       "  </tbody>\n",
       "</table>\n",
       "</div>"
      ],
      "text/plain": [
       "                                 宝贝     价格    成交量       卖家  位置        销售额\n",
       "0    新款中老年女装春装雪纺打底衫妈妈装夏装中袖宽松上衣中年人t恤   99.0  16647  夏奈凤凰旗舰店  江苏  1648053.0\n",
       "1    中老年女装清凉两件套妈妈装夏装大码短袖T恤上衣雪纺衫裙裤套装  286.0  14045   夏洛特的文艺  上海  4016870.0\n",
       "2  母亲节衣服夏季妈妈装夏装套装短袖中年人40-50岁中老年女装T恤  298.0  13458    云新旗舰店  江苏  4010484.0"
      ]
     },
     "execution_count": 44,
     "metadata": {},
     "output_type": "execute_result"
    }
   ],
   "source": [
    "df.head(3)"
   ]
  },
  {
   "cell_type": "code",
   "execution_count": 45,
   "metadata": {
    "id": "855C4289AAEE43489C5E0CB29B70F144",
    "jupyter": {},
    "slideshow": {
     "slide_type": "slide"
    },
    "tags": []
   },
   "outputs": [
    {
     "data": {
      "text/html": [
       "<div>\n",
       "<style scoped>\n",
       "    .dataframe tbody tr th:only-of-type {\n",
       "        vertical-align: middle;\n",
       "    }\n",
       "\n",
       "    .dataframe tbody tr th {\n",
       "        vertical-align: top;\n",
       "    }\n",
       "\n",
       "    .dataframe thead th {\n",
       "        text-align: right;\n",
       "    }\n",
       "</style>\n",
       "<table border=\"1\" class=\"dataframe\">\n",
       "  <thead>\n",
       "    <tr style=\"text-align: right;\">\n",
       "      <th></th>\n",
       "      <th>位置</th>\n",
       "      <th>卖家</th>\n",
       "    </tr>\n",
       "  </thead>\n",
       "  <tbody>\n",
       "    <tr>\n",
       "      <th>20</th>\n",
       "      <td>江苏</td>\n",
       "      <td>纳笛佳女装旗舰店</td>\n",
       "    </tr>\n",
       "    <tr>\n",
       "      <th>21</th>\n",
       "      <td>上海</td>\n",
       "      <td>简港旗舰店</td>\n",
       "    </tr>\n",
       "    <tr>\n",
       "      <th>22</th>\n",
       "      <td>浙江</td>\n",
       "      <td>潮流前线9170</td>\n",
       "    </tr>\n",
       "    <tr>\n",
       "      <th>23</th>\n",
       "      <td>浙江</td>\n",
       "      <td>胖织缘福旗舰店</td>\n",
       "    </tr>\n",
       "    <tr>\n",
       "      <th>24</th>\n",
       "      <td>浙江</td>\n",
       "      <td>卧雪旗舰店</td>\n",
       "    </tr>\n",
       "    <tr>\n",
       "      <th>25</th>\n",
       "      <td>江苏</td>\n",
       "      <td>衣之绒旗舰店</td>\n",
       "    </tr>\n",
       "    <tr>\n",
       "      <th>26</th>\n",
       "      <td>江苏</td>\n",
       "      <td>康乃馨老年装</td>\n",
       "    </tr>\n",
       "    <tr>\n",
       "      <th>27</th>\n",
       "      <td>江苏</td>\n",
       "      <td>妈咪衣橱纺</td>\n",
       "    </tr>\n",
       "    <tr>\n",
       "      <th>28</th>\n",
       "      <td>江苏</td>\n",
       "      <td>爱莱嘉旗舰店</td>\n",
       "    </tr>\n",
       "    <tr>\n",
       "      <th>29</th>\n",
       "      <td>江苏</td>\n",
       "      <td>高康洁</td>\n",
       "    </tr>\n",
       "  </tbody>\n",
       "</table>\n",
       "</div>"
      ],
      "text/plain": [
       "    位置        卖家\n",
       "20  江苏  纳笛佳女装旗舰店\n",
       "21  上海     简港旗舰店\n",
       "22  浙江  潮流前线9170\n",
       "23  浙江   胖织缘福旗舰店\n",
       "24  浙江     卧雪旗舰店\n",
       "25  江苏    衣之绒旗舰店\n",
       "26  江苏    康乃馨老年装\n",
       "27  江苏     妈咪衣橱纺\n",
       "28  江苏    爱莱嘉旗舰店\n",
       "29  江苏       高康洁"
      ]
     },
     "execution_count": 45,
     "metadata": {},
     "output_type": "execute_result"
    }
   ],
   "source": [
    "#把行索引为20-29，列名为位置和卖家的数据切出来\n",
    "#方法一：\n",
    "\n",
    "df1 = df.loc[20:29,['位置','卖家']]\n",
    "df1"
   ]
  },
  {
   "cell_type": "code",
   "execution_count": 46,
   "metadata": {
    "id": "11B731D252A347AD8FB9A60A2B179C39",
    "jupyter": {},
    "slideshow": {
     "slide_type": "slide"
    },
    "tags": []
   },
   "outputs": [
    {
     "data": {
      "text/html": [
       "<div>\n",
       "<style scoped>\n",
       "    .dataframe tbody tr th:only-of-type {\n",
       "        vertical-align: middle;\n",
       "    }\n",
       "\n",
       "    .dataframe tbody tr th {\n",
       "        vertical-align: top;\n",
       "    }\n",
       "\n",
       "    .dataframe thead th {\n",
       "        text-align: right;\n",
       "    }\n",
       "</style>\n",
       "<table border=\"1\" class=\"dataframe\">\n",
       "  <thead>\n",
       "    <tr style=\"text-align: right;\">\n",
       "      <th></th>\n",
       "      <th>卖家</th>\n",
       "      <th>价格</th>\n",
       "      <th>成交量</th>\n",
       "    </tr>\n",
       "  </thead>\n",
       "  <tbody>\n",
       "    <tr>\n",
       "      <th>25</th>\n",
       "      <td>衣之绒旗舰店</td>\n",
       "      <td>399.0</td>\n",
       "      <td>7046</td>\n",
       "    </tr>\n",
       "    <tr>\n",
       "      <th>26</th>\n",
       "      <td>康乃馨老年装</td>\n",
       "      <td>128.0</td>\n",
       "      <td>7002</td>\n",
       "    </tr>\n",
       "    <tr>\n",
       "      <th>27</th>\n",
       "      <td>妈咪衣橱纺</td>\n",
       "      <td>396.0</td>\n",
       "      <td>6929</td>\n",
       "    </tr>\n",
       "    <tr>\n",
       "      <th>28</th>\n",
       "      <td>爱莱嘉旗舰店</td>\n",
       "      <td>49.0</td>\n",
       "      <td>6816</td>\n",
       "    </tr>\n",
       "    <tr>\n",
       "      <th>29</th>\n",
       "      <td>高康洁</td>\n",
       "      <td>108.0</td>\n",
       "      <td>6795</td>\n",
       "    </tr>\n",
       "    <tr>\n",
       "      <th>30</th>\n",
       "      <td>蒲洛妃旗舰店</td>\n",
       "      <td>108.0</td>\n",
       "      <td>6755</td>\n",
       "    </tr>\n",
       "    <tr>\n",
       "      <th>31</th>\n",
       "      <td>悦薇孔雀旗舰店</td>\n",
       "      <td>298.0</td>\n",
       "      <td>6270</td>\n",
       "    </tr>\n",
       "    <tr>\n",
       "      <th>32</th>\n",
       "      <td>摩尼树旗舰店</td>\n",
       "      <td>198.0</td>\n",
       "      <td>6262</td>\n",
       "    </tr>\n",
       "    <tr>\n",
       "      <th>33</th>\n",
       "      <td>梵忆轩旗舰店</td>\n",
       "      <td>148.0</td>\n",
       "      <td>6224</td>\n",
       "    </tr>\n",
       "    <tr>\n",
       "      <th>34</th>\n",
       "      <td>loueddssd倍艾旗舰店</td>\n",
       "      <td>198.0</td>\n",
       "      <td>6168</td>\n",
       "    </tr>\n",
       "    <tr>\n",
       "      <th>35</th>\n",
       "      <td>蒲洛妃旗舰店</td>\n",
       "      <td>258.0</td>\n",
       "      <td>6085</td>\n",
       "    </tr>\n",
       "  </tbody>\n",
       "</table>\n",
       "</div>"
      ],
      "text/plain": [
       "                卖家     价格   成交量\n",
       "25          衣之绒旗舰店  399.0  7046\n",
       "26          康乃馨老年装  128.0  7002\n",
       "27           妈咪衣橱纺  396.0  6929\n",
       "28          爱莱嘉旗舰店   49.0  6816\n",
       "29             高康洁  108.0  6795\n",
       "30          蒲洛妃旗舰店  108.0  6755\n",
       "31         悦薇孔雀旗舰店  298.0  6270\n",
       "32          摩尼树旗舰店  198.0  6262\n",
       "33          梵忆轩旗舰店  148.0  6224\n",
       "34  loueddssd倍艾旗舰店  198.0  6168\n",
       "35          蒲洛妃旗舰店  258.0  6085"
      ]
     },
     "execution_count": 46,
     "metadata": {},
     "output_type": "execute_result"
    }
   ],
   "source": [
    "#方法二\n",
    "df2 = df.loc[25:35,['卖家','价格','成交量']]\n",
    "df2"
   ]
  },
  {
   "cell_type": "code",
   "execution_count": 28,
   "metadata": {
    "id": "3AB7FE99016D42F89B1987F4DB96F71A",
    "jupyter": {
     "outputs_hidden": true
    },
    "slideshow": {
     "slide_type": "slide"
    },
    "tags": []
   },
   "outputs": [],
   "source": [
    "# pd.merge()根据一个或多个key值，将dataframe连接合并\n",
    "# pd.concat()沿着一个轴将多个对象堆叠起来\n",
    "# combine_first()如果有缺失值，另外一个数据集根据对齐进行填充"
   ]
  },
  {
   "cell_type": "code",
   "execution_count": 47,
   "metadata": {
    "id": "2C4BB1BC935649D7BA6184532CC93A31",
    "jupyter": {
     "outputs_hidden": true
    },
    "slideshow": {
     "slide_type": "slide"
    },
    "tags": []
   },
   "outputs": [
    {
     "data": {
      "text/html": [
       "<div>\n",
       "<style scoped>\n",
       "    .dataframe tbody tr th:only-of-type {\n",
       "        vertical-align: middle;\n",
       "    }\n",
       "\n",
       "    .dataframe tbody tr th {\n",
       "        vertical-align: top;\n",
       "    }\n",
       "\n",
       "    .dataframe thead th {\n",
       "        text-align: right;\n",
       "    }\n",
       "</style>\n",
       "<table border=\"1\" class=\"dataframe\">\n",
       "  <thead>\n",
       "    <tr style=\"text-align: right;\">\n",
       "      <th></th>\n",
       "      <th>位置</th>\n",
       "      <th>卖家</th>\n",
       "      <th>价格</th>\n",
       "      <th>成交量</th>\n",
       "    </tr>\n",
       "  </thead>\n",
       "  <tbody>\n",
       "    <tr>\n",
       "      <th>0</th>\n",
       "      <td>江苏</td>\n",
       "      <td>衣之绒旗舰店</td>\n",
       "      <td>399.0</td>\n",
       "      <td>7046</td>\n",
       "    </tr>\n",
       "    <tr>\n",
       "      <th>1</th>\n",
       "      <td>江苏</td>\n",
       "      <td>康乃馨老年装</td>\n",
       "      <td>128.0</td>\n",
       "      <td>7002</td>\n",
       "    </tr>\n",
       "    <tr>\n",
       "      <th>2</th>\n",
       "      <td>江苏</td>\n",
       "      <td>妈咪衣橱纺</td>\n",
       "      <td>396.0</td>\n",
       "      <td>6929</td>\n",
       "    </tr>\n",
       "    <tr>\n",
       "      <th>3</th>\n",
       "      <td>江苏</td>\n",
       "      <td>爱莱嘉旗舰店</td>\n",
       "      <td>49.0</td>\n",
       "      <td>6816</td>\n",
       "    </tr>\n",
       "    <tr>\n",
       "      <th>4</th>\n",
       "      <td>江苏</td>\n",
       "      <td>高康洁</td>\n",
       "      <td>108.0</td>\n",
       "      <td>6795</td>\n",
       "    </tr>\n",
       "  </tbody>\n",
       "</table>\n",
       "</div>"
      ],
      "text/plain": [
       "   位置      卖家     价格   成交量\n",
       "0  江苏  衣之绒旗舰店  399.0  7046\n",
       "1  江苏  康乃馨老年装  128.0  7002\n",
       "2  江苏   妈咪衣橱纺  396.0  6929\n",
       "3  江苏  爱莱嘉旗舰店   49.0  6816\n",
       "4  江苏     高康洁  108.0  6795"
      ]
     },
     "execution_count": 47,
     "metadata": {},
     "output_type": "execute_result"
    }
   ],
   "source": [
    "pd.merge(df1,df2)#  默认inner 列方向拼接 "
   ]
  },
  {
   "cell_type": "code",
   "execution_count": 48,
   "metadata": {
    "id": "5BCB7C53C8E14F7A8E292A4DF788E9E6",
    "jupyter": {},
    "slideshow": {
     "slide_type": "slide"
    },
    "tags": []
   },
   "outputs": [],
   "source": [
    "cols_1=df[:6][['宝贝','位置']]\n",
    "cols_2=df[:6][['价格','成交量']]"
   ]
  },
  {
   "cell_type": "code",
   "execution_count": 49,
   "metadata": {
    "id": "F801184AF95245E0898903ED6E4C22F9",
    "jupyter": {},
    "slideshow": {
     "slide_type": "slide"
    },
    "tags": []
   },
   "outputs": [
    {
     "data": {
      "text/html": [
       "<div>\n",
       "<style scoped>\n",
       "    .dataframe tbody tr th:only-of-type {\n",
       "        vertical-align: middle;\n",
       "    }\n",
       "\n",
       "    .dataframe tbody tr th {\n",
       "        vertical-align: top;\n",
       "    }\n",
       "\n",
       "    .dataframe thead th {\n",
       "        text-align: right;\n",
       "    }\n",
       "</style>\n",
       "<table border=\"1\" class=\"dataframe\">\n",
       "  <thead>\n",
       "    <tr style=\"text-align: right;\">\n",
       "      <th></th>\n",
       "      <th>价格</th>\n",
       "      <th>成交量</th>\n",
       "    </tr>\n",
       "  </thead>\n",
       "  <tbody>\n",
       "    <tr>\n",
       "      <th>0</th>\n",
       "      <td>99.0</td>\n",
       "      <td>16647</td>\n",
       "    </tr>\n",
       "    <tr>\n",
       "      <th>1</th>\n",
       "      <td>286.0</td>\n",
       "      <td>14045</td>\n",
       "    </tr>\n",
       "    <tr>\n",
       "      <th>2</th>\n",
       "      <td>298.0</td>\n",
       "      <td>13458</td>\n",
       "    </tr>\n",
       "    <tr>\n",
       "      <th>3</th>\n",
       "      <td>279.0</td>\n",
       "      <td>13340</td>\n",
       "    </tr>\n",
       "    <tr>\n",
       "      <th>4</th>\n",
       "      <td>59.0</td>\n",
       "      <td>12939</td>\n",
       "    </tr>\n",
       "    <tr>\n",
       "      <th>5</th>\n",
       "      <td>198.0</td>\n",
       "      <td>12664</td>\n",
       "    </tr>\n",
       "  </tbody>\n",
       "</table>\n",
       "</div>"
      ],
      "text/plain": [
       "      价格    成交量\n",
       "0   99.0  16647\n",
       "1  286.0  14045\n",
       "2  298.0  13458\n",
       "3  279.0  13340\n",
       "4   59.0  12939\n",
       "5  198.0  12664"
      ]
     },
     "execution_count": 49,
     "metadata": {},
     "output_type": "execute_result"
    }
   ],
   "source": [
    "cols_2"
   ]
  },
  {
   "cell_type": "code",
   "execution_count": 50,
   "metadata": {
    "id": "9E015DE4F8D14F4B83902DF820D478C5",
    "jupyter": {},
    "slideshow": {
     "slide_type": "slide"
    },
    "tags": []
   },
   "outputs": [
    {
     "data": {
      "text/html": [
       "<div>\n",
       "<style scoped>\n",
       "    .dataframe tbody tr th:only-of-type {\n",
       "        vertical-align: middle;\n",
       "    }\n",
       "\n",
       "    .dataframe tbody tr th {\n",
       "        vertical-align: top;\n",
       "    }\n",
       "\n",
       "    .dataframe thead th {\n",
       "        text-align: right;\n",
       "    }\n",
       "</style>\n",
       "<table border=\"1\" class=\"dataframe\">\n",
       "  <thead>\n",
       "    <tr style=\"text-align: right;\">\n",
       "      <th></th>\n",
       "      <th>宝贝</th>\n",
       "      <th>位置</th>\n",
       "      <th>价格</th>\n",
       "      <th>成交量</th>\n",
       "    </tr>\n",
       "  </thead>\n",
       "  <tbody>\n",
       "    <tr>\n",
       "      <th>0</th>\n",
       "      <td>新款中老年女装春装雪纺打底衫妈妈装夏装中袖宽松上衣中年人t恤</td>\n",
       "      <td>江苏</td>\n",
       "      <td>99.0</td>\n",
       "      <td>16647</td>\n",
       "    </tr>\n",
       "    <tr>\n",
       "      <th>1</th>\n",
       "      <td>中老年女装清凉两件套妈妈装夏装大码短袖T恤上衣雪纺衫裙裤套装</td>\n",
       "      <td>上海</td>\n",
       "      <td>286.0</td>\n",
       "      <td>14045</td>\n",
       "    </tr>\n",
       "    <tr>\n",
       "      <th>2</th>\n",
       "      <td>母亲节衣服夏季妈妈装夏装套装短袖中年人40-50岁中老年女装T恤</td>\n",
       "      <td>江苏</td>\n",
       "      <td>298.0</td>\n",
       "      <td>13458</td>\n",
       "    </tr>\n",
       "    <tr>\n",
       "      <th>3</th>\n",
       "      <td>母亲节衣服中老年人春装女40岁50中年妈妈装套装夏装奶奶装两件套</td>\n",
       "      <td>浙江</td>\n",
       "      <td>279.0</td>\n",
       "      <td>13340</td>\n",
       "    </tr>\n",
       "    <tr>\n",
       "      <th>4</th>\n",
       "      <td>中老年女装春夏装裤大码 中年妇女40-50岁妈妈装夏装套装七分裤</td>\n",
       "      <td>江苏</td>\n",
       "      <td>59.0</td>\n",
       "      <td>12939</td>\n",
       "    </tr>\n",
       "    <tr>\n",
       "      <th>5</th>\n",
       "      <td>中老年女装夏装短袖T恤40-50岁中年春装30打底衫妈妈装母亲节衣服</td>\n",
       "      <td>江苏</td>\n",
       "      <td>198.0</td>\n",
       "      <td>12664</td>\n",
       "    </tr>\n",
       "  </tbody>\n",
       "</table>\n",
       "</div>"
      ],
      "text/plain": [
       "                                   宝贝  位置     价格    成交量\n",
       "0      新款中老年女装春装雪纺打底衫妈妈装夏装中袖宽松上衣中年人t恤  江苏   99.0  16647\n",
       "1      中老年女装清凉两件套妈妈装夏装大码短袖T恤上衣雪纺衫裙裤套装  上海  286.0  14045\n",
       "2    母亲节衣服夏季妈妈装夏装套装短袖中年人40-50岁中老年女装T恤  江苏  298.0  13458\n",
       "3    母亲节衣服中老年人春装女40岁50中年妈妈装套装夏装奶奶装两件套  浙江  279.0  13340\n",
       "4    中老年女装春夏装裤大码 中年妇女40-50岁妈妈装夏装套装七分裤  江苏   59.0  12939\n",
       "5  中老年女装夏装短袖T恤40-50岁中年春装30打底衫妈妈装母亲节衣服  江苏  198.0  12664"
      ]
     },
     "execution_count": 50,
     "metadata": {},
     "output_type": "execute_result"
    }
   ],
   "source": [
    "pd.concat([cols_1,cols_2],axis=1)"
   ]
  },
  {
   "cell_type": "markdown",
   "metadata": {
    "id": "2AA34A44BD5243C499AB97525647AAB0",
    "jupyter": {},
    "slideshow": {
     "slide_type": "slide"
    },
    "tags": []
   },
   "source": [
    "### 数据的透视"
   ]
  },
  {
   "cell_type": "code",
   "execution_count": 53,
   "metadata": {
    "id": "41EC4FA81F6A4CF88C87371BA96B5DBB",
    "jupyter": {},
    "scrolled": true,
    "slideshow": {
     "slide_type": "slide"
    },
    "tags": []
   },
   "outputs": [],
   "source": [
    "import pandas as  pd\n",
    "data = pd.read_csv(r'./pandas_exercise/pandas data/hz_weather.csv')\n"
   ]
  },
  {
   "cell_type": "code",
   "execution_count": 54,
   "metadata": {},
   "outputs": [
    {
     "data": {
      "text/html": [
       "<div>\n",
       "<style scoped>\n",
       "    .dataframe tbody tr th:only-of-type {\n",
       "        vertical-align: middle;\n",
       "    }\n",
       "\n",
       "    .dataframe tbody tr th {\n",
       "        vertical-align: top;\n",
       "    }\n",
       "\n",
       "    .dataframe thead th {\n",
       "        text-align: right;\n",
       "    }\n",
       "</style>\n",
       "<table border=\"1\" class=\"dataframe\">\n",
       "  <thead>\n",
       "    <tr style=\"text-align: right;\">\n",
       "      <th></th>\n",
       "      <th>最高气温</th>\n",
       "      <th>最低气温</th>\n",
       "      <th>天气</th>\n",
       "      <th>风向</th>\n",
       "      <th>风力</th>\n",
       "    </tr>\n",
       "    <tr>\n",
       "      <th>日期</th>\n",
       "      <th></th>\n",
       "      <th></th>\n",
       "      <th></th>\n",
       "      <th></th>\n",
       "      <th></th>\n",
       "    </tr>\n",
       "  </thead>\n",
       "  <tbody>\n",
       "    <tr>\n",
       "      <th>2017-01-01</th>\n",
       "      <td>17</td>\n",
       "      <td>7</td>\n",
       "      <td>晴</td>\n",
       "      <td>西北风</td>\n",
       "      <td>2级</td>\n",
       "    </tr>\n",
       "    <tr>\n",
       "      <th>2017-01-02</th>\n",
       "      <td>16</td>\n",
       "      <td>8</td>\n",
       "      <td>多云</td>\n",
       "      <td>东北风</td>\n",
       "      <td>2级</td>\n",
       "    </tr>\n",
       "    <tr>\n",
       "      <th>2017-01-03</th>\n",
       "      <td>15</td>\n",
       "      <td>8</td>\n",
       "      <td>多云</td>\n",
       "      <td>东北风</td>\n",
       "      <td>1级</td>\n",
       "    </tr>\n",
       "  </tbody>\n",
       "</table>\n",
       "</div>"
      ],
      "text/plain": [
       "            最高气温  最低气温  天气   风向  风力\n",
       "日期                                 \n",
       "2017-01-01    17     7   晴  西北风  2级\n",
       "2017-01-02    16     8  多云  东北风  2级\n",
       "2017-01-03    15     8  多云  东北风  1级"
      ]
     },
     "execution_count": 54,
     "metadata": {},
     "output_type": "execute_result"
    }
   ],
   "source": [
    "df = data.set_index('日期')\n",
    "df.head(3)"
   ]
  },
  {
   "cell_type": "code",
   "execution_count": null,
   "metadata": {},
   "outputs": [],
   "source": []
  },
  {
   "cell_type": "code",
   "execution_count": 61,
   "metadata": {
    "id": "4239F836196949378C979450579D77B8",
    "jupyter": {},
    "slideshow": {
     "slide_type": "slide"
    },
    "tags": []
   },
   "outputs": [
    {
     "data": {
      "text/html": [
       "<div>\n",
       "<style scoped>\n",
       "    .dataframe tbody tr th:only-of-type {\n",
       "        vertical-align: middle;\n",
       "    }\n",
       "\n",
       "    .dataframe tbody tr th {\n",
       "        vertical-align: top;\n",
       "    }\n",
       "\n",
       "    .dataframe thead tr th {\n",
       "        text-align: left;\n",
       "    }\n",
       "\n",
       "    .dataframe thead tr:last-of-type th {\n",
       "        text-align: right;\n",
       "    }\n",
       "</style>\n",
       "<table border=\"1\" class=\"dataframe\">\n",
       "  <thead>\n",
       "    <tr>\n",
       "      <th></th>\n",
       "      <th colspan=\"7\" halign=\"left\">最高气温</th>\n",
       "    </tr>\n",
       "    <tr>\n",
       "      <th>风力</th>\n",
       "      <th>1级</th>\n",
       "      <th>2级</th>\n",
       "      <th>3级</th>\n",
       "      <th>4级</th>\n",
       "      <th>5级</th>\n",
       "      <th>6级</th>\n",
       "      <th>微风</th>\n",
       "    </tr>\n",
       "    <tr>\n",
       "      <th>天气</th>\n",
       "      <th></th>\n",
       "      <th></th>\n",
       "      <th></th>\n",
       "      <th></th>\n",
       "      <th></th>\n",
       "      <th></th>\n",
       "      <th></th>\n",
       "    </tr>\n",
       "  </thead>\n",
       "  <tbody>\n",
       "    <tr>\n",
       "      <th>中雨</th>\n",
       "      <td>0.000000</td>\n",
       "      <td>10.500000</td>\n",
       "      <td>10.000000</td>\n",
       "      <td>20.000000</td>\n",
       "      <td>0</td>\n",
       "      <td>0</td>\n",
       "      <td>0</td>\n",
       "    </tr>\n",
       "    <tr>\n",
       "      <th>多云</th>\n",
       "      <td>11.615385</td>\n",
       "      <td>14.812500</td>\n",
       "      <td>17.750000</td>\n",
       "      <td>20.200000</td>\n",
       "      <td>16</td>\n",
       "      <td>25</td>\n",
       "      <td>0</td>\n",
       "    </tr>\n",
       "    <tr>\n",
       "      <th>小到中雨</th>\n",
       "      <td>0.000000</td>\n",
       "      <td>13.000000</td>\n",
       "      <td>0.000000</td>\n",
       "      <td>0.000000</td>\n",
       "      <td>0</td>\n",
       "      <td>0</td>\n",
       "      <td>0</td>\n",
       "    </tr>\n",
       "    <tr>\n",
       "      <th>小雨</th>\n",
       "      <td>10.400000</td>\n",
       "      <td>14.000000</td>\n",
       "      <td>10.333333</td>\n",
       "      <td>19.000000</td>\n",
       "      <td>0</td>\n",
       "      <td>0</td>\n",
       "      <td>13</td>\n",
       "    </tr>\n",
       "    <tr>\n",
       "      <th>晴</th>\n",
       "      <td>13.600000</td>\n",
       "      <td>16.909091</td>\n",
       "      <td>18.444444</td>\n",
       "      <td>25.000000</td>\n",
       "      <td>0</td>\n",
       "      <td>19</td>\n",
       "      <td>15</td>\n",
       "    </tr>\n",
       "    <tr>\n",
       "      <th>阴</th>\n",
       "      <td>13.000000</td>\n",
       "      <td>13.750000</td>\n",
       "      <td>10.250000</td>\n",
       "      <td>24.500000</td>\n",
       "      <td>0</td>\n",
       "      <td>0</td>\n",
       "      <td>0</td>\n",
       "    </tr>\n",
       "    <tr>\n",
       "      <th>阵雨</th>\n",
       "      <td>0.000000</td>\n",
       "      <td>16.500000</td>\n",
       "      <td>21.666667</td>\n",
       "      <td>23.666667</td>\n",
       "      <td>19</td>\n",
       "      <td>0</td>\n",
       "      <td>0</td>\n",
       "    </tr>\n",
       "    <tr>\n",
       "      <th>雨夹雪</th>\n",
       "      <td>0.000000</td>\n",
       "      <td>0.000000</td>\n",
       "      <td>0.000000</td>\n",
       "      <td>7.000000</td>\n",
       "      <td>0</td>\n",
       "      <td>0</td>\n",
       "      <td>0</td>\n",
       "    </tr>\n",
       "  </tbody>\n",
       "</table>\n",
       "</div>"
      ],
      "text/plain": [
       "           最高气温                                             \n",
       "风力           1级         2级         3级         4级  5级  6级  微风\n",
       "天气                                                          \n",
       "中雨     0.000000  10.500000  10.000000  20.000000   0   0   0\n",
       "多云    11.615385  14.812500  17.750000  20.200000  16  25   0\n",
       "小到中雨   0.000000  13.000000   0.000000   0.000000   0   0   0\n",
       "小雨    10.400000  14.000000  10.333333  19.000000   0   0  13\n",
       "晴     13.600000  16.909091  18.444444  25.000000   0  19  15\n",
       "阴     13.000000  13.750000  10.250000  24.500000   0   0   0\n",
       "阵雨     0.000000  16.500000  21.666667  23.666667  19   0   0\n",
       "雨夹雪    0.000000   0.000000   0.000000   7.000000   0   0   0"
      ]
     },
     "execution_count": 61,
     "metadata": {},
     "output_type": "execute_result"
    }
   ],
   "source": [
    "#建立一个透视表：值是最高气温的平均值，天气为行索引，风力为列索引\n",
    "\n",
    "# df1 = pd.pivot_table(df                     \n",
    "#                      ,values=['最高气温']\n",
    "#                      ,index=['天气']\n",
    "#                      ,columns=['风力']\n",
    "#                      ,aggfunc='max'         # 设置值的计算方式\n",
    "#                      # fill_value='missing'  # 填充透视表中缺失值的方式，默认 NaN\n",
    "#                      ,margins=True         # 统计每行每列的情况\n",
    "#                      ,dropna=True          # 删除透视表中全部都为空值的列\n",
    "#                      ,margins_name='总计'  # 改变统计行和列的名称\n",
    "#                     )\n",
    "\n",
    "\n",
    "pd.pivot_table(df,index=['天气'])\n",
    "pd.pivot_table(df,index=['天气'],values=['最高气温'],columns=['风力'])\n",
    "pd.pivot_table(df,index=['天气'],values=['最高气温'],columns=['风力'],fill_value= 0 )"
   ]
  },
  {
   "cell_type": "markdown",
   "metadata": {
    "id": "F5A3EF34203A415BBF3738CFD342A35A",
    "jupyter": {},
    "slideshow": {
     "slide_type": "slide"
    },
    "tags": []
   },
   "source": [
    "## 缺失值、异常值、重复值的处理"
   ]
  },
  {
   "cell_type": "code",
   "execution_count": 62,
   "metadata": {
    "id": "2334AA891A4E40C19C8B1749570A9155",
    "jupyter": {
     "outputs_hidden": true
    },
    "slideshow": {
     "slide_type": "slide"
    },
    "tags": []
   },
   "outputs": [
    {
     "data": {
      "text/html": [
       "<div>\n",
       "<style scoped>\n",
       "    .dataframe tbody tr th:only-of-type {\n",
       "        vertical-align: middle;\n",
       "    }\n",
       "\n",
       "    .dataframe tbody tr th {\n",
       "        vertical-align: top;\n",
       "    }\n",
       "\n",
       "    .dataframe thead th {\n",
       "        text-align: right;\n",
       "    }\n",
       "</style>\n",
       "<table border=\"1\" class=\"dataframe\">\n",
       "  <thead>\n",
       "    <tr style=\"text-align: right;\">\n",
       "      <th></th>\n",
       "      <th>日期</th>\n",
       "      <th>最高气温</th>\n",
       "      <th>最低气温</th>\n",
       "      <th>天气</th>\n",
       "      <th>风向</th>\n",
       "      <th>风力</th>\n",
       "    </tr>\n",
       "  </thead>\n",
       "  <tbody>\n",
       "    <tr>\n",
       "      <th>0</th>\n",
       "      <td>2017-01-01</td>\n",
       "      <td>17</td>\n",
       "      <td>7</td>\n",
       "      <td>晴</td>\n",
       "      <td>西北风</td>\n",
       "      <td>2级</td>\n",
       "    </tr>\n",
       "    <tr>\n",
       "      <th>1</th>\n",
       "      <td>2017-01-02</td>\n",
       "      <td>16</td>\n",
       "      <td>8</td>\n",
       "      <td>多云</td>\n",
       "      <td>东北风</td>\n",
       "      <td>2级</td>\n",
       "    </tr>\n",
       "    <tr>\n",
       "      <th>2</th>\n",
       "      <td>2017-01-03</td>\n",
       "      <td>15</td>\n",
       "      <td>8</td>\n",
       "      <td>多云</td>\n",
       "      <td>东北风</td>\n",
       "      <td>1级</td>\n",
       "    </tr>\n",
       "    <tr>\n",
       "      <th>3</th>\n",
       "      <td>2017-01-04</td>\n",
       "      <td>15</td>\n",
       "      <td>11</td>\n",
       "      <td>小雨</td>\n",
       "      <td>西北风</td>\n",
       "      <td>2级</td>\n",
       "    </tr>\n",
       "    <tr>\n",
       "      <th>4</th>\n",
       "      <td>2017-01-05</td>\n",
       "      <td>13</td>\n",
       "      <td>11</td>\n",
       "      <td>小到中雨</td>\n",
       "      <td>北风</td>\n",
       "      <td>2级</td>\n",
       "    </tr>\n",
       "  </tbody>\n",
       "</table>\n",
       "</div>"
      ],
      "text/plain": [
       "           日期  最高气温  最低气温    天气   风向  风力\n",
       "0  2017-01-01    17     7     晴  西北风  2级\n",
       "1  2017-01-02    16     8    多云  东北风  2级\n",
       "2  2017-01-03    15     8    多云  东北风  1级\n",
       "3  2017-01-04    15    11    小雨  西北风  2级\n",
       "4  2017-01-05    13    11  小到中雨   北风  2级"
      ]
     },
     "execution_count": 62,
     "metadata": {},
     "output_type": "execute_result"
    }
   ],
   "source": [
    "data = pd.read_csv('./pandas_exercise/pandas data/hz_weather.csv')\n",
    "data.head()"
   ]
  },
  {
   "cell_type": "code",
   "execution_count": 63,
   "metadata": {
    "id": "821C2E7F24644F95959825ADFB47D1C6",
    "jupyter": {},
    "slideshow": {
     "slide_type": "slide"
    },
    "tags": []
   },
   "outputs": [
    {
     "data": {
      "text/plain": [
       "日期      0\n",
       "最高气温    0\n",
       "最低气温    0\n",
       "天气      0\n",
       "风向      0\n",
       "风力      0\n",
       "dtype: int64"
      ]
     },
     "execution_count": 63,
     "metadata": {},
     "output_type": "execute_result"
    }
   ],
   "source": [
    "data.isnull().sum()"
   ]
  },
  {
   "cell_type": "code",
   "execution_count": 66,
   "metadata": {
    "id": "D59E5A2DE9E74E88AC30CBF52EF1F248",
    "jupyter": {},
    "slideshow": {
     "slide_type": "slide"
    },
    "tags": []
   },
   "outputs": [],
   "source": [
    "data = pd.read_csv('./pandas_exercise/pandas data/hz_weather.csv')\n"
   ]
  },
  {
   "cell_type": "code",
   "execution_count": 67,
   "metadata": {
    "collapsed": true
   },
   "outputs": [
    {
     "data": {
      "text/plain": [
       "0      False\n",
       "1      False\n",
       "2      False\n",
       "3       True\n",
       "4      False\n",
       "5      False\n",
       "6      False\n",
       "7       True\n",
       "8       True\n",
       "9      False\n",
       "10     False\n",
       "11     False\n",
       "12     False\n",
       "13      True\n",
       "14      True\n",
       "15      True\n",
       "16      True\n",
       "17      True\n",
       "18      True\n",
       "19     False\n",
       "20      True\n",
       "21      True\n",
       "22      True\n",
       "23      True\n",
       "24      True\n",
       "25      True\n",
       "26      True\n",
       "27      True\n",
       "28     False\n",
       "29      True\n",
       "       ...  \n",
       "88      True\n",
       "89      True\n",
       "90     False\n",
       "91     False\n",
       "92     False\n",
       "93     False\n",
       "94      True\n",
       "95      True\n",
       "96      True\n",
       "97      True\n",
       "98      True\n",
       "99      True\n",
       "100     True\n",
       "101    False\n",
       "102    False\n",
       "103    False\n",
       "104     True\n",
       "105    False\n",
       "106     True\n",
       "107     True\n",
       "108     True\n",
       "109     True\n",
       "110    False\n",
       "111     True\n",
       "112     True\n",
       "113     True\n",
       "114     True\n",
       "115     True\n",
       "116     True\n",
       "117     True\n",
       "Name: 最高气温, Length: 118, dtype: bool"
      ]
     },
     "execution_count": 67,
     "metadata": {},
     "output_type": "execute_result"
    }
   ],
   "source": [
    "# 检查重复值，并计算重复值的比例\n",
    "data['最高气温'].duplicated()"
   ]
  },
  {
   "cell_type": "code",
   "execution_count": 69,
   "metadata": {
    "id": "830918BA081E4E35832E0AE22D12EB4B",
    "jupyter": {},
    "slideshow": {
     "slide_type": "slide"
    },
    "tags": []
   },
   "outputs": [],
   "source": [
    "d2=data.drop_duplicates('最高气温') \n",
    "# drop_duplicates删除"
   ]
  },
  {
   "cell_type": "code",
   "execution_count": 70,
   "metadata": {
    "collapsed": true,
    "id": "1738D8A6064142088B8049DBFEDE56B3",
    "jupyter": {},
    "slideshow": {
     "slide_type": "slide"
    },
    "tags": []
   },
   "outputs": [
    {
     "data": {
      "text/html": [
       "<div>\n",
       "<style scoped>\n",
       "    .dataframe tbody tr th:only-of-type {\n",
       "        vertical-align: middle;\n",
       "    }\n",
       "\n",
       "    .dataframe tbody tr th {\n",
       "        vertical-align: top;\n",
       "    }\n",
       "\n",
       "    .dataframe thead th {\n",
       "        text-align: right;\n",
       "    }\n",
       "</style>\n",
       "<table border=\"1\" class=\"dataframe\">\n",
       "  <thead>\n",
       "    <tr style=\"text-align: right;\">\n",
       "      <th></th>\n",
       "      <th>日期</th>\n",
       "      <th>最高气温</th>\n",
       "      <th>最低气温</th>\n",
       "      <th>天气</th>\n",
       "      <th>风向</th>\n",
       "      <th>风力</th>\n",
       "    </tr>\n",
       "  </thead>\n",
       "  <tbody>\n",
       "    <tr>\n",
       "      <th>0</th>\n",
       "      <td>2017-01-01</td>\n",
       "      <td>17</td>\n",
       "      <td>7</td>\n",
       "      <td>晴</td>\n",
       "      <td>西北风</td>\n",
       "      <td>2级</td>\n",
       "    </tr>\n",
       "    <tr>\n",
       "      <th>1</th>\n",
       "      <td>2017-01-02</td>\n",
       "      <td>16</td>\n",
       "      <td>8</td>\n",
       "      <td>多云</td>\n",
       "      <td>东北风</td>\n",
       "      <td>2级</td>\n",
       "    </tr>\n",
       "    <tr>\n",
       "      <th>2</th>\n",
       "      <td>2017-01-03</td>\n",
       "      <td>15</td>\n",
       "      <td>8</td>\n",
       "      <td>多云</td>\n",
       "      <td>东北风</td>\n",
       "      <td>1级</td>\n",
       "    </tr>\n",
       "    <tr>\n",
       "      <th>4</th>\n",
       "      <td>2017-01-05</td>\n",
       "      <td>13</td>\n",
       "      <td>11</td>\n",
       "      <td>小到中雨</td>\n",
       "      <td>北风</td>\n",
       "      <td>2级</td>\n",
       "    </tr>\n",
       "    <tr>\n",
       "      <th>5</th>\n",
       "      <td>2017-01-06</td>\n",
       "      <td>12</td>\n",
       "      <td>10</td>\n",
       "      <td>小雨</td>\n",
       "      <td>东北风</td>\n",
       "      <td>1级</td>\n",
       "    </tr>\n",
       "    <tr>\n",
       "      <th>6</th>\n",
       "      <td>2017-01-07</td>\n",
       "      <td>11</td>\n",
       "      <td>9</td>\n",
       "      <td>中雨</td>\n",
       "      <td>北风</td>\n",
       "      <td>2级</td>\n",
       "    </tr>\n",
       "    <tr>\n",
       "      <th>9</th>\n",
       "      <td>2017-01-10</td>\n",
       "      <td>9</td>\n",
       "      <td>4</td>\n",
       "      <td>多云</td>\n",
       "      <td>北风</td>\n",
       "      <td>1级</td>\n",
       "    </tr>\n",
       "    <tr>\n",
       "      <th>10</th>\n",
       "      <td>2017-01-11</td>\n",
       "      <td>8</td>\n",
       "      <td>5</td>\n",
       "      <td>小雨</td>\n",
       "      <td>北风</td>\n",
       "      <td>1级</td>\n",
       "    </tr>\n",
       "    <tr>\n",
       "      <th>11</th>\n",
       "      <td>2017-01-12</td>\n",
       "      <td>7</td>\n",
       "      <td>4</td>\n",
       "      <td>小雨</td>\n",
       "      <td>西南风</td>\n",
       "      <td>1级</td>\n",
       "    </tr>\n",
       "    <tr>\n",
       "      <th>12</th>\n",
       "      <td>2017-01-13</td>\n",
       "      <td>10</td>\n",
       "      <td>1</td>\n",
       "      <td>多云</td>\n",
       "      <td>北风</td>\n",
       "      <td>1级</td>\n",
       "    </tr>\n",
       "    <tr>\n",
       "      <th>19</th>\n",
       "      <td>2017-01-20</td>\n",
       "      <td>6</td>\n",
       "      <td>-3</td>\n",
       "      <td>晴</td>\n",
       "      <td>东北风</td>\n",
       "      <td>3级</td>\n",
       "    </tr>\n",
       "    <tr>\n",
       "      <th>28</th>\n",
       "      <td>2017-01-29</td>\n",
       "      <td>20</td>\n",
       "      <td>4</td>\n",
       "      <td>多云</td>\n",
       "      <td>北风</td>\n",
       "      <td>3级</td>\n",
       "    </tr>\n",
       "    <tr>\n",
       "      <th>45</th>\n",
       "      <td>2017-02-15</td>\n",
       "      <td>18</td>\n",
       "      <td>7</td>\n",
       "      <td>晴</td>\n",
       "      <td>南风</td>\n",
       "      <td>1级</td>\n",
       "    </tr>\n",
       "    <tr>\n",
       "      <th>46</th>\n",
       "      <td>2017-02-16</td>\n",
       "      <td>19</td>\n",
       "      <td>9</td>\n",
       "      <td>小雨</td>\n",
       "      <td>西南风</td>\n",
       "      <td>2级</td>\n",
       "    </tr>\n",
       "    <tr>\n",
       "      <th>49</th>\n",
       "      <td>2017-02-19</td>\n",
       "      <td>21</td>\n",
       "      <td>7</td>\n",
       "      <td>多云</td>\n",
       "      <td>西南风</td>\n",
       "      <td>3级</td>\n",
       "    </tr>\n",
       "    <tr>\n",
       "      <th>75</th>\n",
       "      <td>2017-03-19</td>\n",
       "      <td>14</td>\n",
       "      <td>10</td>\n",
       "      <td>小雨</td>\n",
       "      <td>东风</td>\n",
       "      <td>1级</td>\n",
       "    </tr>\n",
       "    <tr>\n",
       "      <th>84</th>\n",
       "      <td>2017-03-28</td>\n",
       "      <td>22</td>\n",
       "      <td>12</td>\n",
       "      <td>多云</td>\n",
       "      <td>西南风</td>\n",
       "      <td>3级</td>\n",
       "    </tr>\n",
       "    <tr>\n",
       "      <th>90</th>\n",
       "      <td>2017-04-03</td>\n",
       "      <td>23</td>\n",
       "      <td>12</td>\n",
       "      <td>多云</td>\n",
       "      <td>东风</td>\n",
       "      <td>4级</td>\n",
       "    </tr>\n",
       "    <tr>\n",
       "      <th>91</th>\n",
       "      <td>2017-04-04</td>\n",
       "      <td>25</td>\n",
       "      <td>15</td>\n",
       "      <td>多云</td>\n",
       "      <td>南风</td>\n",
       "      <td>4级</td>\n",
       "    </tr>\n",
       "    <tr>\n",
       "      <th>92</th>\n",
       "      <td>2017-04-05</td>\n",
       "      <td>26</td>\n",
       "      <td>16</td>\n",
       "      <td>阴</td>\n",
       "      <td>北风</td>\n",
       "      <td>4级</td>\n",
       "    </tr>\n",
       "    <tr>\n",
       "      <th>93</th>\n",
       "      <td>2017-04-06</td>\n",
       "      <td>27</td>\n",
       "      <td>18</td>\n",
       "      <td>中雨</td>\n",
       "      <td>东风</td>\n",
       "      <td>4级</td>\n",
       "    </tr>\n",
       "    <tr>\n",
       "      <th>101</th>\n",
       "      <td>2017-04-14</td>\n",
       "      <td>28</td>\n",
       "      <td>16</td>\n",
       "      <td>晴</td>\n",
       "      <td>南风</td>\n",
       "      <td>3级</td>\n",
       "    </tr>\n",
       "    <tr>\n",
       "      <th>102</th>\n",
       "      <td>2017-04-15</td>\n",
       "      <td>31</td>\n",
       "      <td>17</td>\n",
       "      <td>多云</td>\n",
       "      <td>南风</td>\n",
       "      <td>3级</td>\n",
       "    </tr>\n",
       "    <tr>\n",
       "      <th>103</th>\n",
       "      <td>2017-04-16</td>\n",
       "      <td>30</td>\n",
       "      <td>21</td>\n",
       "      <td>阵雨</td>\n",
       "      <td>西南风</td>\n",
       "      <td>4级</td>\n",
       "    </tr>\n",
       "    <tr>\n",
       "      <th>105</th>\n",
       "      <td>2017-04-18</td>\n",
       "      <td>29</td>\n",
       "      <td>16</td>\n",
       "      <td>晴</td>\n",
       "      <td>北风</td>\n",
       "      <td>3级</td>\n",
       "    </tr>\n",
       "    <tr>\n",
       "      <th>110</th>\n",
       "      <td>2017-04-23</td>\n",
       "      <td>24</td>\n",
       "      <td>12</td>\n",
       "      <td>晴</td>\n",
       "      <td>东风</td>\n",
       "      <td>2级</td>\n",
       "    </tr>\n",
       "  </tbody>\n",
       "</table>\n",
       "</div>"
      ],
      "text/plain": [
       "             日期  最高气温  最低气温    天气   风向  风力\n",
       "0    2017-01-01    17     7     晴  西北风  2级\n",
       "1    2017-01-02    16     8    多云  东北风  2级\n",
       "2    2017-01-03    15     8    多云  东北风  1级\n",
       "4    2017-01-05    13    11  小到中雨   北风  2级\n",
       "5    2017-01-06    12    10    小雨  东北风  1级\n",
       "6    2017-01-07    11     9    中雨   北风  2级\n",
       "9    2017-01-10     9     4    多云   北风  1级\n",
       "10   2017-01-11     8     5    小雨   北风  1级\n",
       "11   2017-01-12     7     4    小雨  西南风  1级\n",
       "12   2017-01-13    10     1    多云   北风  1级\n",
       "19   2017-01-20     6    -3     晴  东北风  3级\n",
       "28   2017-01-29    20     4    多云   北风  3级\n",
       "45   2017-02-15    18     7     晴   南风  1级\n",
       "46   2017-02-16    19     9    小雨  西南风  2级\n",
       "49   2017-02-19    21     7    多云  西南风  3级\n",
       "75   2017-03-19    14    10    小雨   东风  1级\n",
       "84   2017-03-28    22    12    多云  西南风  3级\n",
       "90   2017-04-03    23    12    多云   东风  4级\n",
       "91   2017-04-04    25    15    多云   南风  4级\n",
       "92   2017-04-05    26    16     阴   北风  4级\n",
       "93   2017-04-06    27    18    中雨   东风  4级\n",
       "101  2017-04-14    28    16     晴   南风  3级\n",
       "102  2017-04-15    31    17    多云   南风  3级\n",
       "103  2017-04-16    30    21    阵雨  西南风  4级\n",
       "105  2017-04-18    29    16     晴   北风  3级\n",
       "110  2017-04-23    24    12     晴   东风  2级"
      ]
     },
     "execution_count": 70,
     "metadata": {},
     "output_type": "execute_result"
    }
   ],
   "source": [
    "d2"
   ]
  },
  {
   "cell_type": "markdown",
   "metadata": {
    "id": "BEE5661B42294EEFB9409B2119E576AA",
    "jupyter": {},
    "slideshow": {
     "slide_type": "slide"
    },
    "tags": []
   },
   "source": [
    "## 文本字符串的处理"
   ]
  },
  {
   "cell_type": "code",
   "execution_count": 71,
   "metadata": {
    "id": "F01B4402CE01499E8DFAB2C917784ABA",
    "jupyter": {},
    "slideshow": {
     "slide_type": "slide"
    },
    "tags": []
   },
   "outputs": [],
   "source": [
    "import numpy as np\n",
    "import pandas as pd"
   ]
  },
  {
   "cell_type": "code",
   "execution_count": 73,
   "metadata": {
    "id": "F37123EAEDE245E79D561FA85CC6B4E7",
    "jupyter": {},
    "slideshow": {
     "slide_type": "slide"
    },
    "tags": []
   },
   "outputs": [
    {
     "data": {
      "text/html": [
       "<div>\n",
       "<style scoped>\n",
       "    .dataframe tbody tr th:only-of-type {\n",
       "        vertical-align: middle;\n",
       "    }\n",
       "\n",
       "    .dataframe tbody tr th {\n",
       "        vertical-align: top;\n",
       "    }\n",
       "\n",
       "    .dataframe thead th {\n",
       "        text-align: right;\n",
       "    }\n",
       "</style>\n",
       "<table border=\"1\" class=\"dataframe\">\n",
       "  <thead>\n",
       "    <tr style=\"text-align: right;\">\n",
       "      <th></th>\n",
       "      <th>Rank</th>\n",
       "      <th>City</th>\n",
       "      <th>State</th>\n",
       "      <th>Population</th>\n",
       "      <th>Date of census/estimate</th>\n",
       "    </tr>\n",
       "  </thead>\n",
       "  <tbody>\n",
       "    <tr>\n",
       "      <th>0</th>\n",
       "      <td>1</td>\n",
       "      <td>London[2]</td>\n",
       "      <td>United Kingdom</td>\n",
       "      <td>8,615,246</td>\n",
       "      <td>1 June 2014</td>\n",
       "    </tr>\n",
       "    <tr>\n",
       "      <th>1</th>\n",
       "      <td>2</td>\n",
       "      <td>Berlin</td>\n",
       "      <td>Germany</td>\n",
       "      <td>3,437,916</td>\n",
       "      <td>31 May 2014</td>\n",
       "    </tr>\n",
       "    <tr>\n",
       "      <th>2</th>\n",
       "      <td>3</td>\n",
       "      <td>Madrid</td>\n",
       "      <td>Spain</td>\n",
       "      <td>3,165,235</td>\n",
       "      <td>1 January 2014</td>\n",
       "    </tr>\n",
       "    <tr>\n",
       "      <th>3</th>\n",
       "      <td>4</td>\n",
       "      <td>Rome</td>\n",
       "      <td>Italy</td>\n",
       "      <td>2,872,086</td>\n",
       "      <td>30 September 2014</td>\n",
       "    </tr>\n",
       "    <tr>\n",
       "      <th>4</th>\n",
       "      <td>5</td>\n",
       "      <td>Paris</td>\n",
       "      <td>France</td>\n",
       "      <td>2,273,305</td>\n",
       "      <td>1 January 2013</td>\n",
       "    </tr>\n",
       "  </tbody>\n",
       "</table>\n",
       "</div>"
      ],
      "text/plain": [
       "   Rank       City            State Population Date of census/estimate\n",
       "0     1  London[2]   United Kingdom  8,615,246             1 June 2014\n",
       "1     2     Berlin          Germany  3,437,916             31 May 2014\n",
       "2     3     Madrid            Spain  3,165,235          1 January 2014\n",
       "3     4       Rome            Italy  2,872,086       30 September 2014\n",
       "4     5      Paris           France  2,273,305          1 January 2013"
      ]
     },
     "execution_count": 73,
     "metadata": {},
     "output_type": "execute_result"
    }
   ],
   "source": [
    "df_pop=pd.read_csv('./pandas_exercise/pandas data//european_cities.csv')\n",
    "df_pop.head()"
   ]
  },
  {
   "cell_type": "code",
   "execution_count": 75,
   "metadata": {
    "id": "49A3357309D54A3C89D3A9045B6CE984",
    "jupyter": {},
    "slideshow": {
     "slide_type": "slide"
    },
    "tags": []
   },
   "outputs": [
    {
     "name": "stdout",
     "output_type": "stream",
     "text": [
      "<class 'pandas.core.frame.DataFrame'>\n",
      "RangeIndex: 105 entries, 0 to 104\n",
      "Data columns (total 5 columns):\n",
      "Rank                       105 non-null int64\n",
      "City                       105 non-null object\n",
      "State                      105 non-null object\n",
      "Population                 105 non-null object\n",
      "Date of census/estimate    105 non-null object\n",
      "dtypes: int64(1), object(4)\n",
      "memory usage: 4.2+ KB\n"
     ]
    }
   ],
   "source": [
    "df_pop.info()"
   ]
  },
  {
   "cell_type": "markdown",
   "metadata": {
    "id": "9102E512AD6649C68862B95177B89D07",
    "jupyter": {},
    "slideshow": {
     "slide_type": "slide"
    },
    "tags": []
   },
   "source": [
    "### 1 处理中间有，（）之类的数据：replace(',','')"
   ]
  },
  {
   "cell_type": "code",
   "execution_count": 76,
   "metadata": {
    "id": "EAD5349BFA3847649FCB036EB2849D9F",
    "jupyter": {},
    "slideshow": {
     "slide_type": "slide"
    },
    "tags": []
   },
   "outputs": [
    {
     "data": {
      "text/plain": [
       "0    8,615,246\n",
       "1    3,437,916\n",
       "2    3,165,235\n",
       "Name: Population, dtype: object"
      ]
     },
     "execution_count": 76,
     "metadata": {},
     "output_type": "execute_result"
    }
   ],
   "source": [
    "df_pop['Population'][:3]"
   ]
  },
  {
   "cell_type": "code",
   "execution_count": 77,
   "metadata": {},
   "outputs": [
    {
     "data": {
      "text/plain": [
       "'8,615,246'"
      ]
     },
     "execution_count": 77,
     "metadata": {},
     "output_type": "execute_result"
    }
   ],
   "source": [
    "df_pop['Population'][0]"
   ]
  },
  {
   "cell_type": "code",
   "execution_count": 78,
   "metadata": {
    "id": "A3BC2CBCD07E4CAE85B2B0A21E4512DA",
    "jupyter": {},
    "slideshow": {
     "slide_type": "slide"
    },
    "tags": []
   },
   "outputs": [
    {
     "data": {
      "text/plain": [
       "str"
      ]
     },
     "execution_count": 78,
     "metadata": {},
     "output_type": "execute_result"
    }
   ],
   "source": [
    "type(df_pop['Population'][0])  #  字符串类型 "
   ]
  },
  {
   "cell_type": "code",
   "execution_count": 79,
   "metadata": {
    "id": "A51FB9A2893741A9A244EA674002AC64",
    "jupyter": {},
    "slideshow": {
     "slide_type": "slide"
    },
    "tags": []
   },
   "outputs": [
    {
     "data": {
      "text/plain": [
       "8615246"
      ]
     },
     "execution_count": 79,
     "metadata": {},
     "output_type": "execute_result"
    }
   ],
   "source": [
    "int(df_pop['Population'][0].replace(',',''))"
   ]
  },
  {
   "cell_type": "markdown",
   "metadata": {
    "id": "F7EE8180966747E89122D76F36CDE25C",
    "jupyter": {},
    "slideshow": {
     "slide_type": "slide"
    },
    "tags": []
   },
   "source": [
    "实现方法一："
   ]
  },
  {
   "cell_type": "code",
   "execution_count": 80,
   "metadata": {
    "id": "4FD6893DDF8D4CE880BBDE14C98F00FD",
    "jupyter": {},
    "slideshow": {
     "slide_type": "slide"
    },
    "tags": []
   },
   "outputs": [
    {
     "data": {
      "text/plain": [
       "105"
      ]
     },
     "execution_count": 80,
     "metadata": {},
     "output_type": "execute_result"
    }
   ],
   "source": [
    "df_pop.shape[0]  #  多少行 "
   ]
  },
  {
   "cell_type": "code",
   "execution_count": 81,
   "metadata": {
    "id": "5886BFE63003462F8309705DE7304333",
    "jupyter": {},
    "slideshow": {
     "slide_type": "slide"
    },
    "tags": []
   },
   "outputs": [],
   "source": [
    "#方法一：\n",
    "li = []  # 放置最后结果\n",
    "for i in range(df_pop.shape[0]):\n",
    "    li.append(int(df_pop['Population'][i].replace(',','')))"
   ]
  },
  {
   "cell_type": "code",
   "execution_count": 82,
   "metadata": {
    "collapsed": true,
    "id": "C43701DEF0E14B718BC1EEF97B3F5019",
    "jupyter": {},
    "slideshow": {
     "slide_type": "slide"
    },
    "tags": []
   },
   "outputs": [
    {
     "data": {
      "text/plain": [
       "[8615246,\n",
       " 3437916,\n",
       " 3165235,\n",
       " 2872086,\n",
       " 2273305,\n",
       " 1883425,\n",
       " 1794770,\n",
       " 1746342,\n",
       " 1744665,\n",
       " 1729119,\n",
       " 1602386,\n",
       " 1407836,\n",
       " 1332516,\n",
       " 1291895,\n",
       " 1246780,\n",
       " 1175831,\n",
       " 1092330,\n",
       " 1034175,\n",
       " 989845,\n",
       " 909976,\n",
       " 898095,\n",
       " 852516,\n",
       " 813562,\n",
       " 790017,\n",
       " 786424,\n",
       " 760700,\n",
       " 757655,\n",
       " 709757,\n",
       " 701350,\n",
       " 701185,\n",
       " 696676,\n",
       " 677015,\n",
       " 666058,\n",
       " 664046,\n",
       " 632432,\n",
       " 616528,\n",
       " 605523,\n",
       " 604297,\n",
       " 596550,\n",
       " 594774,\n",
       " 593682,\n",
       " 575944,\n",
       " 569884,\n",
       " 566913,\n",
       " 559440,\n",
       " 557382,\n",
       " 547631,\n",
       " 547161,\n",
       " 546451,\n",
       " 537152,\n",
       " 531562,\n",
       " 530754,\n",
       " 528014,\n",
       " 527612,\n",
       " 524619,\n",
       " 514137,\n",
       " 510909,\n",
       " 510772,\n",
       " 510610,\n",
       " 495360,\n",
       " 495121,\n",
       " 486816,\n",
       " 484344,\n",
       " 469690,\n",
       " 460354,\n",
       " 441802,\n",
       " 441354,\n",
       " 434810,\n",
       " 432451,\n",
       " 417389,\n",
       " 409211,\n",
       " 407648,\n",
       " 384202,\n",
       " 382296,\n",
       " 377207,\n",
       " 378327,\n",
       " 362286,\n",
       " 362213,\n",
       " 351629,\n",
       " 348493,\n",
       " 348120,\n",
       " 343304,\n",
       " 342885,\n",
       " 341041,\n",
       " 335819,\n",
       " 334678,\n",
       " 331606,\n",
       " 330772,\n",
       " 328841,\n",
       " 328314,\n",
       " 327627,\n",
       " 326676,\n",
       " 324576,\n",
       " 323132,\n",
       " 322751,\n",
       " 322240,\n",
       " 320229,\n",
       " 319279,\n",
       " 315576,\n",
       " 311501,\n",
       " 309869,\n",
       " 309105,\n",
       " 308735,\n",
       " 308269,\n",
       " 306888]"
      ]
     },
     "execution_count": 82,
     "metadata": {},
     "output_type": "execute_result"
    }
   ],
   "source": [
    "li"
   ]
  },
  {
   "cell_type": "code",
   "execution_count": 83,
   "metadata": {
    "id": "E16902F6B5D64FA28E518339F7DDF697",
    "jupyter": {},
    "slideshow": {
     "slide_type": "slide"
    },
    "tags": []
   },
   "outputs": [],
   "source": [
    "df_pop['Pop'] = li"
   ]
  },
  {
   "cell_type": "code",
   "execution_count": 84,
   "metadata": {
    "id": "03DB92977B8A4BF380A50903BD859BD5",
    "jupyter": {},
    "slideshow": {
     "slide_type": "slide"
    },
    "tags": []
   },
   "outputs": [
    {
     "name": "stdout",
     "output_type": "stream",
     "text": [
      "<class 'pandas.core.frame.DataFrame'>\n",
      "RangeIndex: 105 entries, 0 to 104\n",
      "Data columns (total 6 columns):\n",
      "Rank                       105 non-null int64\n",
      "City                       105 non-null object\n",
      "State                      105 non-null object\n",
      "Population                 105 non-null object\n",
      "Date of census/estimate    105 non-null object\n",
      "Pop                        105 non-null int64\n",
      "dtypes: int64(2), object(4)\n",
      "memory usage: 5.0+ KB\n"
     ]
    }
   ],
   "source": [
    "df_pop.info()"
   ]
  },
  {
   "cell_type": "code",
   "execution_count": 85,
   "metadata": {
    "id": "9DFA00041363428090C670A43A228DE5",
    "jupyter": {},
    "slideshow": {
     "slide_type": "slide"
    },
    "tags": []
   },
   "outputs": [
    {
     "data": {
      "text/html": [
       "<div>\n",
       "<style scoped>\n",
       "    .dataframe tbody tr th:only-of-type {\n",
       "        vertical-align: middle;\n",
       "    }\n",
       "\n",
       "    .dataframe tbody tr th {\n",
       "        vertical-align: top;\n",
       "    }\n",
       "\n",
       "    .dataframe thead th {\n",
       "        text-align: right;\n",
       "    }\n",
       "</style>\n",
       "<table border=\"1\" class=\"dataframe\">\n",
       "  <thead>\n",
       "    <tr style=\"text-align: right;\">\n",
       "      <th></th>\n",
       "      <th>Rank</th>\n",
       "      <th>City</th>\n",
       "      <th>State</th>\n",
       "      <th>Population</th>\n",
       "      <th>Date of census/estimate</th>\n",
       "      <th>Pop</th>\n",
       "    </tr>\n",
       "  </thead>\n",
       "  <tbody>\n",
       "    <tr>\n",
       "      <th>0</th>\n",
       "      <td>1</td>\n",
       "      <td>London[2]</td>\n",
       "      <td>United Kingdom</td>\n",
       "      <td>8,615,246</td>\n",
       "      <td>1 June 2014</td>\n",
       "      <td>8615246</td>\n",
       "    </tr>\n",
       "    <tr>\n",
       "      <th>1</th>\n",
       "      <td>2</td>\n",
       "      <td>Berlin</td>\n",
       "      <td>Germany</td>\n",
       "      <td>3,437,916</td>\n",
       "      <td>31 May 2014</td>\n",
       "      <td>3437916</td>\n",
       "    </tr>\n",
       "    <tr>\n",
       "      <th>2</th>\n",
       "      <td>3</td>\n",
       "      <td>Madrid</td>\n",
       "      <td>Spain</td>\n",
       "      <td>3,165,235</td>\n",
       "      <td>1 January 2014</td>\n",
       "      <td>3165235</td>\n",
       "    </tr>\n",
       "    <tr>\n",
       "      <th>3</th>\n",
       "      <td>4</td>\n",
       "      <td>Rome</td>\n",
       "      <td>Italy</td>\n",
       "      <td>2,872,086</td>\n",
       "      <td>30 September 2014</td>\n",
       "      <td>2872086</td>\n",
       "    </tr>\n",
       "    <tr>\n",
       "      <th>4</th>\n",
       "      <td>5</td>\n",
       "      <td>Paris</td>\n",
       "      <td>France</td>\n",
       "      <td>2,273,305</td>\n",
       "      <td>1 January 2013</td>\n",
       "      <td>2273305</td>\n",
       "    </tr>\n",
       "  </tbody>\n",
       "</table>\n",
       "</div>"
      ],
      "text/plain": [
       "   Rank       City            State Population Date of census/estimate  \\\n",
       "0     1  London[2]   United Kingdom  8,615,246             1 June 2014   \n",
       "1     2     Berlin          Germany  3,437,916             31 May 2014   \n",
       "2     3     Madrid            Spain  3,165,235          1 January 2014   \n",
       "3     4       Rome            Italy  2,872,086       30 September 2014   \n",
       "4     5      Paris           France  2,273,305          1 January 2013   \n",
       "\n",
       "       Pop  \n",
       "0  8615246  \n",
       "1  3437916  \n",
       "2  3165235  \n",
       "3  2872086  \n",
       "4  2273305  "
      ]
     },
     "execution_count": 85,
     "metadata": {},
     "output_type": "execute_result"
    }
   ],
   "source": [
    "df_pop.head()"
   ]
  },
  {
   "cell_type": "markdown",
   "metadata": {
    "id": "145980A91D924F2E9EB5724BDF5EADC0",
    "jupyter": {},
    "slideshow": {
     "slide_type": "slide"
    },
    "tags": []
   },
   "source": [
    "实现方法二："
   ]
  },
  {
   "cell_type": "code",
   "execution_count": 86,
   "metadata": {
    "collapsed": true,
    "id": "CD0410D6EB2B47BD86256291EF1CC76B",
    "jupyter": {},
    "slideshow": {
     "slide_type": "slide"
    },
    "tags": []
   },
   "outputs": [
    {
     "data": {
      "text/plain": [
       "0      8615246\n",
       "1      3437916\n",
       "2      3165235\n",
       "3      2872086\n",
       "4      2273305\n",
       "5      1883425\n",
       "6      1794770\n",
       "7      1746342\n",
       "8      1744665\n",
       "9      1729119\n",
       "10     1602386\n",
       "11     1407836\n",
       "12     1332516\n",
       "13     1291895\n",
       "14     1246780\n",
       "15     1175831\n",
       "16     1092330\n",
       "17     1034175\n",
       "18      989845\n",
       "19      909976\n",
       "20      898095\n",
       "21      852516\n",
       "22      813562\n",
       "23      790017\n",
       "24      786424\n",
       "25      760700\n",
       "26      757655\n",
       "27      709757\n",
       "28      701350\n",
       "29      701185\n",
       "        ...   \n",
       "75      378327\n",
       "76      362286\n",
       "77      362213\n",
       "78      351629\n",
       "79      348493\n",
       "80      348120\n",
       "81      343304\n",
       "82      342885\n",
       "83      341041\n",
       "84      335819\n",
       "85      334678\n",
       "86      331606\n",
       "87      330772\n",
       "88      328841\n",
       "89      328314\n",
       "90      327627\n",
       "91      326676\n",
       "92      324576\n",
       "93      323132\n",
       "94      322751\n",
       "95      322240\n",
       "96      320229\n",
       "97      319279\n",
       "98      315576\n",
       "99      311501\n",
       "100     309869\n",
       "101     309105\n",
       "102     308735\n",
       "103     308269\n",
       "104     306888\n",
       "Name: Population, Length: 105, dtype: int64"
      ]
     },
     "execution_count": 86,
     "metadata": {},
     "output_type": "execute_result"
    }
   ],
   "source": [
    "df_pop['Population'].apply(lambda x:int(x.replace(',','')))"
   ]
  },
  {
   "cell_type": "code",
   "execution_count": 87,
   "metadata": {
    "id": "DB11D5EE12344BFDBF39C71D5098F720",
    "jupyter": {},
    "slideshow": {
     "slide_type": "slide"
    },
    "tags": []
   },
   "outputs": [],
   "source": [
    "# 将每一行字符串进行替换处理，将，替换为空\n",
    "df_pop['substr']=df_pop['Population'].apply(lambda x:int(x.replace(',','')))\n",
    "# lambda相当于函数\n",
    "# def rep(x):\n",
    "#     return x.replace(',','')\n",
    "# apply 循环"
   ]
  },
  {
   "cell_type": "code",
   "execution_count": 88,
   "metadata": {
    "id": "6606CA14F4D34776B5E0324648EAF9AE",
    "jupyter": {},
    "slideshow": {
     "slide_type": "slide"
    },
    "tags": []
   },
   "outputs": [
    {
     "data": {
      "text/html": [
       "<div>\n",
       "<style scoped>\n",
       "    .dataframe tbody tr th:only-of-type {\n",
       "        vertical-align: middle;\n",
       "    }\n",
       "\n",
       "    .dataframe tbody tr th {\n",
       "        vertical-align: top;\n",
       "    }\n",
       "\n",
       "    .dataframe thead th {\n",
       "        text-align: right;\n",
       "    }\n",
       "</style>\n",
       "<table border=\"1\" class=\"dataframe\">\n",
       "  <thead>\n",
       "    <tr style=\"text-align: right;\">\n",
       "      <th></th>\n",
       "      <th>Rank</th>\n",
       "      <th>City</th>\n",
       "      <th>State</th>\n",
       "      <th>Population</th>\n",
       "      <th>Date of census/estimate</th>\n",
       "      <th>Pop</th>\n",
       "      <th>substr</th>\n",
       "    </tr>\n",
       "  </thead>\n",
       "  <tbody>\n",
       "    <tr>\n",
       "      <th>0</th>\n",
       "      <td>1</td>\n",
       "      <td>London[2]</td>\n",
       "      <td>United Kingdom</td>\n",
       "      <td>8,615,246</td>\n",
       "      <td>1 June 2014</td>\n",
       "      <td>8615246</td>\n",
       "      <td>8615246</td>\n",
       "    </tr>\n",
       "    <tr>\n",
       "      <th>1</th>\n",
       "      <td>2</td>\n",
       "      <td>Berlin</td>\n",
       "      <td>Germany</td>\n",
       "      <td>3,437,916</td>\n",
       "      <td>31 May 2014</td>\n",
       "      <td>3437916</td>\n",
       "      <td>3437916</td>\n",
       "    </tr>\n",
       "    <tr>\n",
       "      <th>2</th>\n",
       "      <td>3</td>\n",
       "      <td>Madrid</td>\n",
       "      <td>Spain</td>\n",
       "      <td>3,165,235</td>\n",
       "      <td>1 January 2014</td>\n",
       "      <td>3165235</td>\n",
       "      <td>3165235</td>\n",
       "    </tr>\n",
       "    <tr>\n",
       "      <th>3</th>\n",
       "      <td>4</td>\n",
       "      <td>Rome</td>\n",
       "      <td>Italy</td>\n",
       "      <td>2,872,086</td>\n",
       "      <td>30 September 2014</td>\n",
       "      <td>2872086</td>\n",
       "      <td>2872086</td>\n",
       "    </tr>\n",
       "    <tr>\n",
       "      <th>4</th>\n",
       "      <td>5</td>\n",
       "      <td>Paris</td>\n",
       "      <td>France</td>\n",
       "      <td>2,273,305</td>\n",
       "      <td>1 January 2013</td>\n",
       "      <td>2273305</td>\n",
       "      <td>2273305</td>\n",
       "    </tr>\n",
       "  </tbody>\n",
       "</table>\n",
       "</div>"
      ],
      "text/plain": [
       "   Rank       City            State Population Date of census/estimate  \\\n",
       "0     1  London[2]   United Kingdom  8,615,246             1 June 2014   \n",
       "1     2     Berlin          Germany  3,437,916             31 May 2014   \n",
       "2     3     Madrid            Spain  3,165,235          1 January 2014   \n",
       "3     4       Rome            Italy  2,872,086       30 September 2014   \n",
       "4     5      Paris           France  2,273,305          1 January 2013   \n",
       "\n",
       "       Pop   substr  \n",
       "0  8615246  8615246  \n",
       "1  3437916  3437916  \n",
       "2  3165235  3165235  \n",
       "3  2872086  2872086  \n",
       "4  2273305  2273305  "
      ]
     },
     "execution_count": 88,
     "metadata": {},
     "output_type": "execute_result"
    }
   ],
   "source": [
    "df_pop.head()"
   ]
  },
  {
   "cell_type": "markdown",
   "metadata": {
    "id": "99A4B03B35E540CEA1669B9B8D91928A",
    "jupyter": {},
    "slideshow": {
     "slide_type": "slide"
    },
    "tags": []
   },
   "source": [
    "### 通常对文本型数据进行去除前后空格处理：strip()"
   ]
  },
  {
   "cell_type": "code",
   "execution_count": 89,
   "metadata": {
    "id": "47C3237BA2234AC8981117387C473ECC",
    "jupyter": {},
    "slideshow": {
     "slide_type": "slide"
    },
    "tags": []
   },
   "outputs": [
    {
     "data": {
      "text/plain": [
       "Index(['Rank', 'City', 'State', 'Population', 'Date of census/estimate', 'Pop',\n",
       "       'substr'],\n",
       "      dtype='object')"
      ]
     },
     "execution_count": 89,
     "metadata": {},
     "output_type": "execute_result"
    }
   ],
   "source": [
    "df_pop.columns"
   ]
  },
  {
   "cell_type": "code",
   "execution_count": 92,
   "metadata": {
    "id": "982FE0B87D2A47BF836BA7A540DFAC99",
    "jupyter": {},
    "slideshow": {
     "slide_type": "slide"
    },
    "tags": []
   },
   "outputs": [
    {
     "data": {
      "text/plain": [
       "array([' United Kingdom', ' Germany', ' Spain', ' Italy', ' France',\n",
       "       ' Romania', ' Austria', ' Germany', ' Hungary', ' Poland',\n",
       "       ' Spain', ' Germany', ' Italy', ' Bulgaria', ' Czech Republic',\n",
       "       ' Belgium', ' United Kingdom', ' Germany', ' Italy', ' Sweden',\n",
       "       ' Italy', ' France', ' Netherlands', ' Croatia', ' Spain',\n",
       "       ' Poland', ' United Kingdom', ' Poland', ' Germany', ' Latvia',\n",
       "       ' Spain', ' Italy', ' Spain', ' Greece', ' Poland', ' Netherlands',\n",
       "       ' Finland', ' Germany', ' United Kingdom', ' Italy', ' Germany',\n",
       "       ' Germany', ' Germany', ' Spain', ' Denmark', ' United Kingdom',\n",
       "       ' Portugal', ' Poland', ' Germany', ' Lithuania', ' Germany',\n",
       "       ' Germany', ' Sweden', ' Ireland', ' United Kingdom', ' Germany',\n",
       "       ' Netherlands', ' United Kingdom', ' Belgium', ' United Kingdom',\n",
       "       ' Germany', ' Germany', ' France', ' United Kingdom', ' Poland',\n",
       "       ' France', ' Spain', ' Estonia', ' United Kingdom',\n",
       "       'Slovakia Slovak Republic', ' Poland', ' Spain', ' Italy',\n",
       "       ' Spain', ' Italy', ' Czech Republic', ' Poland', ' Germany',\n",
       "       ' Spain', ' United Kingdom', ' Poland', ' France', ' Germany',\n",
       "       ' Bulgaria', ' Bulgaria', ' Spain', ' United Kingdom',\n",
       "       ' Netherlands', ' Spain', ' Germany', ' United Kingdom',\n",
       "       ' Denmark', ' Romania', ' United Kingdom', ' Italy', ' Greece',\n",
       "       ' United Kingdom', ' Romania', ' Italy', ' Spain', ' Germany',\n",
       "       ' Sweden', ' United Kingdom', ' Poland', ' Lithuania'],\n",
       "      dtype=object)"
      ]
     },
     "execution_count": 92,
     "metadata": {},
     "output_type": "execute_result"
    }
   ],
   "source": [
    "df_pop['State'].values"
   ]
  },
  {
   "cell_type": "code",
   "execution_count": 93,
   "metadata": {},
   "outputs": [
    {
     "data": {
      "text/plain": [
       "' United Kingdom'"
      ]
     },
     "execution_count": 93,
     "metadata": {},
     "output_type": "execute_result"
    }
   ],
   "source": [
    "df_pop['State'][0]"
   ]
  },
  {
   "cell_type": "code",
   "execution_count": 91,
   "metadata": {
    "id": "D8FCE4595F3648B697606BCE8B0D88A8",
    "jupyter": {},
    "slideshow": {
     "slide_type": "slide"
    },
    "tags": []
   },
   "outputs": [
    {
     "data": {
      "text/plain": [
       "'United Kingdom'"
      ]
     },
     "execution_count": 91,
     "metadata": {},
     "output_type": "execute_result"
    }
   ],
   "source": [
    "df_pop['State'][0].strip() \n",
    "# strip的功能去除 默认为空格或换行符"
   ]
  },
  {
   "cell_type": "code",
   "execution_count": 94,
   "metadata": {
    "collapsed": true,
    "id": "29E4E0AEF427403481FC62D7575B60C6",
    "jupyter": {},
    "slideshow": {
     "slide_type": "slide"
    },
    "tags": []
   },
   "outputs": [
    {
     "data": {
      "text/plain": [
       "0      United Kingdom\n",
       "1             Germany\n",
       "2               Spain\n",
       "3               Italy\n",
       "4              France\n",
       "5             Romania\n",
       "6             Austria\n",
       "7             Germany\n",
       "8             Hungary\n",
       "9              Poland\n",
       "10              Spain\n",
       "11            Germany\n",
       "12              Italy\n",
       "13           Bulgaria\n",
       "14     Czech Republic\n",
       "15            Belgium\n",
       "16     United Kingdom\n",
       "17            Germany\n",
       "18              Italy\n",
       "19             Sweden\n",
       "20              Italy\n",
       "21             France\n",
       "22        Netherlands\n",
       "23            Croatia\n",
       "24              Spain\n",
       "25             Poland\n",
       "26     United Kingdom\n",
       "27             Poland\n",
       "28            Germany\n",
       "29             Latvia\n",
       "            ...      \n",
       "75     Czech Republic\n",
       "76             Poland\n",
       "77            Germany\n",
       "78              Spain\n",
       "79     United Kingdom\n",
       "80             Poland\n",
       "81             France\n",
       "82            Germany\n",
       "83           Bulgaria\n",
       "84           Bulgaria\n",
       "85              Spain\n",
       "86     United Kingdom\n",
       "87        Netherlands\n",
       "88              Spain\n",
       "89            Germany\n",
       "90     United Kingdom\n",
       "91            Denmark\n",
       "92            Romania\n",
       "93     United Kingdom\n",
       "94              Italy\n",
       "95             Greece\n",
       "96     United Kingdom\n",
       "97            Romania\n",
       "98              Italy\n",
       "99              Spain\n",
       "100           Germany\n",
       "101            Sweden\n",
       "102    United Kingdom\n",
       "103            Poland\n",
       "104         Lithuania\n",
       "Name: State, Length: 105, dtype: object"
      ]
     },
     "execution_count": 94,
     "metadata": {},
     "output_type": "execute_result"
    }
   ],
   "source": [
    "str_stri=df_pop['State'].apply(lambda x: x.strip())  # 统统整改 \n",
    "str_stri"
   ]
  },
  {
   "cell_type": "code",
   "execution_count": 95,
   "metadata": {
    "id": "173EC224EC64466BA242957118C123F4",
    "jupyter": {},
    "slideshow": {
     "slide_type": "slide"
    },
    "tags": []
   },
   "outputs": [],
   "source": [
    "df_pop['State']=str_stri \n",
    "# 替换掉原来的国家名"
   ]
  },
  {
   "cell_type": "code",
   "execution_count": 96,
   "metadata": {
    "id": "16684F209B3D42908E85CABAB09ECE80",
    "jupyter": {},
    "slideshow": {
     "slide_type": "slide"
    },
    "tags": []
   },
   "outputs": [
    {
     "data": {
      "text/plain": [
       "array(['United Kingdom', 'Germany', 'Spain', 'Italy', 'France', 'Romania',\n",
       "       'Austria', 'Germany', 'Hungary', 'Poland', 'Spain', 'Germany',\n",
       "       'Italy', 'Bulgaria', 'Czech Republic', 'Belgium', 'United Kingdom',\n",
       "       'Germany', 'Italy', 'Sweden', 'Italy', 'France', 'Netherlands',\n",
       "       'Croatia', 'Spain', 'Poland', 'United Kingdom', 'Poland',\n",
       "       'Germany', 'Latvia', 'Spain', 'Italy', 'Spain', 'Greece', 'Poland',\n",
       "       'Netherlands', 'Finland', 'Germany', 'United Kingdom', 'Italy',\n",
       "       'Germany', 'Germany', 'Germany', 'Spain', 'Denmark',\n",
       "       'United Kingdom', 'Portugal', 'Poland', 'Germany', 'Lithuania',\n",
       "       'Germany', 'Germany', 'Sweden', 'Ireland', 'United Kingdom',\n",
       "       'Germany', 'Netherlands', 'United Kingdom', 'Belgium',\n",
       "       'United Kingdom', 'Germany', 'Germany', 'France', 'United Kingdom',\n",
       "       'Poland', 'France', 'Spain', 'Estonia', 'United Kingdom',\n",
       "       'Slovakia Slovak Republic', 'Poland', 'Spain', 'Italy', 'Spain',\n",
       "       'Italy', 'Czech Republic', 'Poland', 'Germany', 'Spain',\n",
       "       'United Kingdom', 'Poland', 'France', 'Germany', 'Bulgaria',\n",
       "       'Bulgaria', 'Spain', 'United Kingdom', 'Netherlands', 'Spain',\n",
       "       'Germany', 'United Kingdom', 'Denmark', 'Romania',\n",
       "       'United Kingdom', 'Italy', 'Greece', 'United Kingdom', 'Romania',\n",
       "       'Italy', 'Spain', 'Germany', 'Sweden', 'United Kingdom', 'Poland',\n",
       "       'Lithuania'], dtype=object)"
      ]
     },
     "execution_count": 96,
     "metadata": {},
     "output_type": "execute_result"
    }
   ],
   "source": [
    "df_pop['State'].values"
   ]
  },
  {
   "cell_type": "code",
   "execution_count": null,
   "metadata": {
    "id": "FCE6D1B9849D4F6E991516C2C7E2D928",
    "jupyter": {},
    "slideshow": {
     "slide_type": "slide"
    },
    "tags": []
   },
   "outputs": [],
   "source": []
  }
 ],
 "metadata": {
  "kernelspec": {
   "display_name": "Python 3",
   "language": "python",
   "name": "python3"
  },
  "language_info": {
   "codemirror_mode": {
    "name": "ipython",
    "version": 3
   },
   "file_extension": ".py",
   "mimetype": "text/x-python",
   "name": "python",
   "nbconvert_exporter": "python",
   "pygments_lexer": "ipython3",
   "version": "3.7.3"
  }
 },
 "nbformat": 4,
 "nbformat_minor": 4
}
